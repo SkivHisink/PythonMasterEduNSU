{
 "cells": [
  {
   "attachments": {},
   "cell_type": "markdown",
   "metadata": {},
   "source": [
    "0. Напишите функцию, которая принимает на вход целое число и выводящую на экран строчку \"Привет контрольная\" n раз подряд и ничего не возвращающую"
   ]
  },
  {
   "cell_type": "code",
   "execution_count": 10,
   "metadata": {},
   "outputs": [
    {
     "name": "stdout",
     "output_type": "stream",
     "text": [
      "Привет контрольная\n",
      "Привет контрольная\n",
      "Привет контрольная\n",
      "Привет контрольная\n",
      "Привет контрольная\n"
     ]
    }
   ],
   "source": [
    "def print_massage(n, massage = \"Привет контрольная\"):\n",
    "    if isinstance(n, int): # проверяем на целочисленность\n",
    "        for _ in range(n):\n",
    "            print(massage)\n",
    "\n",
    "# Example\n",
    "print_massage(5)"
   ]
  },
  {
   "attachments": {},
   "cell_type": "markdown",
   "metadata": {},
   "source": [
    "1. Напишите функцию, которая принимает на вход список строк и возвращает новый список из цифр, которые были в списке. Функция не должна ничего печатать (выводить на экран)"
   ]
  },
  {
   "cell_type": "code",
   "execution_count": 7,
   "metadata": {},
   "outputs": [
    {
     "name": "stdout",
     "output_type": "stream",
     "text": [
      "['1', '2', '3', '4', '5', '6', '3', '1', '4']\n"
     ]
    }
   ],
   "source": [
    "# \n",
    "def extract_digits(strings):\n",
    "    result = []\n",
    "    if isinstance(strings, list):\n",
    "        for string in strings:\n",
    "            for char in string:\n",
    "                if char.isdigit():\n",
    "                    result.append(char)\n",
    "    return result\n",
    "\n",
    "strings = [\"Hello\", \"World\", \"123\", \"456\", \"3.14\"]\n",
    "result = extract_digits(strings)\n",
    "print(result) "
   ]
  },
  {
   "attachments": {},
   "cell_type": "markdown",
   "metadata": {},
   "source": [
    "2. Напишите функцию, которая принимает на вход список строк и возвращает отсортированный по алфавиту список строк, которые встречаются более 1 раза. Функция не должна ничего печатать (выводить на экран)."
   ]
  },
  {
   "cell_type": "code",
   "execution_count": 9,
   "metadata": {},
   "outputs": [
    {
     "name": "stdout",
     "output_type": "stream",
     "text": [
      "['he', 'it', 'she', 'they']\n"
     ]
    }
   ],
   "source": [
    "def find_individual(strings):\n",
    "    result = []\n",
    "    if isinstance(strings, list):\n",
    "        for string in set(strings):\n",
    "            if isinstance(string, str):\n",
    "                result.append(string)\n",
    "    return sorted(result)\n",
    "\n",
    "strings = [\"it\", \"he\", \"she\", \"she\", \"it\", \"they\", \"it\", \"she\"]\n",
    "result = find_individual(strings)\n",
    "print(result) "
   ]
  },
  {
   "attachments": {},
   "cell_type": "markdown",
   "metadata": {},
   "source": [
    "3. Напишите функцию, которая принимает на вход два аргумента: текст (строка) и код действия (целое число)в случае, если код равен 1, текст возвращается \"как есть\", без изменений в случае, если код равен 2, текст возвращается в предобработанном виде: в нижнем регистре, без лишних пробелов в начале и в конце. Функция не должна ничего печатать (выводить на экран)."
   ]
  },
  {
   "cell_type": "code",
   "execution_count": 11,
   "metadata": {},
   "outputs": [
    {
     "name": "stdout",
     "output_type": "stream",
     "text": [
      "                                           Hello World!   \n",
      "hello world!\n"
     ]
    }
   ],
   "source": [
    "def refactor_text(text, action_code):\n",
    "    if action_code == 1:\n",
    "        return text\n",
    "    elif action_code == 2:\n",
    "        return text.strip().lower()\n",
    "    else:\n",
    "        return \"Invalid action code\"\n",
    "    \n",
    "text = \"                                           Hello World!   \"\n",
    "# 1\n",
    "result = refactor_text(text, 1)\n",
    "print(result)\n",
    "# 2\n",
    "result = refactor_text(text, 2)\n",
    "print(result) "
   ]
  },
  {
   "attachments": {},
   "cell_type": "markdown",
   "metadata": {},
   "source": [
    "4. Напишите программу, которая запрашивает у пользователя его баллы в дипломе через пробел и выводит на экран сводную информацию: средний , минимальный и максимальный баллы, словарь с парами тип оценки-число таких оценок. Использовать встроенную функции mean(), min(), max() нельзя!"
   ]
  },
  {
   "cell_type": "code",
   "execution_count": 15,
   "metadata": {},
   "outputs": [
    {
     "name": "stdout",
     "output_type": "stream",
     "text": [
      "Average score:3.5714285714285716\n",
      "Minimum score: 1\n",
      "Maximum score: 5\n",
      "Mark count: {1: 5, 2: 2, 3: 1, 4: 2, 5: 11}\n"
     ]
    }
   ],
   "source": [
    "# \n",
    "def calculate_summary(scores):\n",
    "    if(len(scores) == 0):\n",
    "        raise Exception(\"Something wrong with your input\")\n",
    "    total_scores = 0\n",
    "    min_val = float('inf') # обычно используется для очень больших значений\n",
    "    max_val = float('-inf')\n",
    "    marks_dict = {}\n",
    "\n",
    "    for score in scores:\n",
    "        score = int(score)\n",
    "        total_scores += score\n",
    "        if score < min_val:\n",
    "            min_val = score\n",
    "        if score > max_val:\n",
    "            max_val = score\n",
    "        if score in marks_dict:\n",
    "            marks_dict[score] += 1\n",
    "        else:\n",
    "            marks_dict[score] = 1\n",
    "\n",
    "    avg_val = total_scores / len(scores)\n",
    "\n",
    "    return avg_val, min_val, max_val, marks_dict\n",
    "\n",
    "user_input = input(\"Enter the scores separated by a space: \")\n",
    "score_list = user_input.split()\n",
    "\n",
    "avg_val, min_val, max_val, marks_dict = calculate_summary(score_list)\n",
    "print(f\"Your input: {score_list}\")\n",
    "print(f\"Average score:{avg_val}\")\n",
    "print(f\"Minimum score: {min_val}\")\n",
    "print(f\"Maximum score: {max_val}\")\n",
    "print(f\"Mark count: {marks_dict}\")"
   ]
  },
  {
   "attachments": {},
   "cell_type": "markdown",
   "metadata": {},
   "source": [
    "5. В зоопарке цена входного билета зависит от возраста посетителя. Дети до двух лет допускаются бесплатно. Дети в возрасте от трех до 12 лет могут посещать зоопарк за $14,00. Пенсионерам старше 65 лет вход обойдется в $18,00, а обычный взрослый билет стоит $23,00. Напишите программу, которая будет запрашивать возраст всех посетителей в группе (по одному за раз) и выводить общую цену билетов для посещения зоопарка этой группой. В качестве индикатора окончания ввода используем 0."
   ]
  },
  {
   "cell_type": "code",
   "execution_count": 19,
   "metadata": {},
   "outputs": [
    {
     "name": "stdout",
     "output_type": "stream",
     "text": [
      "Total ticket price for the group: $60\n"
     ]
    }
   ],
   "source": [
    "# \n",
    "def calculate_group_price():\n",
    "    total_price = 0.0\n",
    "    while True:\n",
    "        age = int(input(\"Enter visitor's age (or 0 to finish): \"))\n",
    "        if age == 0:\n",
    "            break\n",
    "        ticket_price = 0.0\n",
    "        if age < 2:\n",
    "            ticket_price = 0\n",
    "        elif age <= 12:\n",
    "            ticket_price = 14\n",
    "        elif age <= 65:\n",
    "            ticket_price = 23\n",
    "        else:\n",
    "            ticket_price = 18\n",
    "        total_price += ticket_price\n",
    "\n",
    "    return total_price\n",
    "\n",
    "total_price = calculate_group_price()\n",
    "print(f\"Total ticket price for the group: ${total_price}\")"
   ]
  },
  {
   "attachments": {},
   "cell_type": "markdown",
   "metadata": {},
   "source": [
    "Создайте словарь prods, записи в котором представляют собой пары товар-стоимость."
   ]
  },
  {
   "cell_type": "code",
   "execution_count": 23,
   "metadata": {},
   "outputs": [
    {
     "name": "stdout",
     "output_type": "stream",
     "text": [
      "{'Пиво Жигулёвское': 100.99, 'Чай гринфилд': 89.99, 'Сухарики Клинские': 57.99}\n"
     ]
    }
   ],
   "source": [
    "prods = { \"Пиво Жигулёвское\": 100.99, \"Чай гринфилд\": 89.99, \"Сухарики Клинские\": 57.99}\n",
    "\n",
    "print(prods)"
   ]
  },
  {
   "attachments": {},
   "cell_type": "markdown",
   "metadata": {},
   "source": [
    "6. Напишите программу, которая просит пользователя ввести число ‒ имеющуюся у него сумму денег, затем перечень товаров, какие он хочет купить (через запятую, без пробелов), и в случае, если имеющихся средств достаточно, программа выдает сообщение вида \"Отлично! Ваша сдача n рублей.\" в случае, если имеющихся средств недостаточно, программа выдает сообщение вида \"Не достаточно средств. Не хватает n рублей. \" Если ошибка только в регистре (пользователь ввел ШоколаД вместо шоколад), программа должна понимать, что имел в виду пользователь, то есть работать без ошибок. Если какое-то название введено с ошибкой (или такого наименования нет в словаре), на экран должно выводиться сообщение вида \"Проверьте название X. Такого товара нет в магазине\" и исполнение программы должно останавливаться."
   ]
  },
  {
   "cell_type": "code",
   "execution_count": 30,
   "metadata": {},
   "outputs": [
    {
     "name": "stdout",
     "output_type": "stream",
     "text": [
      "Твоя сдача 0.01 руб.\n"
     ]
    }
   ],
   "source": [
    "# \n",
    "\n",
    "prods = { \"пиво жигулёвское\": 100.99, \"чай гринфилд\": 89.99, \"сухарики клинские\": 57.99}\n",
    "\n",
    "def check_what_available(money, goods):\n",
    "\n",
    "    total_price = 0\n",
    "    for good in goods:\n",
    "        good_s = good.lower() \n",
    "        if good_s in prods:\n",
    "            total_price += prods[good_s]\n",
    "        else:\n",
    "            print(f\"Проверьте название {good}. Такого товара нет в магазине\")\n",
    "            return\n",
    "    if total_price <= money:\n",
    "        change = money - total_price\n",
    "        print(f\"Твоя сдача {round(change, 2)} руб.\")\n",
    "    else:\n",
    "        required_funds = total_price - money\n",
    "        print(f\"Не хватает денег. Ничего тебе не продам! \\\n",
    "              Ищи ещё {round(required_funds, 2)} рублей.\")\n",
    "\n",
    "money = float(input(\"Enter the amount of money you have: \"))\n",
    "\n",
    "goods = input(\"Enter the goods you want to buy (separated by comma): \")\n",
    "splitted_goods = goods.split(\",\")\n",
    "\n",
    "check_what_available(money, splitted_goods)"
   ]
  },
  {
   "attachments": {},
   "cell_type": "markdown",
   "metadata": {},
   "source": [
    "7. Создайте класс Organization. В классе опишите атрибут is_opened, который по умолчанию будет равен True, т.е. компания работает. Создайте в нем метод makeDeal, который принимает на вход параметр isFatal - фатальная сделка или нет. По умолчанию должно быть False. Внутри метода реализуйте проверку: если isFatal принимает значение True, то атрибут is_opened должен поменяться на False у всех объектов одновременно. При этом должна быть возможность закрыть одну из организаций, без Fatal."
   ]
  },
  {
   "cell_type": "code",
   "execution_count": 35,
   "metadata": {},
   "outputs": [
    {
     "name": "stdout",
     "output_type": "stream",
     "text": [
      "True\n",
      "True\n",
      "False\n",
      "False\n"
     ]
    }
   ],
   "source": [
    "class Organization:\n",
    "    __is_organizations_open = False\n",
    "    \n",
    "    @property\n",
    "    def is_opened(self):\n",
    "        if Organization.__is_organizations_open:\n",
    "            return False\n",
    "        return self.is_opened_val\n",
    "    \n",
    "    def __init__(self):\n",
    "        self.is_opened_val = True # создали атрибут\n",
    "\n",
    "    def makeDeal(self, isFatal = False):\n",
    "        if isFatal:\n",
    "            Organization.__is_organizations_open = False # сделали всем атрибут негативным\n",
    "            self.is_opened = False\n",
    "        else:\n",
    "            self.is_opened = False # иначе делаем только одному\n",
    "\n",
    "org1 = Organization()\n",
    "org2 = Organization()\n",
    "\n",
    "print(org1.is_opened)\n",
    "print(org2.is_opened) \n",
    "\n",
    "org1.makeDeal(isFatal=True)\n",
    "\n",
    "print(org1.is_opened)\n",
    "print(org2.is_opened)\n",
    "\n",
    "org2.makeDeal()"
   ]
  },
  {
   "attachments": {},
   "cell_type": "markdown",
   "metadata": {},
   "source": [
    "8. Задайте класс Person следующим образом: при создании конструктор должен принимать на вход имя и записывать его в атрибут name операция сложения («+») должна быть реализована таким образом, чтобы результатом была строка вида и <добавляемое значение>\n",
    "пример:\n",
    "\n",
    "me = Person('IT Resume')\n",
    "\n",
    "print(me.name)\n",
    "\n",
    "\\>\\> IT Resume\n",
    "\n",
    "print(me + 'Вы')\n",
    "\n",
    "\\>\\> IT Resume и Вы"
   ]
  },
  {
   "cell_type": "code",
   "execution_count": 37,
   "metadata": {},
   "outputs": [
    {
     "name": "stdout",
     "output_type": "stream",
     "text": [
      "IT Resume\n",
      "IT Resume и Вы\n",
      "Вы и IT Resume\n"
     ]
    }
   ],
   "source": [
    "class Person:\n",
    "    def __init__(self, name):\n",
    "        self.name = name\n",
    "\n",
    "    def __add__(self, other):\n",
    "        return f\"{self.name} и {other}\"\n",
    "    \n",
    "    def __radd__(self, other):\n",
    "        return f\"{other} и {self.name}\"\n",
    "\n",
    "    \n",
    "# пример:\n",
    "me = Person('IT Resume')\n",
    "print(me.name) \n",
    "\n",
    "result = me + 'Вы'\n",
    "print(result)\n",
    "\n",
    "result = 'Вы' + me\n",
    "print(result)"
   ]
  },
  {
   "attachments": {},
   "cell_type": "markdown",
   "metadata": {},
   "source": [
    "9.Создайте счетчик людей из предыдущего задания и переопределите метод \"-\", чтобы рез-ом была строка без подстроки справа,\n",
    "пример:\n",
    "\n",
    "print(me.name)\n",
    "\n",
    "\\>\\> IT Resume\n",
    "\n",
    "print(me - 'e')\n",
    "\n",
    "\\>\\> IT Rsum"
   ]
  },
  {
   "cell_type": "code",
   "execution_count": 42,
   "metadata": {},
   "outputs": [
    {
     "name": "stdout",
     "output_type": "stream",
     "text": [
      "IT Resume\n",
      "IT Resum\n",
      "1\n"
     ]
    }
   ],
   "source": [
    "class UltraPerson(Person):\n",
    "    count = 0\n",
    "\n",
    "    def __init__(self, name):\n",
    "        self.name = name\n",
    "        UltraPerson.count += 1\n",
    "\n",
    "    def __sub__(self, other):\n",
    "        return self.name.rstrip(other)\n",
    "    \n",
    "me = UltraPerson('IT Resume')\n",
    "\n",
    "print(me.name)\n",
    "print(me - 'e')\n",
    "print(UltraPerson.count)"
   ]
  }
 ],
 "metadata": {
  "kernelspec": {
   "display_name": "Python 3",
   "language": "python",
   "name": "python3"
  },
  "language_info": {
   "codemirror_mode": {
    "name": "ipython",
    "version": 3
   },
   "file_extension": ".py",
   "mimetype": "text/x-python",
   "name": "python",
   "nbconvert_exporter": "python",
   "pygments_lexer": "ipython3",
   "version": "3.8.10"
  },
  "orig_nbformat": 4
 },
 "nbformat": 4,
 "nbformat_minor": 2
}

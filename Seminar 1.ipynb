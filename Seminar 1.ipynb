{
 "cells": [
  {
   "cell_type": "code",
   "execution_count": 1,
   "metadata": {},
   "outputs": [
    {
     "name": "stdout",
     "output_type": "stream",
     "text": [
      "The Zen of Python, by Tim Peters\n",
      "\n",
      "Beautiful is better than ugly.\n",
      "Explicit is better than implicit.\n",
      "Simple is better than complex.\n",
      "Complex is better than complicated.\n",
      "Flat is better than nested.\n",
      "Sparse is better than dense.\n",
      "Readability counts.\n",
      "Special cases aren't special enough to break the rules.\n",
      "Although practicality beats purity.\n",
      "Errors should never pass silently.\n",
      "Unless explicitly silenced.\n",
      "In the face of ambiguity, refuse the temptation to guess.\n",
      "There should be one-- and preferably only one --obvious way to do it.\n",
      "Although that way may not be obvious at first unless you're Dutch.\n",
      "Now is better than never.\n",
      "Although never is often better than *right* now.\n",
      "If the implementation is hard to explain, it's a bad idea.\n",
      "If the implementation is easy to explain, it may be a good idea.\n",
      "Namespaces are one honking great idea -- let's do more of those!\n"
     ]
    }
   ],
   "source": [
    "import this"
   ]
  },
  {
   "cell_type": "code",
   "execution_count": 2,
   "metadata": {},
   "outputs": [],
   "source": [
    "привет = 3 # хех"
   ]
  },
  {
   "cell_type": "code",
   "execution_count": 3,
   "metadata": {},
   "outputs": [
    {
     "name": "stdout",
     "output_type": "stream",
     "text": [
      "3\n"
     ]
    }
   ],
   "source": [
    "print(привет)"
   ]
  },
  {
   "attachments": {},
   "cell_type": "markdown",
   "metadata": {},
   "source": [
    "# Самый главный\n",
    "## Поменьше\n",
    "### Побольше\n",
    "#### ещё меньше\n",
    "текст"
   ]
  },
  {
   "cell_type": "code",
   "execution_count": 15,
   "metadata": {},
   "outputs": [],
   "source": [
    "#  создать в юпитере ячейку коммент\\заголовок разного уровня\n",
    "# завести переменные a,b,c\n",
    "a = 1\n",
    "b = 2\n",
    "c = 3"
   ]
  },
  {
   "cell_type": "code",
   "execution_count": null,
   "metadata": {},
   "outputs": [],
   "source": [
    "# создать список из а,b,c,a^2,b^2,c^2\n",
    "d = [a, b, c, a**2, b**2, c**2]"
   ]
  },
  {
   "cell_type": "code",
   "execution_count": 13,
   "metadata": {},
   "outputs": [
    {
     "name": "stdout",
     "output_type": "stream",
     "text": [
      "3.2188758248682006\n",
      "20.085536923187668\n",
      "9.22029070282935\n",
      "0.1346694642069727\n"
     ]
    }
   ],
   "source": [
    "# вычислить:log(25), log(exp(3)), log101000, π-3,1234459−−−√\n",
    "import math\n",
    "print(math.log(25))\n",
    "print(math.exp(3))\n",
    "print(math.log(10100))\n",
    "print(math.sqrt(math.pi-3.123456789))"
   ]
  },
  {
   "cell_type": "code",
   "execution_count": 16,
   "metadata": {},
   "outputs": [],
   "source": [
    "# 4) В переменных a и b хранятся некоторые числа. Напишите код, который бы менял значения переменных местами\n",
    "c = a\n",
    "a = b\n",
    "b = a"
   ]
  },
  {
   "cell_type": "code",
   "execution_count": 7,
   "metadata": {},
   "outputs": [],
   "source": [
    "#5) Напишите программу, которая логарифмирует значение, которое хранится в переменной gdp и округляет результат до второго знака после запятой.\n",
    "gdp = float(input())\n",
    "gdp = round(math.log(gdp), 2)"
   ]
  },
  {
   "cell_type": "code",
   "execution_count": 17,
   "metadata": {},
   "outputs": [],
   "source": [
    "#6) В переменной fh хранится значение индекса политической свободы Freedom House, а в переменной p значение индекса Polity IV. Напишите программу, которая будет считать индекс Freedom:\n",
    "#Freedom=0.4⋅FreedomHouse+0.6⋅PolityIV\n",
    "fh = float(input())\n",
    "p = float(input())\n",
    "f = 0.4 * fh + 0.6 * p "
   ]
  },
  {
   "cell_type": "code",
   "execution_count": 39,
   "metadata": {},
   "outputs": [
    {
     "name": "stdout",
     "output_type": "stream",
     "text": [
      "1\n",
      "None\n"
     ]
    }
   ],
   "source": [
    "#7) С приходом весны питон решил каждый день выползать погреться на солнышко. \n",
    "#Однако он знал, что солнце весной довольно активное, и поэтому разработал такую схему: в первый день он греется одну минуту, \n",
    "#а в каждый последующий день увеличивает время пребывания на солнце на 3 минуты. Напишите код, который позволит вычислять, \n",
    "#сколько минут питон будет тратить на солнечные ванны в некоторый выбранный день.\n",
    "#\n",
    "#*2 решения с циклами и без\n",
    "#\n",
    "days = int(input())\n",
    "result = 0\n",
    "# first variant\n",
    "if(days > 0):\n",
    "    result += 1\n",
    "for i in range(1, days):\n",
    "    result += 3\n",
    "# second variant\n",
    "def pyth(days):\n",
    "    if(days > 1):\n",
    "        return pyth(days - 1) + 3\n",
    "    if(days == 1):\n",
    "        return 1\n",
    "    else: \n",
    "        return 0\n",
    "print(result)\n",
    "print(pyth(days))"
   ]
  },
  {
   "cell_type": "code",
   "execution_count": 44,
   "metadata": {},
   "outputs": [
    {
     "name": "stdout",
     "output_type": "stream",
     "text": [
      "Hello pfp dsd\n"
     ]
    }
   ],
   "source": [
    "#8) Напишите программу, которая запрашивает у пользователя имя и фамилию и выводит на экран сообщение\n",
    "name = input(\"Enter name\")\n",
    "surname = input(\"Enter surname\")\n",
    "print(\"Hello {} {}\".format(name, surname))"
   ]
  },
  {
   "cell_type": "code",
   "execution_count": null,
   "metadata": {},
   "outputs": [],
   "source": [
    "# Хорунженко Аркадий, добро пожаловать!"
   ]
  }
 ],
 "metadata": {
  "kernelspec": {
   "display_name": "Python 3",
   "language": "python",
   "name": "python3"
  },
  "language_info": {
   "codemirror_mode": {
    "name": "ipython",
    "version": 3
   },
   "file_extension": ".py",
   "mimetype": "text/x-python",
   "name": "python",
   "nbconvert_exporter": "python",
   "pygments_lexer": "ipython3",
   "version": "3.8.10"
  },
  "orig_nbformat": 4,
  "vscode": {
   "interpreter": {
    "hash": "f5ff168696553f3e2cb115c273c46eeb315c32b0d0536992c4bad2740a7f9469"
   }
  }
 },
 "nbformat": 4,
 "nbformat_minor": 2
}

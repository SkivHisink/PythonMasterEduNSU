{
 "cells": [
  {
   "cell_type": "markdown",
   "metadata": {
    "ExecuteTime": {
     "end_time": "2021-12-07T16:20:34.232414Z",
     "start_time": "2021-12-07T16:20:34.163555Z"
    }
   },
   "source": [
    "# Множества в Python"
   ]
  },
  {
   "cell_type": "markdown",
   "metadata": {},
   "source": [
    "Множество (`set`) в Python – это структура данных, которая содержит неупорядоченные элементы. Элементы также не является индексированным. Как и `list`, множество позволяет внесение и удаление элементов. "
   ]
  },
  {
   "cell_type": "markdown",
   "metadata": {},
   "source": [
    "- Множество не содержит дубликаты элементов;\n",
    "- Элементы множества являются неизменными, однако само по себе множество является изменяемым, и его можно менять;\n",
    "- Так как элементы не индексируются, множества не поддерживают никаких операций среза и индексирования."
   ]
  },
  {
   "cell_type": "markdown",
   "metadata": {
    "ExecuteTime": {
     "end_time": "2021-12-07T16:30:03.206747Z",
     "start_time": "2021-12-07T16:30:03.197084Z"
    }
   },
   "source": [
    "### Cоздания множества"
   ]
  },
  {
   "cell_type": "code",
   "execution_count": 1,
   "metadata": {
    "ExecuteTime": {
     "end_time": "2023-03-16T02:40:34.528549Z",
     "start_time": "2023-03-16T02:40:34.507600Z"
    }
   },
   "outputs": [
    {
     "name": "stdout",
     "output_type": "stream",
     "text": [
      "{'banana', 'orange', 'apple'}\n"
     ]
    }
   ],
   "source": [
    "fruits = {\"banana\", \"apple\", \"orange\"}\n",
    "print(fruits)"
   ]
  },
  {
   "cell_type": "markdown",
   "metadata": {
    "ExecuteTime": {
     "end_time": "2021-12-07T16:32:10.945885Z",
     "start_time": "2021-12-07T16:32:10.926503Z"
    }
   },
   "source": [
    "Заметим, что порядок вывода произвольный и еще таким образом нельзя создать пустое множество. Вместо этого будет создан пустой словарь:"
   ]
  },
  {
   "cell_type": "code",
   "execution_count": 3,
   "metadata": {
    "ExecuteTime": {
     "end_time": "2023-03-16T02:41:28.945931Z",
     "start_time": "2023-03-16T02:41:28.936955Z"
    }
   },
   "outputs": [
    {
     "name": "stdout",
     "output_type": "stream",
     "text": [
      "<class 'dict'>\n"
     ]
    }
   ],
   "source": [
    "wrong_empty_set = {}\n",
    "print(type(wrong_empty_set))"
   ]
  },
  {
   "cell_type": "markdown",
   "metadata": {},
   "source": [
    "Для создания пустого множества нужно непосредственно использовать `set()`:\n",
    "\n"
   ]
  },
  {
   "cell_type": "code",
   "execution_count": 2,
   "metadata": {
    "ExecuteTime": {
     "end_time": "2023-03-16T02:41:27.506468Z",
     "start_time": "2023-03-16T02:41:27.496481Z"
    }
   },
   "outputs": [
    {
     "name": "stdout",
     "output_type": "stream",
     "text": [
      "<class 'set'>\n"
     ]
    }
   ],
   "source": [
    "correct_empty_set = set()\n",
    "print(type(correct_empty_set))"
   ]
  },
  {
   "cell_type": "markdown",
   "metadata": {
    "ExecuteTime": {
     "end_time": "2021-12-07T16:33:46.358960Z",
     "start_time": "2021-12-07T16:33:46.338553Z"
    }
   },
   "source": [
    "Также в `set()` можно передать какой-либо объект, по которому можно проитерироваться"
   ]
  },
  {
   "cell_type": "code",
   "execution_count": 4,
   "metadata": {
    "ExecuteTime": {
     "end_time": "2023-03-16T02:42:00.080159Z",
     "start_time": "2023-03-16T02:42:00.073175Z"
    }
   },
   "outputs": [
    {
     "name": "stdout",
     "output_type": "stream",
     "text": [
      "{'purple', 'red', 'green', 'blue'}\n"
     ]
    }
   ],
   "source": [
    "color_list = [\"red\", \"green\", \"green\", \"blue\", \"purple\", \"purple\"]\n",
    "color_set = set(color_list)\n",
    "print(color_set)"
   ]
  },
  {
   "cell_type": "markdown",
   "metadata": {},
   "source": [
    "что изменилось в выводе?"
   ]
  },
  {
   "cell_type": "markdown",
   "metadata": {
    "ExecuteTime": {
     "end_time": "2021-12-07T16:36:21.803852Z",
     "start_time": "2021-12-07T16:36:21.730893Z"
    }
   },
   "source": [
    "рассмотрим еще вариант создания множества через set comprehension "
   ]
  },
  {
   "cell_type": "code",
   "execution_count": 5,
   "metadata": {
    "ExecuteTime": {
     "end_time": "2023-03-16T02:42:59.508486Z",
     "start_time": "2023-03-16T02:42:59.496522Z"
    }
   },
   "outputs": [
    {
     "name": "stdout",
     "output_type": "stream",
     "text": [
      "{2, 4, 6} [2, 2, 2, 4, 4, 6]\n"
     ]
    }
   ],
   "source": [
    "numbers = [1, 2, 2, 2, 3, 3, 4, 4, 5, 6]\n",
    "\n",
    "even_numbers = {number for number in numbers if number % 2 == 0}\n",
    "even_numbers_lst = [number for number in numbers if number % 2 == 0]\n",
    "print(even_numbers,even_numbers_lst)"
   ]
  },
  {
   "cell_type": "markdown",
   "metadata": {},
   "source": [
    "### Доступ к элементам множеств"
   ]
  },
  {
   "cell_type": "markdown",
   "metadata": {},
   "source": [
    "В Python нет прямого способа получения значения к отдельным элементам множества. Однако, множество итерируемо, то есть:"
   ]
  },
  {
   "cell_type": "code",
   "execution_count": 8,
   "metadata": {
    "ExecuteTime": {
     "end_time": "2023-03-16T02:45:25.428681Z",
     "start_time": "2023-03-16T02:45:25.407736Z"
    }
   },
   "outputs": [
    {
     "name": "stdout",
     "output_type": "stream",
     "text": [
      "Nov\n",
      "Aug\n",
      "Feb\n",
      "Apr\n",
      "March\n",
      "Sep\n",
      "May\n",
      "July\n",
      "Dec\n",
      "Jan\n",
      "Oct\n",
      "June\n"
     ]
    }
   ],
   "source": [
    "months = set([\"Jan\", \"Feb\", \"March\", \"Apr\", \"May\", \"June\", \"July\", \"Aug\", \"Sep\", \"Oct\", \"Nov\", \"Dec\"])\n",
    " \n",
    "for m in months:  \n",
    "    print(m)"
   ]
  },
  {
   "cell_type": "code",
   "execution_count": 7,
   "metadata": {
    "ExecuteTime": {
     "end_time": "2023-03-16T02:44:10.599227Z",
     "start_time": "2023-03-16T02:44:10.590254Z"
    }
   },
   "outputs": [
    {
     "name": "stdout",
     "output_type": "stream",
     "text": [
      "True False\n"
     ]
    }
   ],
   "source": [
    "print(\"May\" in months,\"Mayн\" in months)"
   ]
  },
  {
   "cell_type": "markdown",
   "metadata": {},
   "source": [
    "### Изменение множества"
   ]
  },
  {
   "cell_type": "code",
   "execution_count": 10,
   "metadata": {
    "ExecuteTime": {
     "end_time": "2023-03-16T02:46:52.163531Z",
     "start_time": "2023-03-16T02:46:52.149978Z"
    }
   },
   "outputs": [
    {
     "name": "stdout",
     "output_type": "stream",
     "text": [
      "{'Nov', 'Aug', 'Feb', 'Apr', 'March', 'Sep', 'May', 'July', 'Dec', 'Jan', 'Oct', 'June'}\n"
     ]
    }
   ],
   "source": [
    "months = set([\"Jan\", \"March\", \"Apr\", \"May\", \"June\", \"July\", \"Aug\", \"Sep\", \"Oct\", \"Nov\", \"Dec\"])\n",
    " \n",
    "months.add(\"Feb\")\n",
    "print(months)"
   ]
  },
  {
   "cell_type": "markdown",
   "metadata": {},
   "source": [
    "Можно удалять элемент из множества, но не используя индекс, так как множество элементов не индексированы. Элементы могут быть удалены при помощи обоих методов `discard()` и `remove()`. `discard()` не будет выдавать ошибку, если элемент не был найден во множестве. Однако, если метод `remove()` используется и элемент не был найден, возникнет ошибка"
   ]
  },
  {
   "cell_type": "code",
   "execution_count": 11,
   "metadata": {
    "ExecuteTime": {
     "end_time": "2023-03-16T02:46:53.919473Z",
     "start_time": "2023-03-16T02:46:53.907506Z"
    }
   },
   "outputs": [
    {
     "name": "stdout",
     "output_type": "stream",
     "text": [
      "{1, 2, 3, 4, 5, 6}\n"
     ]
    }
   ],
   "source": [
    "num_set = {1, 2, 3, 4, 5, 6}  \n",
    "num_set.discard(7)  \n",
    "print(num_set)"
   ]
  },
  {
   "cell_type": "code",
   "execution_count": 12,
   "metadata": {
    "ExecuteTime": {
     "end_time": "2023-03-16T02:46:54.978148Z",
     "start_time": "2023-03-16T02:46:54.965861Z"
    }
   },
   "outputs": [
    {
     "name": "stdout",
     "output_type": "stream",
     "text": [
      "{1, 3, 4, 5, 6}\n"
     ]
    }
   ],
   "source": [
    "num_set = {1, 2, 3, 4, 5, 6}  \n",
    "num_set.remove(2)  \n",
    "print(num_set)"
   ]
  },
  {
   "cell_type": "markdown",
   "metadata": {
    "ExecuteTime": {
     "end_time": "2021-12-07T16:46:19.338894Z",
     "start_time": "2021-12-07T16:46:19.266638Z"
    }
   },
   "source": [
    "Метод `clear` удаляет все элементы во множестве\n",
    "\n"
   ]
  },
  {
   "cell_type": "code",
   "execution_count": null,
   "metadata": {
    "ExecuteTime": {
     "end_time": "2022-12-10T02:54:54.503057Z",
     "start_time": "2022-12-10T02:54:54.497076Z"
    }
   },
   "outputs": [],
   "source": [
    "num_set = {1, 2, 3, 4, 5, 6}  \n",
    "num_set.clear()  \n",
    "print(num_set)"
   ]
  },
  {
   "cell_type": "markdown",
   "metadata": {
    "ExecuteTime": {
     "end_time": "2021-12-07T16:47:19.815781Z",
     "start_time": "2021-12-07T16:47:19.804846Z"
    }
   },
   "source": [
    "### Операции над множествами"
   ]
  },
  {
   "cell_type": "markdown",
   "metadata": {},
   "source": [
    "Объединение "
   ]
  },
  {
   "cell_type": "code",
   "execution_count": 13,
   "metadata": {
    "ExecuteTime": {
     "end_time": "2023-03-16T02:47:45.133481Z",
     "start_time": "2023-03-16T02:47:45.116983Z"
    }
   },
   "outputs": [
    {
     "name": "stdout",
     "output_type": "stream",
     "text": [
      "{1, 2, 3, 5, 6, 7, 8, 9}\n"
     ]
    }
   ],
   "source": [
    "x = {1, 2, 3}  \n",
    "y = {3, 5, 6}  \n",
    "z = {7, 8, 9}\n",
    " \n",
    "output = x.union(y, z)\n",
    " \n",
    "print(output)"
   ]
  },
  {
   "cell_type": "code",
   "execution_count": 14,
   "metadata": {
    "ExecuteTime": {
     "end_time": "2023-03-16T02:48:08.332100Z",
     "start_time": "2023-03-16T02:48:08.318138Z"
    }
   },
   "outputs": [
    {
     "name": "stdout",
     "output_type": "stream",
     "text": [
      "{1, 2, 3, 4, 6, 7, 9}\n"
     ]
    }
   ],
   "source": [
    "x = {1, 2, 3}  \n",
    "y = {4, 3, 6}  \n",
    "z = {7, 4, 9}\n",
    " \n",
    "print(x | y | z)"
   ]
  },
  {
   "cell_type": "markdown",
   "metadata": {},
   "source": [
    "Пересечение "
   ]
  },
  {
   "cell_type": "code",
   "execution_count": 15,
   "metadata": {
    "ExecuteTime": {
     "end_time": "2023-03-16T02:48:31.087806Z",
     "start_time": "2023-03-16T02:48:31.076839Z"
    }
   },
   "outputs": [
    {
     "name": "stdout",
     "output_type": "stream",
     "text": [
      "{3}\n"
     ]
    }
   ],
   "source": [
    "x = {1, 2, 3}  \n",
    "y = {4, 3, 6}\n",
    "\n",
    "print(x & y)"
   ]
  },
  {
   "cell_type": "code",
   "execution_count": 16,
   "metadata": {
    "ExecuteTime": {
     "end_time": "2023-03-16T02:48:47.367140Z",
     "start_time": "2023-03-16T02:48:47.354635Z"
    }
   },
   "outputs": [
    {
     "name": "stdout",
     "output_type": "stream",
     "text": [
      "{3}\n"
     ]
    }
   ],
   "source": [
    "x = {1, 2, 3}  \n",
    "y = {4, 3, 6}\n",
    " \n",
    "z = x.intersection(y)  \n",
    "print(z)"
   ]
  },
  {
   "cell_type": "markdown",
   "metadata": {},
   "source": [
    "Разница "
   ]
  },
  {
   "cell_type": "code",
   "execution_count": 17,
   "metadata": {
    "ExecuteTime": {
     "end_time": "2023-03-16T02:49:00.320010Z",
     "start_time": "2023-03-16T02:49:00.304053Z"
    }
   },
   "outputs": [
    {
     "name": "stdout",
     "output_type": "stream",
     "text": [
      "{1, 2, 3}\n"
     ]
    }
   ],
   "source": [
    "set_a = {1, 2, 3, 4, 5}  \n",
    "set_b = {4, 5, 6, 7, 8}  \n",
    "diff_set = set_a.difference(set_b)  \n",
    "print(diff_set)"
   ]
  },
  {
   "cell_type": "code",
   "execution_count": 18,
   "metadata": {
    "ExecuteTime": {
     "end_time": "2023-03-16T02:49:01.397536Z",
     "start_time": "2023-03-16T02:49:01.385574Z"
    }
   },
   "outputs": [
    {
     "name": "stdout",
     "output_type": "stream",
     "text": [
      "{1, 2, 3}\n"
     ]
    }
   ],
   "source": [
    "set_a = {1, 2, 3, 4, 5}  \n",
    "set_b = {4, 5, 6, 7, 8}  \n",
    "print(set_a - set_b)"
   ]
  },
  {
   "cell_type": "markdown",
   "metadata": {
    "ExecuteTime": {
     "end_time": "2021-12-07T16:50:41.681612Z",
     "start_time": "2021-12-07T16:50:41.671181Z"
    }
   },
   "source": [
    "Симметричная разница"
   ]
  },
  {
   "cell_type": "code",
   "execution_count": 19,
   "metadata": {
    "ExecuteTime": {
     "end_time": "2023-03-16T02:49:16.061561Z",
     "start_time": "2023-03-16T02:49:16.047598Z"
    }
   },
   "outputs": [
    {
     "name": "stdout",
     "output_type": "stream",
     "text": [
      "{1, 2, 3, 6, 7, 8}\n"
     ]
    }
   ],
   "source": [
    "set_a = {1, 2, 3, 4, 5}  \n",
    "set_b = {4, 5, 6, 7, 8}  \n",
    "symm_diff = set_a.symmetric_difference(set_b)  \n",
    "print(symm_diff)"
   ]
  },
  {
   "cell_type": "code",
   "execution_count": 20,
   "metadata": {
    "ExecuteTime": {
     "end_time": "2023-03-16T02:49:43.732972Z",
     "start_time": "2023-03-16T02:49:43.718420Z"
    }
   },
   "outputs": [
    {
     "name": "stdout",
     "output_type": "stream",
     "text": [
      "{1, 2, 3, 6, 7, 8}\n"
     ]
    }
   ],
   "source": [
    "set_a = {1, 2, 3, 4, 5}  \n",
    "set_b = {4, 5, 6, 7, 8}  \n",
    "print(set_a ^ set_b)"
   ]
  },
  {
   "cell_type": "markdown",
   "metadata": {},
   "source": [
    "Сравнение "
   ]
  },
  {
   "cell_type": "code",
   "execution_count": 21,
   "metadata": {
    "ExecuteTime": {
     "end_time": "2023-03-16T02:49:56.792785Z",
     "start_time": "2023-03-16T02:49:56.778822Z"
    }
   },
   "outputs": [
    {
     "name": "stdout",
     "output_type": "stream",
     "text": [
      "True\n",
      "True\n"
     ]
    }
   ],
   "source": [
    "months_a = set([\"Jan\", \"Feb\", \"March\", \"Apr\", \"May\", \"June\"])  \n",
    "months_b = set([\"Jan\", \"Feb\", \"March\", \"Apr\", \"May\", \"June\", \"July\", \"Aug\", \"Sep\", \"Oct\", \"Nov\", \"Dec\"])\n",
    " \n",
    "subset_check = months_a <= months_b  \n",
    "superset_check = months_b >= months_a\n",
    " \n",
    "print(subset_check)  \n",
    "print(superset_check)"
   ]
  },
  {
   "cell_type": "code",
   "execution_count": 22,
   "metadata": {
    "ExecuteTime": {
     "end_time": "2023-03-16T02:50:25.508174Z",
     "start_time": "2023-03-16T02:50:25.487708Z"
    }
   },
   "outputs": [
    {
     "name": "stdout",
     "output_type": "stream",
     "text": [
      "True\n",
      "True\n"
     ]
    }
   ],
   "source": [
    "months_a = set([\"Jan\",\"Feb\", \"March\", \"Apr\", \"May\", \"June\"])  \n",
    "months_b = set([\"Jan\",\"Feb\", \"March\", \"Apr\", \"May\", \"June\", \"July\", \"Aug\", \"Sep\", \"Oct\", \"Nov\", \"Dec\"])\n",
    " \n",
    "subset_check = months_a.issubset(months_b)  \n",
    "superset_check = months_b.issuperset(months_a)\n",
    " \n",
    "print(subset_check)  \n",
    "print(superset_check)"
   ]
  },
  {
   "cell_type": "markdown",
   "metadata": {
    "ExecuteTime": {
     "end_time": "2021-12-07T16:52:22.198023Z",
     "start_time": "2021-12-07T16:52:22.184178Z"
    }
   },
   "source": [
    "### Методы множеств"
   ]
  },
  {
   "cell_type": "code",
   "execution_count": 23,
   "metadata": {
    "ExecuteTime": {
     "end_time": "2023-03-16T02:50:58.487012Z",
     "start_time": "2023-03-16T02:50:58.466546Z"
    }
   },
   "outputs": [
    {
     "name": "stdout",
     "output_type": "stream",
     "text": [
      "{'Mercy', 'Nicholas', 'Michelle', 'John'}\n"
     ]
    }
   ],
   "source": [
    "string_set = {\"Nicholas\", \"Michelle\", \"John\", \"Mercy\"}  \n",
    "x = string_set.copy()\n",
    "print(x)"
   ]
  },
  {
   "cell_type": "code",
   "execution_count": 24,
   "metadata": {
    "ExecuteTime": {
     "end_time": "2023-03-16T02:51:05.865534Z",
     "start_time": "2023-03-16T02:51:05.831707Z"
    }
   },
   "outputs": [
    {
     "data": {
      "text/plain": [
       "(2249354580264, 2249354581832)"
      ]
     },
     "execution_count": 24,
     "metadata": {},
     "output_type": "execute_result"
    }
   ],
   "source": [
    "id(string_set),id(x)"
   ]
  },
  {
   "cell_type": "code",
   "execution_count": 25,
   "metadata": {
    "ExecuteTime": {
     "end_time": "2023-03-16T02:51:17.101714Z",
     "start_time": "2023-03-16T02:51:17.089785Z"
    }
   },
   "outputs": [
    {
     "name": "stdout",
     "output_type": "stream",
     "text": [
      "False\n"
     ]
    }
   ],
   "source": [
    "names_a = {\"Nicholas\", \"Michelle\", \"John\", \"Mercy\"}  \n",
    "names_b = {\"Jeff\", \"Bosco\", \"Teddy\", \"Milly\",\"Mercy\"}\n",
    " \n",
    "x = names_a.isdisjoint(names_b)  \n",
    "print(x)"
   ]
  },
  {
   "cell_type": "code",
   "execution_count": null,
   "metadata": {},
   "outputs": [],
   "source": []
  },
  {
   "cell_type": "code",
   "execution_count": 26,
   "metadata": {
    "ExecuteTime": {
     "end_time": "2023-03-16T02:52:02.299995Z",
     "start_time": "2023-03-16T02:52:02.286033Z"
    }
   },
   "outputs": [
    {
     "name": "stdout",
     "output_type": "stream",
     "text": [
      "4\n"
     ]
    }
   ],
   "source": [
    "names_a = {\"Nicholas\", \"Michelle\", \"John\", \"Mercy\"}\n",
    " \n",
    "print(len(names_a)) "
   ]
  },
  {
   "cell_type": "markdown",
   "metadata": {},
   "source": [
    "## Frozenset "
   ]
  },
  {
   "cell_type": "markdown",
   "metadata": {},
   "source": [
    "`Frozenset`– это класс с характеристиками множества, однако, как только элементы становятся назначенными, их нельзя менять. Кортежи могут рассматриваться как неизменяемые списки, в то время как `frozenset`-ы — как неизменные множества.\n",
    "Множества являются изменяемыми и нехешируемыми, это значит, что мы не можем использовать их как словарные ключи. `Frozenset` являются хешированными и могут использоваться в качестве ключей словаря.\n",
    "\n",
    "Для создания замороженного множества, мы используем метод `frozenset()`"
   ]
  },
  {
   "cell_type": "code",
   "execution_count": null,
   "metadata": {
    "ExecuteTime": {
     "end_time": "2022-12-10T03:02:11.522343Z",
     "start_time": "2022-12-10T03:02:11.513363Z"
    }
   },
   "outputs": [],
   "source": [
    "X = frozenset([1, 2, 3, 4, 5, 6])  \n",
    "Y = frozenset([4, 5, 6, 7, 8, 9])\n",
    " \n",
    "print(X)  \n",
    "print(Y)"
   ]
  },
  {
   "cell_type": "markdown",
   "metadata": {},
   "source": [
    "Замороженные множества поддерживают использование множественных методов, таких как `copy(), difference(), symmetric_difference(), isdisjoint(), issubset(), intersection(), issuperset() и union()`."
   ]
  },
  {
   "cell_type": "markdown",
   "metadata": {},
   "source": [
    "# Функции в Python"
   ]
  },
  {
   "cell_type": "markdown",
   "metadata": {},
   "source": [
    "Функции в Python создаются с помощью инструкции \n",
    "`def`. Это действие создает объект функции и присваивает ему имя, которое становится ссылкой на объект-функцию.\n",
    "\n",
    "Пример определения функции:"
   ]
  },
  {
   "cell_type": "code",
   "execution_count": null,
   "metadata": {
    "ExecuteTime": {
     "end_time": "2021-12-11T02:41:46.579782Z",
     "start_time": "2021-12-11T02:41:46.571213Z"
    }
   },
   "outputs": [],
   "source": [
    "def MyFirstFunction(arg1, arg2, arg3):\n",
    "    return arg1 + arg2 + arg3"
   ]
  },
  {
   "cell_type": "markdown",
   "metadata": {},
   "source": [
    "`MyFirstFunction` — это имя функции, используемое как для ее определения, так и для ее вызова.\n",
    "\n",
    "После заголовка с новой строки и с отступом следуют выражения тела функции.\n",
    "\n",
    "В теле функции присутствует (их может быть несколько) инструкция `return` (может и не быть), которая прерывает выполнение функции возвращает значение в основную ветку программы."
   ]
  },
  {
   "cell_type": "code",
   "execution_count": null,
   "metadata": {
    "ExecuteTime": {
     "end_time": "2021-12-11T02:41:48.350974Z",
     "start_time": "2021-12-11T02:41:48.344956Z"
    }
   },
   "outputs": [],
   "source": [
    "x = MyFirstFunction(10, 2, 5)\n",
    "x"
   ]
  },
  {
   "cell_type": "markdown",
   "metadata": {},
   "source": [
    "\n",
    "В данном случае, если бы в функции не было инструкции `return`, то в основную программу ничего бы не возвращалось, и переменной `x` числовое значение не присваивалось бы. Если функция не возвращает значение явно с помощью команды `return`, то автоматически возвращается значение `None`. "
   ]
  },
  {
   "cell_type": "markdown",
   "metadata": {},
   "source": [
    "Например, хотим вычислить\n",
    "$${n \\choose k}=C_{n}^{k}={\\frac {n!}{k!\\left(n-k\\right)!}}$$\n",
    "Для чего необходимо вычисление факториалов трех величин: `n`, `k` и `n-k`. Тут можно сделать три цикла, что приводит к увеличению размера программы за счет трехкратного повторения похожего кода. Вместо этого лучше сделать одну функцию, вычисляющую факториал любого данного числа `n` и трижды использовать эту функцию в своей программе. Соответствующая функция может выглядеть так: "
   ]
  },
  {
   "cell_type": "code",
   "execution_count": null,
   "metadata": {
    "ExecuteTime": {
     "end_time": "2022-12-10T03:08:38.195346Z",
     "start_time": "2022-12-10T03:08:38.190963Z"
    }
   },
   "outputs": [],
   "source": [
    "def Factorial(n):\n",
    "    result = 1\n",
    "    for i in range(2, n + 1): ## Что такое range?\n",
    "        result *= i ## Что такое *=\n",
    "    return result"
   ]
  },
  {
   "cell_type": "code",
   "execution_count": null,
   "metadata": {
    "ExecuteTime": {
     "end_time": "2022-12-10T03:08:41.646428Z",
     "start_time": "2022-12-10T03:08:41.638449Z"
    }
   },
   "outputs": [],
   "source": [
    "Factorial(4)"
   ]
  },
  {
   "cell_type": "code",
   "execution_count": null,
   "metadata": {
    "ExecuteTime": {
     "end_time": "2022-12-10T03:08:41.918709Z",
     "start_time": "2022-12-10T03:08:41.906735Z"
    }
   },
   "outputs": [],
   "source": [
    "def Binomial(n, k):\n",
    "    return Factorial(n) / (Factorial(k) * Factorial(n - k))\n",
    "Binomial(5,3)"
   ]
  },
  {
   "cell_type": "markdown",
   "metadata": {},
   "source": [
    "Если функция не возвращает значения, то инструкция `return` используется без возвращаемого значения, также в функциях, не возвращающих значения, инструкция `return` может отсутствовать.Если в операторе нет выражения или самого оператора возврата нет внутри функции, то функция вернет объект None."
   ]
  },
  {
   "cell_type": "markdown",
   "metadata": {},
   "source": [
    " Функцию нахождения max из двух чисел можно написать так:"
   ]
  },
  {
   "cell_type": "code",
   "execution_count": null,
   "metadata": {
    "ExecuteTime": {
     "end_time": "2022-12-10T03:08:52.860993Z",
     "start_time": "2022-12-10T03:08:52.855011Z"
    }
   },
   "outputs": [],
   "source": [
    "def Maximum(a, b):\n",
    "    if a > b:\n",
    "        return a\n",
    "    else:\n",
    "        return b"
   ]
  },
  {
   "cell_type": "markdown",
   "metadata": {},
   "source": [
    "А если хотим из 3ех?"
   ]
  },
  {
   "cell_type": "code",
   "execution_count": null,
   "metadata": {
    "ExecuteTime": {
     "end_time": "2022-12-10T03:09:52.230239Z",
     "start_time": "2022-12-10T03:09:52.223257Z"
    }
   },
   "outputs": [],
   "source": [
    "def Max3(a, b, c):\n",
    "    return Maximum(Maximum(a, b), c)\n",
    "Max3(1,4,6)"
   ]
  },
  {
   "cell_type": "markdown",
   "metadata": {
    "ExecuteTime": {
     "end_time": "2021-12-04T16:19:20.349942Z",
     "start_time": "2021-12-04T16:19:20.331966Z"
    }
   },
   "source": [
    "Заметим, в python определение функции всегда должно присутствовать перед вызовом функции."
   ]
  },
  {
   "cell_type": "code",
   "execution_count": null,
   "metadata": {
    "ExecuteTime": {
     "end_time": "2022-12-10T03:10:16.904634Z",
     "start_time": "2022-12-10T03:10:16.890671Z"
    }
   },
   "outputs": [],
   "source": [
    "Double(3)\n",
    "def Double(x):\n",
    "    return x*2\n",
    "\n"
   ]
  },
  {
   "cell_type": "code",
   "execution_count": null,
   "metadata": {
    "ExecuteTime": {
     "end_time": "2022-12-10T03:11:21.929863Z",
     "start_time": "2022-12-10T03:11:21.921883Z"
    }
   },
   "outputs": [],
   "source": [
    "def Double(x):\n",
    "    return x*2\n",
    "Double(3)\n",
    "\n",
    "list()"
   ]
  },
  {
   "cell_type": "markdown",
   "metadata": {},
   "source": [
    "Первая строка после заголовка функции называется строкой документации и является сокращением от строки документации. Он кратко используется для объяснения того, что делает функция. Эта строка доступна нам как атрибут `__doc__` функции."
   ]
  },
  {
   "cell_type": "code",
   "execution_count": 27,
   "metadata": {
    "ExecuteTime": {
     "end_time": "2023-03-16T02:54:48.290471Z",
     "start_time": "2023-03-16T02:54:48.269012Z"
    }
   },
   "outputs": [
    {
     "name": "stdout",
     "output_type": "stream",
     "text": [
      "Hello, Петя. Good morning!\n",
      "\n",
      "    name - имя добровольца\n",
      "    эта функция встречает и желает доброго утра\n",
      "    \n"
     ]
    },
    {
     "data": {
      "text/plain": [
       "(None, None)"
      ]
     },
     "execution_count": 27,
     "metadata": {},
     "output_type": "execute_result"
    }
   ],
   "source": [
    "def Greet(name):\n",
    "    \"\"\"\n",
    "    name - имя добровольца\n",
    "    эта функция встречает и желает доброго утра\n",
    "    \"\"\"\n",
    "    print(\"Hello, \" + name + \". Good morning!\")\n",
    "\n",
    "Greet('Петя'),print(Greet.__doc__)\n"
   ]
  },
  {
   "cell_type": "code",
   "execution_count": null,
   "metadata": {},
   "outputs": [],
   "source": []
  },
  {
   "cell_type": "markdown",
   "metadata": {
    "ExecuteTime": {
     "end_time": "2021-12-04T17:31:06.067637Z",
     "start_time": "2021-12-04T17:31:05.954352Z"
    }
   },
   "source": [
    "### Локальные и глобальные переменные"
   ]
  },
  {
   "cell_type": "code",
   "execution_count": 29,
   "metadata": {
    "ExecuteTime": {
     "end_time": "2023-03-16T02:56:40.761373Z",
     "start_time": "2023-03-16T02:56:40.746415Z"
    }
   },
   "outputs": [
    {
     "name": "stdout",
     "output_type": "stream",
     "text": [
      "140715587773424\n",
      "140715587773104\n",
      "Value inside function: 10\n",
      "Value outside function: 20 140715587773424\n"
     ]
    }
   ],
   "source": [
    "def my_func():\n",
    "    x = 10\n",
    "    print(id(x))\n",
    "    print(\"Value inside function:\",x)\n",
    "\n",
    "x = 20\n",
    "print(id(x))\n",
    "my_func()\n",
    "print(\"Value outside function:\",x,id(x))\n"
   ]
  },
  {
   "cell_type": "markdown",
   "metadata": {},
   "source": [
    "Здесь мы видим, что значение x изначально равно `20`. Несмотря на то, что функция `my_func()` изменила значение `x` на `10`, это не повлияло на значение вне функции. Это потому, что переменная `x` внутри функции отличается (локальная для функции) от переменной снаружи. Хотя у них одинаковые имена, это две разные переменные с разными областями действия."
   ]
  },
  {
   "cell_type": "markdown",
   "metadata": {},
   "source": [
    "С другой стороны, переменные вне функции видны изнутри, они глобальны.\n",
    "\n",
    "Мы можем прочитать эти значения изнутри функции, но не можем их изменить (записать). Чтобы изменить значение переменных вне функции, они должны быть объявлены как глобальные переменные с использованием ключевого слова `global`."
   ]
  },
  {
   "cell_type": "code",
   "execution_count": 30,
   "metadata": {
    "ExecuteTime": {
     "end_time": "2023-03-16T02:57:51.850278Z",
     "start_time": "2023-03-16T02:57:51.835677Z"
    }
   },
   "outputs": [
    {
     "name": "stdout",
     "output_type": "stream",
     "text": [
      "x inside: global\n",
      "x outside: global\n"
     ]
    }
   ],
   "source": [
    "x = \"global\"\n",
    "\n",
    "def foo():\n",
    "    print(\"x inside:\", x)\n",
    "\n",
    "\n",
    "foo()\n",
    "print(\"x outside:\", x)"
   ]
  },
  {
   "cell_type": "markdown",
   "metadata": {},
   "source": [
    "если вы хотите изменить значение `x` внутри функции?"
   ]
  },
  {
   "cell_type": "code",
   "execution_count": 31,
   "metadata": {
    "ExecuteTime": {
     "end_time": "2023-03-16T02:58:19.019123Z",
     "start_time": "2023-03-16T02:58:18.561602Z"
    }
   },
   "outputs": [
    {
     "ename": "UnboundLocalError",
     "evalue": "local variable 'x' referenced before assignment",
     "output_type": "error",
     "traceback": [
      "\u001b[1;31m---------------------------------------------------------------------------\u001b[0m",
      "\u001b[1;31mUnboundLocalError\u001b[0m                         Traceback (most recent call last)",
      "\u001b[1;32m<ipython-input-31-5bb9d7e58dc3>\u001b[0m in \u001b[0;36m<module>\u001b[1;34m\u001b[0m\n\u001b[0;32m      5\u001b[0m     \u001b[0mprint\u001b[0m\u001b[1;33m(\u001b[0m\u001b[0mx\u001b[0m\u001b[1;33m)\u001b[0m\u001b[1;33m\u001b[0m\u001b[1;33m\u001b[0m\u001b[0m\n\u001b[0;32m      6\u001b[0m \u001b[1;33m\u001b[0m\u001b[0m\n\u001b[1;32m----> 7\u001b[1;33m \u001b[0mfoo\u001b[0m\u001b[1;33m(\u001b[0m\u001b[1;33m)\u001b[0m\u001b[1;33m\u001b[0m\u001b[1;33m\u001b[0m\u001b[0m\n\u001b[0m",
      "\u001b[1;32m<ipython-input-31-5bb9d7e58dc3>\u001b[0m in \u001b[0;36mfoo\u001b[1;34m()\u001b[0m\n\u001b[0;32m      2\u001b[0m \u001b[1;33m\u001b[0m\u001b[0m\n\u001b[0;32m      3\u001b[0m \u001b[1;32mdef\u001b[0m \u001b[0mfoo\u001b[0m\u001b[1;33m(\u001b[0m\u001b[1;33m)\u001b[0m\u001b[1;33m:\u001b[0m\u001b[1;33m\u001b[0m\u001b[1;33m\u001b[0m\u001b[0m\n\u001b[1;32m----> 4\u001b[1;33m     \u001b[0mx\u001b[0m \u001b[1;33m=\u001b[0m \u001b[0mx\u001b[0m \u001b[1;33m*\u001b[0m \u001b[1;36m2\u001b[0m\u001b[1;33m\u001b[0m\u001b[1;33m\u001b[0m\u001b[0m\n\u001b[0m\u001b[0;32m      5\u001b[0m     \u001b[0mprint\u001b[0m\u001b[1;33m(\u001b[0m\u001b[0mx\u001b[0m\u001b[1;33m)\u001b[0m\u001b[1;33m\u001b[0m\u001b[1;33m\u001b[0m\u001b[0m\n\u001b[0;32m      6\u001b[0m \u001b[1;33m\u001b[0m\u001b[0m\n",
      "\u001b[1;31mUnboundLocalError\u001b[0m: local variable 'x' referenced before assignment"
     ]
    }
   ],
   "source": [
    "x = \"global\"\n",
    "\n",
    "def foo():\n",
    "    x = x * 2\n",
    "    print(x)\n",
    "\n",
    "foo()"
   ]
  },
  {
   "cell_type": "markdown",
   "metadata": {},
   "source": [
    "Чтобы это cработало, мы используем ключевое слово `global`."
   ]
  },
  {
   "cell_type": "code",
   "execution_count": 32,
   "metadata": {
    "ExecuteTime": {
     "end_time": "2023-03-16T02:59:27.346198Z",
     "start_time": "2023-03-16T02:59:27.335228Z"
    }
   },
   "outputs": [
    {
     "name": "stdout",
     "output_type": "stream",
     "text": [
      "local\n"
     ]
    }
   ],
   "source": [
    "def foo():\n",
    "    global x\n",
    "    x = \"local\"\n",
    "foo()\n",
    "print(x)"
   ]
  },
  {
   "cell_type": "markdown",
   "metadata": {
    "ExecuteTime": {
     "end_time": "2021-12-07T09:35:12.943050Z",
     "start_time": "2021-12-07T09:35:12.929625Z"
    }
   },
   "source": [
    "тк переменная локальная, то мы не можем к ней обращаться вне функции, поэтому, норм вот так"
   ]
  },
  {
   "cell_type": "code",
   "execution_count": 34,
   "metadata": {
    "ExecuteTime": {
     "end_time": "2023-03-16T02:59:53.261821Z",
     "start_time": "2023-03-16T02:59:53.236768Z"
    }
   },
   "outputs": [
    {
     "name": "stdout",
     "output_type": "stream",
     "text": [
      "local\n"
     ]
    },
    {
     "ename": "NameError",
     "evalue": "name 'yy' is not defined",
     "output_type": "error",
     "traceback": [
      "\u001b[1;31m---------------------------------------------------------------------------\u001b[0m",
      "\u001b[1;31mNameError\u001b[0m                                 Traceback (most recent call last)",
      "\u001b[1;32m<ipython-input-34-f054e43b5957>\u001b[0m in \u001b[0;36m<module>\u001b[1;34m\u001b[0m\n\u001b[0;32m      4\u001b[0m \u001b[1;33m\u001b[0m\u001b[0m\n\u001b[0;32m      5\u001b[0m \u001b[0mfoo\u001b[0m\u001b[1;33m(\u001b[0m\u001b[1;33m)\u001b[0m\u001b[1;33m\u001b[0m\u001b[1;33m\u001b[0m\u001b[0m\n\u001b[1;32m----> 6\u001b[1;33m \u001b[0mprint\u001b[0m\u001b[1;33m(\u001b[0m\u001b[0myy\u001b[0m\u001b[1;33m)\u001b[0m\u001b[1;33m\u001b[0m\u001b[1;33m\u001b[0m\u001b[0m\n\u001b[0m",
      "\u001b[1;31mNameError\u001b[0m: name 'yy' is not defined"
     ]
    }
   ],
   "source": [
    "def foo():\n",
    "    yy = \"local\"\n",
    "    print(yy)\n",
    "\n",
    "foo()\n",
    "##print(yy)"
   ]
  },
  {
   "cell_type": "markdown",
   "metadata": {
    "ExecuteTime": {
     "end_time": "2021-12-07T09:37:08.329628Z",
     "start_time": "2021-12-07T09:37:08.304697Z"
    }
   },
   "source": [
    "Глобальная и локальные переменные с одним обозначением?"
   ]
  },
  {
   "cell_type": "code",
   "execution_count": 35,
   "metadata": {
    "ExecuteTime": {
     "end_time": "2023-03-16T03:00:21.658133Z",
     "start_time": "2023-03-16T03:00:21.644168Z"
    }
   },
   "outputs": [
    {
     "name": "stdout",
     "output_type": "stream",
     "text": [
      "local x: 10\n",
      "global x: 5\n"
     ]
    }
   ],
   "source": [
    "x = 5\n",
    "\n",
    "def foo():\n",
    "    x = 10\n",
    "    print(\"local x:\", x)\n",
    "\n",
    "\n",
    "foo()\n",
    "print(\"global x:\", x)"
   ]
  },
  {
   "cell_type": "markdown",
   "metadata": {},
   "source": [
    "Когда мы печатаем переменную внутри `foo()`, она выводит локальный `x: 10`. Это называется локальной областью видимости переменной.\n",
    "\n",
    "Точно так же, когда мы печатаем переменную вне `foo()`, она выводит глобальный `x: 5`. Это называется глобальной областью видимости переменной."
   ]
  },
  {
   "cell_type": "markdown",
   "metadata": {},
   "source": [
    "#### Локальные и глобальные функции"
   ]
  },
  {
   "cell_type": "code",
   "execution_count": 36,
   "metadata": {
    "ExecuteTime": {
     "end_time": "2023-03-16T03:01:30.206257Z",
     "start_time": "2023-03-16T03:01:30.194287Z"
    }
   },
   "outputs": [],
   "source": [
    "def sum_of_cubes(x, y):  # Глобальная функция (1)\n",
    "\n",
    "    # Локальная функция (2) (ее \"видит\" только код внутри sum_of_cubes())\n",
    "    def cube(a):\n",
    "        return a**3\n",
    "\n",
    "    return cube(x) + cube(y)  # return возвращает результат выполнения тому,\n",
    "                              # кто вызвал эту функцию"
   ]
  },
  {
   "cell_type": "code",
   "execution_count": 37,
   "metadata": {
    "ExecuteTime": {
     "end_time": "2023-03-16T03:01:47.647785Z",
     "start_time": "2023-03-16T03:01:47.633822Z"
    }
   },
   "outputs": [
    {
     "data": {
      "text/plain": [
       "9"
      ]
     },
     "execution_count": 37,
     "metadata": {},
     "output_type": "execute_result"
    }
   ],
   "source": [
    "sum_of_cubes(2,1)"
   ]
  },
  {
   "cell_type": "code",
   "execution_count": 38,
   "metadata": {
    "ExecuteTime": {
     "end_time": "2023-03-16T03:01:50.614810Z",
     "start_time": "2023-03-16T03:01:50.589357Z"
    }
   },
   "outputs": [
    {
     "ename": "NameError",
     "evalue": "name 'cube' is not defined",
     "output_type": "error",
     "traceback": [
      "\u001b[1;31m---------------------------------------------------------------------------\u001b[0m",
      "\u001b[1;31mNameError\u001b[0m                                 Traceback (most recent call last)",
      "\u001b[1;32m<ipython-input-38-e4baa36c98f8>\u001b[0m in \u001b[0;36m<module>\u001b[1;34m\u001b[0m\n\u001b[1;32m----> 1\u001b[1;33m \u001b[0mcube\u001b[0m\u001b[1;33m(\u001b[0m\u001b[1;36m3\u001b[0m\u001b[1;33m)\u001b[0m\u001b[1;33m\u001b[0m\u001b[1;33m\u001b[0m\u001b[0m\n\u001b[0m",
      "\u001b[1;31mNameError\u001b[0m: name 'cube' is not defined"
     ]
    }
   ],
   "source": [
    "cube(3)"
   ]
  },
  {
   "cell_type": "markdown",
   "metadata": {},
   "source": [
    "Заметим, что к изменению переменных из другой области видимости необходимо относиться крайне осторожно и прибегать только в случае крайней необходимости.\n",
    "\n",
    "В большинстве случаев необходимо придерживаться концепции изолированного доступа через области видимости."
   ]
  },
  {
   "cell_type": "markdown",
   "metadata": {},
   "source": [
    "#### Нелокальные переменные "
   ]
  },
  {
   "cell_type": "markdown",
   "metadata": {},
   "source": [
    "Используются во вложенных функциях, локальная область видимости которых не определена. Это означает, что переменная не может находиться ни в локальной, ни в глобальной области видимости."
   ]
  },
  {
   "cell_type": "code",
   "execution_count": 42,
   "metadata": {
    "ExecuteTime": {
     "end_time": "2023-03-16T03:04:38.413321Z",
     "start_time": "2023-03-16T03:04:38.401353Z"
    }
   },
   "outputs": [
    {
     "name": "stdout",
     "output_type": "stream",
     "text": [
      "inner: nonlocal\n",
      "outer: nonlocal\n",
      "10\n"
     ]
    }
   ],
   "source": [
    "x = 10\n",
    "def outer():\n",
    "    x = \"local\"\n",
    "\n",
    "    def inner():\n",
    "        nonlocal x\n",
    "        x = \"nonlocal\"\n",
    "        print(\"inner:\", x)\n",
    "\n",
    "    inner()\n",
    "    print(\"outer:\", x)\n",
    "\n",
    "\n",
    "outer()\n",
    "print(x)"
   ]
  },
  {
   "cell_type": "code",
   "execution_count": null,
   "metadata": {
    "ExecuteTime": {
     "end_time": "2021-12-11T03:04:13.264344Z",
     "start_time": "2021-12-11T03:04:13.254159Z"
    }
   },
   "outputs": [],
   "source": [
    "x"
   ]
  },
  {
   "cell_type": "markdown",
   "metadata": {
    "ExecuteTime": {
     "end_time": "2021-12-07T09:52:03.910689Z",
     "start_time": "2021-12-07T09:52:03.895725Z"
    }
   },
   "source": [
    "Если мы изменим значение нелокальной переменной, изменения появятся в локальной переменной."
   ]
  },
  {
   "cell_type": "markdown",
   "metadata": {},
   "source": [
    "### Аргументы функции"
   ]
  },
  {
   "cell_type": "markdown",
   "metadata": {
    "ExecuteTime": {
     "end_time": "2021-12-04T17:43:57.454725Z",
     "start_time": "2021-12-04T17:43:57.387688Z"
    }
   },
   "source": [
    "#### Аргументы по умолчанию"
   ]
  },
  {
   "cell_type": "code",
   "execution_count": 44,
   "metadata": {
    "ExecuteTime": {
     "end_time": "2023-03-16T03:06:56.339991Z",
     "start_time": "2023-03-16T03:06:56.326771Z"
    }
   },
   "outputs": [
    {
     "name": "stdout",
     "output_type": "stream",
     "text": [
      "Hello Петя, Доброе утро!\n",
      "Hello Петя, Как дела?\n"
     ]
    }
   ],
   "source": [
    "def greet(name, msg=\"Доброе утро!\"):\n",
    "    \"\"\"\n",
    "    Эта функция приветствует человека и справшивает \"как дела?\"\n",
    "\n",
    "    Если не приветсвует,то по умолчанию \"Доброе утро\"\n",
    "    утро!\"\n",
    "    \"\"\"\n",
    "    print(\"Hello\", name + ', ' + msg)\n",
    "\n",
    "\n",
    "greet(\"Петя\")\n",
    "greet(\"Петя\", \"Как дела?\")\n"
   ]
  },
  {
   "cell_type": "markdown",
   "metadata": {},
   "source": [
    "Любое количество аргументов в функции может иметь значение по умолчанию. Но если у нас есть аргумент по умолчанию, все аргументы справа также должны иметь значения по умолчанию."
   ]
  },
  {
   "cell_type": "markdown",
   "metadata": {
    "ExecuteTime": {
     "end_time": "2021-12-04T17:48:42.518347Z",
     "start_time": "2021-12-04T17:48:42.495406Z"
    }
   },
   "source": [
    "#### Аргументы ключевые"
   ]
  },
  {
   "cell_type": "markdown",
   "metadata": {
    "ExecuteTime": {
     "end_time": "2021-12-04T17:49:57.279069Z",
     "start_time": "2021-12-04T17:49:57.264109Z"
    }
   },
   "source": [
    "Преимущества ключевых параметров:\n",
    "\n",
    "- нет необходимости отслеживать порядок аргументов;\n",
    "\n",
    "- у ключевых параметров есть значение по умолчанию, которое можно не передавать."
   ]
  },
  {
   "cell_type": "code",
   "execution_count": null,
   "metadata": {
    "ExecuteTime": {
     "end_time": "2022-12-10T03:24:59.838664Z",
     "start_time": "2022-12-10T03:24:59.829679Z"
    }
   },
   "outputs": [],
   "source": [
    "# 2 keyword arguments\n",
    "greet(name = \"Петя\",msg = \"Как дела?\")\n",
    "\n",
    "# 2 keyword arguments (out of order)\n",
    "greet(msg = \"Как дела?\",name = \"Петя\")\n",
    "\n"
   ]
  },
  {
   "cell_type": "markdown",
   "metadata": {
    "ExecuteTime": {
     "end_time": "2021-12-04T17:51:47.220820Z",
     "start_time": "2021-12-04T17:51:47.213739Z"
    }
   },
   "source": [
    "### Упаковка и распаковка аргументов"
   ]
  },
  {
   "cell_type": "markdown",
   "metadata": {},
   "source": [
    "Иногда мы не знаем заранее количество аргументов, которые будут переданы функции. `Python` позволяет нам справляться с подобными ситуациями с помощью вызовов функций с произвольным количеством аргументов.\n",
    "\n",
    "В определении функции мы используем звездочку (*) перед именем параметра, чтобы обозначить этот тип аргумента"
   ]
  },
  {
   "cell_type": "code",
   "execution_count": 46,
   "metadata": {
    "ExecuteTime": {
     "end_time": "2023-03-16T03:10:07.089427Z",
     "start_time": "2023-03-16T03:10:07.078456Z"
    }
   },
   "outputs": [
    {
     "name": "stdout",
     "output_type": "stream",
     "text": [
      "Hello Маша\n",
      "Hello Люся\n",
      "Hello Даша\n",
      "Hello Саша\n",
      "Hello Даша\n",
      "Hello Саша\n"
     ]
    }
   ],
   "source": [
    "def greet(*names):\n",
    "    \"\"\"встречает всех\"\"\"\n",
    "    for name in names:\n",
    "        print(\"Hello\", name)\n",
    "\n",
    "\n",
    "greet(\"Маша\", \"Люся\", \"Даша\", \"Саша\",\"Даша\", \"Саша\")\n"
   ]
  },
  {
   "cell_type": "code",
   "execution_count": null,
   "metadata": {},
   "outputs": [],
   "source": []
  },
  {
   "cell_type": "markdown",
   "metadata": {},
   "source": [
    "если более точно:\n",
    "\n",
    "- `*`- все позиционные аргументы начиная с этой позиции и до конца будут собраны в кортеж;\n",
    "\n",
    "- `**`-  все ключевые аргументы начиная с этой позиции и до конца будут собраны в словарь."
   ]
  },
  {
   "cell_type": "code",
   "execution_count": 47,
   "metadata": {
    "ExecuteTime": {
     "end_time": "2023-03-16T03:12:43.807499Z",
     "start_time": "2023-03-16T03:12:43.788542Z"
    }
   },
   "outputs": [
    {
     "name": "stdout",
     "output_type": "stream",
     "text": [
      "Музыкальная библиотека №1\n",
      "\n",
      "author : П.И. Чайковский\n",
      "birthday : 07/05/1840\n",
      "Вы выбрали:\n",
      "  - Славянский марш\n",
      "  - Лебединое озеро\n",
      "  - Спящая красавица\n",
      "  - Пиковая дама\n",
      "  - Щелкунчик\n",
      "\n",
      "Приходите еще!\n"
     ]
    }
   ],
   "source": [
    "# При упаковке аргументов все переданные позиционные аргументы\n",
    "# будут собраны в кортеж 'order', а ключевые - в словарь 'info'\n",
    "\n",
    "def print_order(*order, **info):\n",
    "    print(\"Музыкальная библиотека №1\\n\")\n",
    "\n",
    "    # Словарь 'infos' должен содержать ключи 'author' и 'birthday'\n",
    "    for key, value in sorted(info.items()):\n",
    "        print(key, \":\", value)\n",
    "\n",
    "    # Кортеж 'order' содержит все наименования произведений\n",
    "    print(\"Вы выбрали:\")\n",
    "    for item in order:\n",
    "        print(\"  -\", item)\n",
    "\n",
    "    print(\"\\nПриходите еще!\")\n",
    "\n",
    "print_order(\"Славянский марш\", \"Лебединое озеро\", \"Спящая красавица\",\n",
    "            \"Пиковая дама\", \"Щелкунчик\",\n",
    "            author=\"П.И. Чайковский\", birthday=\"07/05/1840\")"
   ]
  },
  {
   "cell_type": "markdown",
   "metadata": {},
   "source": [
    "Python также предусматривает и обратный механизм - распаковку аргументов, используя аналогичные обозначения перед аргументом:\n",
    "\n",
    "- `*` - кортеж/список распаковывается как отдельные позиционные аргументы и передается в функцию;\n",
    "\n",
    "- `**` - словарь распаковывается как набор ключевых аргументов и передается в функцию."
   ]
  },
  {
   "cell_type": "code",
   "execution_count": null,
   "metadata": {
    "ExecuteTime": {
     "end_time": "2022-12-10T03:30:57.153697Z",
     "start_time": "2022-12-10T03:30:57.142726Z"
    }
   },
   "outputs": [],
   "source": [
    "# Площадь треугольника по формуле Герона\n",
    "\n",
    "def heron_area_str(a, b, c, units=\"сантиметры\", print_error=True):\n",
    "    if a + b <= c or a + c <= b or b + c <= a:\n",
    "        if print_error:\n",
    "            return \"Проверьте введенные стороны треугольника!\"\n",
    "        return\n",
    "\n",
    "    p = (a + b + c) / 2\n",
    "    s = (p * (p - a) * (p - b) * (p - c)) ** 0.5\n",
    "    return \"{} {}\".format(s, units)\n",
    "\n",
    "abc = [3, 4, 5]\n",
    "params = dict(print_error=True, units=\"см.\")\n",
    "\n",
    "\n",
    "print(heron_area_str(*abc, **params))"
   ]
  },
  {
   "cell_type": "code",
   "execution_count": null,
   "metadata": {},
   "outputs": [],
   "source": []
  },
  {
   "cell_type": "markdown",
   "metadata": {
    "ExecuteTime": {
     "end_time": "2021-12-04T17:55:09.055599Z",
     "start_time": "2021-12-04T17:55:09.048857Z"
    }
   },
   "source": [
    "## Рекурсии"
   ]
  },
  {
   "cell_type": "markdown",
   "metadata": {},
   "source": [
    "Что такое рекурсия?\n",
    "\n",
    "Рекурсия - это процесс определения чего-либо в терминах самого себя."
   ]
  },
  {
   "attachments": {
    "images.jpg": {
     "image/jpeg": "[encoded data removed]"
    }
   },
   "cell_type": "markdown",
   "metadata": {},
   "source": [
    "![images.jpg](attachment:images.jpg)"
   ]
  },
  {
   "cell_type": "code",
   "execution_count": null,
   "metadata": {
    "ExecuteTime": {
     "end_time": "2022-12-10T03:31:24.802897Z",
     "start_time": "2022-12-10T03:31:24.787937Z"
    }
   },
   "outputs": [],
   "source": [
    "def factorial(x):\n",
    "    if x == 1:\n",
    "        return 1\n",
    "    else:\n",
    "        return (x * factorial(x-1))\n",
    "\n",
    "\n",
    "num = 4\n",
    "factorial(num)"
   ]
  },
  {
   "cell_type": "code",
   "execution_count": null,
   "metadata": {
    "ExecuteTime": {
     "end_time": "2021-12-04T18:01:09.612182Z",
     "start_time": "2021-12-04T18:01:09.543246Z"
    }
   },
   "outputs": [],
   "source": [
    "factorial(3)          # 1st call with 3\n",
    "3 * factorial(2)      # 2nd call with 2\n",
    "3 * 2 * factorial(1)  # 3rd call with 1\n",
    "3 * 2 * 1             # return from 3rd call as number=1\n",
    "3 * 2                 # return from 2nd call\n",
    "6                     # return from 1st call"
   ]
  },
  {
   "cell_type": "markdown",
   "metadata": {},
   "source": [
    "Наша рекурсия заканчивается, когда число уменьшается до `1`. Это называется базовым условием.\n",
    "\n",
    "Каждая рекурсивная функция должна иметь базовое условие, которое останавливает рекурсию, иначе функция вызывает себя бесконечно.\n",
    "\n",
    "Интерпретатор `Python` ограничивает глубину рекурсии, чтобы избежать бесконечных рекурсий, приводящих к переполнению стека."
   ]
  },
  {
   "cell_type": "markdown",
   "metadata": {},
   "source": [
    "По умолчанию максимальная глубина рекурсии составляет `3000`. Если предел превышен, возникает ошибка `RecursionError`"
   ]
  },
  {
   "cell_type": "code",
   "execution_count": 48,
   "metadata": {
    "ExecuteTime": {
     "end_time": "2023-03-16T03:17:34.960002Z",
     "start_time": "2023-03-16T03:17:20.897716Z"
    }
   },
   "outputs": [
    {
     "ename": "RecursionError",
     "evalue": "maximum recursion depth exceeded",
     "output_type": "error",
     "traceback": [
      "\u001b[1;31m---------------------------------------------------------------------------\u001b[0m",
      "\u001b[1;31mRecursionError\u001b[0m                            Traceback (most recent call last)",
      "\u001b[1;32m<ipython-input-48-3ec8c6652eef>\u001b[0m in \u001b[0;36m<module>\u001b[1;34m\u001b[0m\n\u001b[0;32m      1\u001b[0m \u001b[1;32mdef\u001b[0m \u001b[0mrecursor\u001b[0m\u001b[1;33m(\u001b[0m\u001b[1;33m)\u001b[0m\u001b[1;33m:\u001b[0m\u001b[1;33m\u001b[0m\u001b[1;33m\u001b[0m\u001b[0m\n\u001b[0;32m      2\u001b[0m     \u001b[0mrecursor\u001b[0m\u001b[1;33m(\u001b[0m\u001b[1;33m)\u001b[0m\u001b[1;33m\u001b[0m\u001b[1;33m\u001b[0m\u001b[0m\n\u001b[1;32m----> 3\u001b[1;33m \u001b[0mrecursor\u001b[0m\u001b[1;33m(\u001b[0m\u001b[1;33m)\u001b[0m\u001b[1;33m\u001b[0m\u001b[1;33m\u001b[0m\u001b[0m\n\u001b[0m",
      "\u001b[1;32m<ipython-input-48-3ec8c6652eef>\u001b[0m in \u001b[0;36mrecursor\u001b[1;34m()\u001b[0m\n\u001b[0;32m      1\u001b[0m \u001b[1;32mdef\u001b[0m \u001b[0mrecursor\u001b[0m\u001b[1;33m(\u001b[0m\u001b[1;33m)\u001b[0m\u001b[1;33m:\u001b[0m\u001b[1;33m\u001b[0m\u001b[1;33m\u001b[0m\u001b[0m\n\u001b[1;32m----> 2\u001b[1;33m     \u001b[0mrecursor\u001b[0m\u001b[1;33m(\u001b[0m\u001b[1;33m)\u001b[0m\u001b[1;33m\u001b[0m\u001b[1;33m\u001b[0m\u001b[0m\n\u001b[0m\u001b[0;32m      3\u001b[0m \u001b[0mrecursor\u001b[0m\u001b[1;33m(\u001b[0m\u001b[1;33m)\u001b[0m\u001b[1;33m\u001b[0m\u001b[1;33m\u001b[0m\u001b[0m\n",
      "... last 1 frames repeated, from the frame below ...\n",
      "\u001b[1;32m<ipython-input-48-3ec8c6652eef>\u001b[0m in \u001b[0;36mrecursor\u001b[1;34m()\u001b[0m\n\u001b[0;32m      1\u001b[0m \u001b[1;32mdef\u001b[0m \u001b[0mrecursor\u001b[0m\u001b[1;33m(\u001b[0m\u001b[1;33m)\u001b[0m\u001b[1;33m:\u001b[0m\u001b[1;33m\u001b[0m\u001b[1;33m\u001b[0m\u001b[0m\n\u001b[1;32m----> 2\u001b[1;33m     \u001b[0mrecursor\u001b[0m\u001b[1;33m(\u001b[0m\u001b[1;33m)\u001b[0m\u001b[1;33m\u001b[0m\u001b[1;33m\u001b[0m\u001b[0m\n\u001b[0m\u001b[0;32m      3\u001b[0m \u001b[0mrecursor\u001b[0m\u001b[1;33m(\u001b[0m\u001b[1;33m)\u001b[0m\u001b[1;33m\u001b[0m\u001b[1;33m\u001b[0m\u001b[0m\n",
      "\u001b[1;31mRecursionError\u001b[0m: maximum recursion depth exceeded"
     ]
    }
   ],
   "source": [
    "def recursor():\n",
    "    recursor()\n",
    "recursor()"
   ]
  },
  {
   "cell_type": "code",
   "execution_count": 49,
   "metadata": {
    "ExecuteTime": {
     "end_time": "2023-03-16T03:17:48.754261Z",
     "start_time": "2023-03-16T03:17:48.742293Z"
    }
   },
   "outputs": [
    {
     "data": {
      "text/plain": [
       "3000"
      ]
     },
     "execution_count": 49,
     "metadata": {},
     "output_type": "execute_result"
    }
   ],
   "source": [
    "from sys import getrecursionlimit\n",
    "getrecursionlimit()"
   ]
  },
  {
   "cell_type": "markdown",
   "metadata": {},
   "source": [
    "Рекурсивные функции нужны в 2ух случаях:\n",
    "    - Есть один или несколько базовых случаев, которые решаются напрямую без необходимости дальнейшей рекурсии.\n",
    "    - Каждый рекурсивный вызов постепенно приближает решение к базовому случаю."
   ]
  },
  {
   "cell_type": "markdown",
   "metadata": {},
   "source": [
    "- Рекурсивные функции делают код чистым и элегантным.\n",
    "- Сложную задачу можно разбить на более простые подзадачи с помощью рекурсии.\n",
    "- С помощью рекурсии генерировать последовательность проще, чем с использованием некоторой вложенной итерации.\n",
    "- Иногда трудно понять логику рекурсии.\n",
    "- Рекурсивные вызовы дороги (неэффективны), поскольку занимают много памяти и времени.\n",
    "- Рекурсивные функции сложно отлаживать."
   ]
  },
  {
   "cell_type": "markdown",
   "metadata": {
    "ExecuteTime": {
     "end_time": "2021-12-04T18:05:26.003575Z",
     "start_time": "2021-12-04T18:05:25.990108Z"
    }
   },
   "source": [
    "### Анонимные/Лямбда функции"
   ]
  },
  {
   "cell_type": "markdown",
   "metadata": {},
   "source": [
    "В Python анонимная функция - это функция, которая определяется без имени.\n",
    "\n",
    "В то время как обычные функции определяются с помощью ключевого слова `def` в Python, анонимные функции определяются с помощью ключевого слова `lambda`.\n",
    "\n",
    "Следовательно, анонимные функции также называются лямбда-функциями."
   ]
  },
  {
   "cell_type": "code",
   "execution_count": null,
   "metadata": {
    "ExecuteTime": {
     "end_time": "2022-12-10T03:33:45.456985Z",
     "start_time": "2022-12-10T03:33:45.448008Z"
    }
   },
   "outputs": [],
   "source": [
    "lambda arguments: expression #базовое определение"
   ]
  },
  {
   "cell_type": "markdown",
   "metadata": {},
   "source": [
    "Лямбда-функции могут иметь любое количество аргументов, но только одно выражение. Выражение оценивается и возвращается. Лямбда-функции можно использовать везде, где требуются функциональные объекты."
   ]
  },
  {
   "cell_type": "code",
   "execution_count": 50,
   "metadata": {
    "ExecuteTime": {
     "end_time": "2023-03-16T03:19:53.976540Z",
     "start_time": "2023-03-16T03:19:53.967563Z"
    }
   },
   "outputs": [
    {
     "name": "stdout",
     "output_type": "stream",
     "text": [
      "10\n"
     ]
    }
   ],
   "source": [
    "double = lambda x: x * 2 #пример\n",
    "print(double(5))"
   ]
  },
  {
   "cell_type": "markdown",
   "metadata": {
    "ExecuteTime": {
     "end_time": "2021-12-07T09:22:04.998791Z",
     "start_time": "2021-12-07T09:22:04.857293Z"
    }
   },
   "source": [
    "В приведенной выше программе лямбда `x: x * 2` - это лямбда-функция. Здесь `x` - аргумент, а `x * 2` - выражение, которое вычисляется и возвращается.\n",
    "\n",
    "У этой функции нет названия. Он возвращает функциональный объект, присвоенный идентификатору `double`."
   ]
  },
  {
   "cell_type": "markdown",
   "metadata": {},
   "source": [
    "Лямбда-функции нужно использовать, когда нам требуется безымянная функция на короткий период времени.\n",
    "\n",
    "В Python мы обычно используем его как аргумент для функции высшего порядка (функции, которая принимает другие функции в качестве аргументов). Лямбда-функции используются вместе со встроенными функциями, такими как `filter()`, `map()` и т. Д."
   ]
  },
  {
   "cell_type": "code",
   "execution_count": 51,
   "metadata": {
    "ExecuteTime": {
     "end_time": "2023-03-16T03:21:42.851209Z",
     "start_time": "2023-03-16T03:21:42.839243Z"
    }
   },
   "outputs": [
    {
     "name": "stdout",
     "output_type": "stream",
     "text": [
      "[4, 6, 8, 12]\n"
     ]
    }
   ],
   "source": [
    "my_list = [1, 5, 4, 6, 8, 11, 3, 12]\n",
    "\n",
    "new_list = list(filter(lambda x: (x%2 == 0) , my_list))\n",
    "\n",
    "print(new_list)"
   ]
  },
  {
   "cell_type": "code",
   "execution_count": 53,
   "metadata": {
    "ExecuteTime": {
     "end_time": "2023-03-16T03:22:07.686035Z",
     "start_time": "2023-03-16T03:22:07.677063Z"
    }
   },
   "outputs": [
    {
     "name": "stdout",
     "output_type": "stream",
     "text": [
      "[2, 10, 8, 12, 16, 22, 6, 24]\n"
     ]
    }
   ],
   "source": [
    "new_list = list(map(lambda x: x * 2 , my_list))\n",
    "\n",
    "print(new_list)"
   ]
  },
  {
   "cell_type": "markdown",
   "metadata": {},
   "source": [
    "функция `map()` используется для применения функции к каждому элементу итерируемого объекта"
   ]
  },
  {
   "attachments": {},
   "cell_type": "markdown",
   "metadata": {
    "ExecuteTime": {
     "end_time": "2021-12-07T10:28:57.985163Z",
     "start_time": "2021-12-07T10:28:57.926736Z"
    }
   },
   "source": [
    "# Задачи"
   ]
  },
  {
   "cell_type": "markdown",
   "metadata": {},
   "source": [
    "1. Выведите все счастливые номера билетов в диапазоне от  до  (положительные целые числа, ), если известно, что счастливым считается номер, у которого количество четных цифр равно количеству нечетных"
   ]
  },
  {
   "cell_type": "code",
   "execution_count": null,
   "metadata": {},
   "outputs": [],
   "source": [
    "def count_even_odd_digits(n):\n",
    "    even_count = odd_count = 0\n",
    "    while n > 0:\n",
    "        if n % 2 == 0:\n",
    "            even_count += 1\n",
    "        else:\n",
    "            odd_count += 1\n",
    "        n //= 10\n",
    "    return even_count, odd_count\n",
    "\n",
    "def print_lucky_tickets(start, end):\n",
    "    for n in range(start, end + 1):\n",
    "        even_count, odd_count = count_even_odd_digits(n)\n",
    "        if even_count == odd_count:\n",
    "            print(n)\n",
    "\n",
    "print_lucky_tickets(100, 200)"
   ]
  },
  {
   "attachments": {},
   "cell_type": "markdown",
   "metadata": {
    "ExecuteTime": {
     "end_time": "2021-12-07T10:29:42.814253Z",
     "start_time": "2021-12-07T10:29:42.745430Z"
    }
   },
   "source": [
    "2. Дата характеризуется тремя натуральными числами: день, месяц и год. Учитывая, что год может быть високосным, реализуйте две функции, которые определяют вчерашнюю и завтрашнюю дату"
   ]
  },
  {
   "cell_type": "code",
   "execution_count": 11,
   "metadata": {},
   "outputs": [
    {
     "name": "stdout",
     "output_type": "stream",
     "text": [
      "(15, 3, 2023)\n",
      "(17, 3, 2023)\n"
     ]
    }
   ],
   "source": [
    "input_date = input(\"Enter date DD.MM.YYYY(delimeter = .)\")\n",
    "splitted_input = input_date.split('.')\n",
    "if len(splitted_input) != 3:\n",
    "    raise Exception(\"Wrong input\") \n",
    "try:\n",
    "    day = int(splitted_input[0])\n",
    "    month = int(splitted_input[1])\n",
    "    year = int(splitted_input[2])\n",
    "except ValueError:\n",
    "    print(\"Wrong input numbers\")\n",
    "    quit(-1)\n",
    "is_leap_year = lambda year: year % 4 == 0 and (year % 100 != 0 or year % 400 == 0)\n",
    "\n",
    "def get_last_day_of_month(month, year):\n",
    "    if month in {4, 6, 9, 11}:\n",
    "        return 30\n",
    "    elif month == 2:\n",
    "        return 29 if is_leap_year(year) else 28\n",
    "    else:\n",
    "        return 31\n",
    "\n",
    "def get_previous_date(day, month, year):\n",
    "    if day > 1:\n",
    "        return day - 1, month, year\n",
    "    else:\n",
    "        if month > 1:\n",
    "            month -= 1\n",
    "        else:\n",
    "            month = 12\n",
    "            year -= 1\n",
    "        last_day_of_previous_month = get_last_day_of_month(month, year)\n",
    "        return last_day_of_previous_month, month, year\n",
    "\n",
    "def get_next_date(day, month, year):\n",
    "    last_day_of_month = get_last_day_of_month(month, year)\n",
    "    if day < last_day_of_month:\n",
    "        return day + 1, month, year\n",
    "    else:\n",
    "        if month < 12:\n",
    "            month += 1\n",
    "        else:\n",
    "            month = 1\n",
    "            year += 1\n",
    "        first_day_of_next_month = 1 if month == 3 and is_leap_year(year) else 2\n",
    "        return first_day_of_next_month, month, year\n",
    "\n",
    "print(get_previous_date(day, month, year))\n",
    "print(get_next_date(day, month, year)) "
   ]
  },
  {
   "cell_type": "markdown",
   "metadata": {
    "ExecuteTime": {
     "end_time": "2021-12-07T10:30:55.798984Z",
     "start_time": "2021-12-07T10:30:55.783268Z"
    }
   },
   "source": [
    "3. Создайте список из случайных целых чисел.\n",
    "Определите их НОК (наименьшее общее кратное) и НОД (наибольший общий делитель).\n",
    "Если это невозможно, то функция выводит ошибку."
   ]
  },
  {
   "cell_type": "code",
   "execution_count": 73,
   "metadata": {},
   "outputs": [
    {
     "name": "stdout",
     "output_type": "stream",
     "text": [
      "List of random integers: [91, 1, 24, 86, 72]\n",
      "LCM: 281736\n",
      "GCD: 1\n"
     ]
    }
   ],
   "source": [
    "import random\n",
    "\n",
    "def gcd(a, b):\n",
    "    \"\"\"Returns the Greatest Common Divisor (GCD) of two integers using Euclid's algorithm.\"\"\"\n",
    "    while b != 0:\n",
    "        a, b = b, a % b\n",
    "    return a\n",
    "\n",
    "def lcm(a, b):\n",
    "    \"\"\"Returns the Least Common Multiple (LCM) of two integers using GCD.\"\"\"\n",
    "    return abs(a * b) // gcd(a, b)\n",
    "\n",
    "def find_lcm(num_list):\n",
    "    \"\"\"Returns the Least Common Multiple (LCM) of a list of integers.\"\"\"\n",
    "    lcm_value = num_list[0]\n",
    "    for i in range(1, len(num_list)):\n",
    "        lcm_value = lcm(lcm_value, num_list[i])\n",
    "    return lcm_value\n",
    "\n",
    "def find_gcd(num_list):\n",
    "    \"\"\"Returns the Greatest Common Divisor (GCD) of a list of integers.\"\"\"\n",
    "    gcd_value = num_list[0]\n",
    "    for i in range(1, len(num_list)):\n",
    "        gcd_value = gcd(gcd_value, num_list[i])\n",
    "    return gcd_value\n",
    "\n",
    "n = int(input(\"Enter number of values:\"))\n",
    "\n",
    "num_list = random.sample(range(1, 101), n)\n",
    "\n",
    "lcm_value = find_lcm(num_list)\n",
    "gcd_value = find_gcd(num_list)\n",
    "\n",
    "print(\"List of random integers:\", num_list)\n",
    "print(\"LCM:\", lcm_value)\n",
    "print(\"GCD:\", gcd_value)\n",
    "# Не понял условие \"Если это невозможно, то функция выводит ошибку.\".\n",
    "# Невозможно в плане это число больше чем INT_MAX?"
   ]
  },
  {
   "cell_type": "markdown",
   "metadata": {},
   "source": [
    "4. Дан список с результатами голосования на выборах в виде:\n",
    "\n",
    "[1, 3, 2, 2, 2, 5, -1, ...]\n",
    "где номер определяет голос за партию из списка:\n",
    "\n",
    "- 1 = Партия №1.\n",
    "- 2 = Партия №2.\n",
    "- 3 = Партия №3.\n",
    "...\n",
    "- 1 - Испорченный бланк.\n",
    "\n",
    "Подведите итоги выборов, выведя на экран список партий в соответствии с убыванием количества полученных голосов и их процентным соотношением:\n",
    "\n",
    "- Партия №2 | 1111 | 58.21%\n",
    "- Партия №4 |  999 | 38.14%\n",
    "____________________________"
   ]
  },
  {
   "cell_type": "code",
   "execution_count": 91,
   "metadata": {},
   "outputs": [
    {
     "name": "stdout",
     "output_type": "stream",
     "text": [
      "Партия №2 | 91108 | 10.03%\n",
      "Партия №5 | 91026 | 10.02%\n",
      "Партия №4 | 91011 | 10.02%\n",
      "Партия №9 | 91000 | 10.01%\n",
      "Партия №6 | 90955 | 10.01%\n",
      "Партия №10 | 90954 | 10.01%\n",
      "Партия №3 | 90862 | 10.00%\n",
      "Партия №7 | 90623 | 9.97%\n",
      "Партия №8 | 90611 | 9.97%\n",
      "Партия №1 | 90499 | 9.96%\n",
      "Количество проголосовавших: 1000000 | Испорченных бланков: 91351\n"
     ]
    }
   ],
   "source": [
    "def party_random(n: int, m: int):\n",
    "    \"\"\"Returns a list of random values with election result from n-people\"\"\"\n",
    "    rand_values = [random.randint(0, m) for _ in range(n)]\n",
    "    for i in range(len(rand_values)):\n",
    "        if rand_values[i] == 0:\n",
    "            rand_values[i] = -1\n",
    "    return rand_values\n",
    "\n",
    "n = int(input(\"Enter number of voters:\"))\n",
    "m = int(input(\"Enter number of parties:\"))\n",
    "votes = party_random(n, m)\n",
    "party_votes = {}\n",
    "\n",
    "for vote in votes:\n",
    "    if vote == -1:\n",
    "        continue \n",
    "    if vote not in party_votes:\n",
    "        party_votes[vote] = 1\n",
    "    else:\n",
    "        party_votes[vote] += 1\n",
    "\n",
    "sorted_parties = sorted(party_votes.items(), key = lambda x: x[1], reverse = True)\n",
    "\n",
    "total_invalid_votes = votes.count(-1)\n",
    "total_valid_votes = len(votes) - total_invalid_votes\n",
    "\n",
    "for party, vote in sorted_parties:\n",
    "    percentage = (vote / total_valid_votes) * 100\n",
    "    print(f\"Партия №{party} | {vote} | {percentage:.2f}%\")\n",
    "print(f\"Количество проголосовавших: {len(votes)} | Испорченных бланков: {total_invalid_votes}\")"
   ]
  },
  {
   "cell_type": "markdown",
   "metadata": {
    "ExecuteTime": {
     "end_time": "2021-12-07T16:09:01.568688Z",
     "start_time": "2021-12-07T16:09:01.500045Z"
    }
   },
   "source": [
    "5. Создайте функцию `fun_arg_print()`, которая принимает 1, 2 или 3  ключевых параметра. \n",
    "В результате ее работы на печать в консоль выводятся значения переданных переменных, но только если они не равны между собой \n",
    "`None`. \n",
    "и печатает сообщение об этом, например: «Вы передали аргументы: `var1 = 2, var3 = 10`»."
   ]
  },
  {
   "cell_type": "code",
   "execution_count": 95,
   "metadata": {},
   "outputs": [
    {
     "name": "stdout",
     "output_type": "stream",
     "text": [
      "Вы передали аргументы: var1 = 2, var3 = 10\n",
      "Arguments are equal or missing\n",
      "Вы передали аргументы: var1 = 1, var2 = 2, var3 = 3\n",
      "Arguments are equal or missing\n"
     ]
    }
   ],
   "source": [
    "def fun_arg_print(var1 = None, var2 = None, var3 = None):\n",
    "    \"\"\"\"\"\"\n",
    "    vars = [var1, var2, var3]\n",
    "    vars_set = set(vars) - set([None])\n",
    "\n",
    "    if len(vars_set) > 1:\n",
    "        var_str = \", \".join([f\"{name} = {val}\" for name, val in zip([\"var1\", \"var2\", \"var3\"], vars) if val is not None])\n",
    "        print(f\"Вы передали аргументы: {var_str}\")\n",
    "    else:\n",
    "        print(\"Arguments are equal or missing\")\n",
    "\n",
    "#TEST\n",
    "fun_arg_print(var1 = 2, var3 = 10)\n",
    "# Expected output: You passed arguments: var1 = 2, var3 = 10\n",
    "\n",
    "fun_arg_print(var1 = 2, var2 = 2)\n",
    "# Expected output: Arguments are equal or missing\n",
    "\n",
    "fun_arg_print(var1 = 1, var2 = 2, var3 = 3)\n",
    "# Expected output: Arguments are equal or missing\n",
    "\n",
    "fun_arg_print()\n",
    "# Expected output: Arguments are equal or missing"
   ]
  },
  {
   "cell_type": "markdown",
   "metadata": {},
   "source": [
    "6. функция time_now() работает неверно, она должна показывать текущее время с сообщением. \n",
    "Но время не меняется. \n",
    "Код предоставлен ниже. \n",
    "Требуется доказать, что ошибка есть и исправить программу."
   ]
  },
  {
   "cell_type": "code",
   "execution_count": 88,
   "metadata": {},
   "outputs": [
    {
     "name": "stdout",
     "output_type": "stream",
     "text": [
      "сейчас:  2023-03-19 14:15:58.131063\n",
      "сейчас+1:  2023-03-19 14:15:59.132363\n",
      "сейчас+1+1: 2023-03-19 14:16:00.132237\n"
     ]
    }
   ],
   "source": [
    "# FIXED\n",
    "from datetime import datetime\n",
    "from time import sleep\n",
    " \n",
    " \n",
    "def time_now(msg):\n",
    "    print(msg, datetime.now())\n",
    " \n",
    "# Тесты\n",
    "time_now('сейчас: ')\n",
    "sleep(1)\n",
    "time_now('сейчас+1: ')\n",
    "sleep(1)\n",
    "time_now('сейчас+1+1:')\n",
    "# FIXED"
   ]
  },
  {
   "cell_type": "markdown",
   "metadata": {
    "ExecuteTime": {
     "end_time": "2021-12-07T10:38:01.205538Z",
     "start_time": "2021-12-07T10:38:01.190522Z"
    }
   },
   "source": [
    "7. Создайте функцию `nextPrime`, которая находит и возвращает первое простое число, большее введенного \n",
    "числа `n`. Само число `n` должно передаваться в функцию в качестве единственного параметра. В  основной программе запросите у  пользователя это значение и  выведите на экран первое простое число, большее заданного"
   ]
  },
  {
   "cell_type": "code",
   "execution_count": 97,
   "metadata": {},
   "outputs": [
    {
     "name": "stdout",
     "output_type": "stream",
     "text": [
      "The next prime number after 5000 is 5003\n"
     ]
    }
   ],
   "source": [
    "def is_prime(n):\n",
    "    if n <= 1:\n",
    "        return False\n",
    "    for i in range(2, int(n ** 0.5) + 1):\n",
    "        if n % i == 0:\n",
    "            return False\n",
    "    return True\n",
    "\n",
    "def nextPrime(n):\n",
    "    \"\"\"Return the first prime number greater than the input\"\"\"\n",
    "    if n < 2:\n",
    "        return 2\n",
    "    num = n + 1\n",
    "    while True:\n",
    "        if is_prime(num):\n",
    "            return num\n",
    "        num += 1\n",
    "\n",
    "n = int(input(\"Enter a number: \"))\n",
    "next_prime = nextPrime(n)\n",
    "print(f\"The next prime number after {n} is {next_prime}\")"
   ]
  },
  {
   "cell_type": "markdown",
   "metadata": {
    "ExecuteTime": {
     "end_time": "2021-12-07T10:32:29.261486Z",
     "start_time": "2021-12-07T10:32:29.188552Z"
    }
   },
   "source": [
    "8. Напишите функцию, которая принимает неограниченное количество числовых аргументов и возвращает кортеж из двух списков:\n",
    "\n",
    "\n",
    "- отрицательных значений (отсортирован по убыванию);\n",
    "- неотрицательных значений (отсортирован по возрастанию)"
   ]
  },
  {
   "cell_type": "code",
   "execution_count": 98,
   "metadata": {},
   "outputs": [
    {
     "name": "stdout",
     "output_type": "stream",
     "text": [
      "Sorted negative values: [-1, -3, -4]\n",
      "Sorted non-negative values: [0, 2, 5, 7]\n"
     ]
    }
   ],
   "source": [
    "def sort_numbers(*args):\n",
    "    \"\"\"Return sorted numbers\"\"\"\n",
    "    negatives = sorted([n for n in args if n < 0], reverse = True)\n",
    "    non_negatives = sorted([n for n in args if n >= 0])\n",
    "    return (negatives, non_negatives)\n",
    "\n",
    "neg, non_neg = sort_numbers(5, -1, 2, -3, 0, 7, -4)\n",
    "print(f\"Sorted negative values: {neg}\")\n",
    "print(f\"Sorted non-negative values: {non_neg}\")"
   ]
  },
  {
   "cell_type": "markdown",
   "metadata": {
    "ExecuteTime": {
     "end_time": "2021-12-07T10:33:06.757566Z",
     "start_time": "2021-12-07T10:33:06.745331Z"
    }
   },
   "source": [
    "9. Дано натуральное число. Напишите рекурсивные функции для определения:\n",
    "\n",
    "\n",
    "- суммы цифр числа;\n",
    "- количества цифр в числе."
   ]
  },
  {
   "cell_type": "code",
   "execution_count": 100,
   "metadata": {},
   "outputs": [
    {
     "name": "stdout",
     "output_type": "stream",
     "text": [
      "Number: 12345 | Sum of digits: 15 | Count of digits: 5\n"
     ]
    }
   ],
   "source": [
    "def sum_of_digits(n):\n",
    "    \"\"\"Returns sum of digits\"\"\"\n",
    "    if n == 0:\n",
    "        return 0\n",
    "    else:\n",
    "        return n % 10 + sum_of_digits(n // 10)\n",
    "    \n",
    "def count_digits(n):\n",
    "    \"\"\"Returns count of digits\"\"\"\n",
    "    if n < 10:\n",
    "        return 1\n",
    "    else:\n",
    "        return 1 + count_digits(n // 10)\n",
    "\n",
    "n = int(input(\"Enter number:\"))\n",
    "print(f\"Number: {n} | Sum of digits: {sum_of_digits(n)} | Count of digits: {count_digits(n)}\")"
   ]
  },
  {
   "cell_type": "markdown",
   "metadata": {},
   "source": [
    "10. Напишите функцию `flattening`, реализующую рекурсивный алгоритм выравнивания списка. Функция должна принимать на вход список и возвращать выровненную версию списка.\n",
    "\n",
    "вход: `[1, [2, 3], [4, [5, [6, 7]]], [[[8],9], [10]]]`\n",
    "\n",
    "выход: `[1, 2, 3, 4, 5, 6, 7, 8, 9, 10]`\n",
    "\n",
    " `flattening` может работать по следующему алгоритму:\n",
    "\n",
    "- Если список data пуст, тогда\n",
    "\n",
    "    - возвращаем пустой список\n",
    " \n",
    "- Если первый элемент списка data также является списком, тогда\n",
    "\n",
    "    - выравниваем первый элемент списка data\n",
    "    - присваиваем результат переменной l1\n",
    "    - выравниваем все элементы первого элемента списка data, за исключением первого\n",
    "    - присваиваем результат переменной l2\n",
    "    - возвращаем результат конкатенации списков l1 и l2\n",
    " \n",
    "- Если первый элемент списка data не является списком, тогда\n",
    "    - присваиваем переменной l1 список, состоящий из первого элемента списка data\n",
    "    - выравниваем все элементы первого элемента списка data, за исключением первого\n",
    "    - присваиваем результат переменной l2\n",
    "    - возвращаем результат конкатенации списков l1 и l2"
   ]
  },
  {
   "cell_type": "code",
   "execution_count": 101,
   "metadata": {},
   "outputs": [
    {
     "name": "stdout",
     "output_type": "stream",
     "text": [
      "Input data: [1, [2, 3], [4, [5, [6, 7]]], [[[8], 9], [10]]]\n",
      "Flatted data: [1, 2, 3, 4, 5, 6, 7, 8, 9, 10]\n"
     ]
    }
   ],
   "source": [
    "def flattening(data):\n",
    "    if not data:\n",
    "        return []\n",
    "    elif isinstance(data[0], list):\n",
    "        l1 = flattening(data[0])\n",
    "        l2 = flattening(data[1:])\n",
    "        return l1 + l2\n",
    "    else:\n",
    "        l1 = [data[0]]\n",
    "        l2 = flattening(data[1:])\n",
    "        return l1 + l2\n",
    "\n",
    "input_data = [1, [2, 3], [4, [5, [6, 7]]], [[[8],9], [10]]]\n",
    "result = flattening(input_data)\n",
    "print(f\"Input data: {input_data}\")\n",
    "print(f\"Flatted data: {result}\")"
   ]
  },
  {
   "cell_type": "markdown",
   "metadata": {},
   "source": [
    "11. Напишите функцию, которая на вход получает 2 множества и удаляет из 1го все пересечения со вторым."
   ]
  },
  {
   "cell_type": "code",
   "execution_count": 15,
   "metadata": {},
   "outputs": [
    {
     "name": "stdout",
     "output_type": "stream",
     "text": [
      "{1, 2, 3}\n",
      "{1, 2, 3}\n"
     ]
    }
   ],
   "source": [
    "# Если через множества\n",
    "def remove_intersection(set1, set2):\n",
    "    set1.difference_update(set2)\n",
    "\n",
    "set1 = {1, 2, 3, 4, 5}\n",
    "set2 = {4, 5, 6, 7, 8}\n",
    "remove_intersection(set1, set2)\n",
    "print(set1)\n",
    "# Если через списки\n",
    "def remove_intersection(*sets):\n",
    "    set1 = set(sets[0])\n",
    "    set2 = set(sets[1])\n",
    "    set1.difference_update(set2)\n",
    "    return set1\n",
    "set1 = [1, 2, 3, 4, 5]\n",
    "set2 = (4, 5, 6, 7, 8)\n",
    "\n",
    "print(remove_intersection(set1, set2))"
   ]
  },
  {
   "attachments": {},
   "cell_type": "markdown",
   "metadata": {
    "ExecuteTime": {
     "end_time": "2021-12-07T17:07:34.950558Z",
     "start_time": "2021-12-07T17:07:34.926372Z"
    }
   },
   "source": [
    "12. Напишите функцию, которая на вход получает неограниченное кол-во списоков и выводит их пересечение."
   ]
  },
  {
   "cell_type": "code",
   "execution_count": 102,
   "metadata": {},
   "outputs": [
    {
     "name": "stdout",
     "output_type": "stream",
     "text": [
      "{4, 5}\n"
     ]
    }
   ],
   "source": [
    "def intersect(*lists):\n",
    "    \"\"\"Returns intersection of lists\"\"\"\n",
    "    if not lists:\n",
    "        return set()\n",
    "    result = set(lists[0])\n",
    "    for lst in lists[1:]:\n",
    "        result.intersection_update(lst)\n",
    "    return result\n",
    "\n",
    "a = [1, 2, 3, 4, 5]\n",
    "b = [4, 5, 6, 7]\n",
    "c = [4, 5, 8, 9]\n",
    "\n",
    "print(intersect(a, b, c))"
   ]
  }
 ],
 "metadata": {
  "kernelspec": {
   "display_name": "Python 3",
   "language": "python",
   "name": "python3"
  },
  "language_info": {
   "codemirror_mode": {
    "name": "ipython",
    "version": 3
   },
   "file_extension": ".py",
   "mimetype": "text/x-python",
   "name": "python",
   "nbconvert_exporter": "python",
   "pygments_lexer": "ipython3",
   "version": "3.8.10"
  }
 },
 "nbformat": 4,
 "nbformat_minor": 2
}

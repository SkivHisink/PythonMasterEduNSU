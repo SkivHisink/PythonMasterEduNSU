{
 "cells": [
  {
   "cell_type": "markdown",
   "metadata": {},
   "source": [
    "# Списки\n",
    "\n",
    "Очень важной структурой данных в Python является список. Это просто упорядоченная совокупность (или коллекция), похожая на массив в других языках программирования, но с дополнительными функциональными возможностями."
   ]
  },
  {
   "cell_type": "code",
   "execution_count": null,
   "metadata": {
    "ExecuteTime": {
     "end_time": "2022-11-26T02:21:24.396011Z",
     "start_time": "2022-11-26T02:21:24.390026Z"
    }
   },
   "outputs": [],
   "source": [
    "integer_list = [1, 2, 3] # список целых чисел\n",
    "heterogeneous_list = [\"строка\", 0.1 , True,32923932] # разнородный список\n",
    "list_of_lists = [integer_list, heterogeneous_list, [] ] # список списков\n",
    "integer_list,heterogeneous_list,list_of_lists"
   ]
  },
  {
   "cell_type": "code",
   "execution_count": null,
   "metadata": {
    "ExecuteTime": {
     "end_time": "2022-11-26T02:21:26.687714Z",
     "start_time": "2022-11-26T02:21:26.681724Z"
    }
   },
   "outputs": [],
   "source": [
    "list_length = len(list_of_lists)\n",
    "list_sum = sum(integer_list)\n",
    "list_length,list_sum"
   ]
  },
  {
   "cell_type": "markdown",
   "metadata": {},
   "source": [
    "Устанавливать значение и получать доступ к n-му элементу списка можно при помощи квадратных скобок:"
   ]
  },
  {
   "cell_type": "code",
   "execution_count": null,
   "metadata": {
    "ExecuteTime": {
     "end_time": "2022-11-26T02:25:01.710795Z",
     "start_time": "2022-11-26T02:25:01.684340Z"
    }
   },
   "outputs": [],
   "source": [
    "list1 = [1,2,3]\n",
    "list2 = list(range(20,10,-2))\n",
    "list1,list2"
   ]
  },
  {
   "cell_type": "code",
   "execution_count": null,
   "metadata": {
    "ExecuteTime": {
     "end_time": "2023-03-09T02:29:40.228127Z",
     "start_time": "2023-03-09T02:29:40.221950Z"
    }
   },
   "outputs": [],
   "source": [
    "x = list(range (10)) # задает список [0, 1 , . . . , 9]\n",
    "zero = x[0] # = 0 , списки нуль-индексные, т. е . индекс 1-го элемента = 0\n",
    "one = x[1] # = 1\n",
    "nine = x[-1] # = 9, по-питоновски взять последний элемент\n",
    "eight = x[-2] # = 8, по-питоновски взять предпоследний элемент\n",
    "x[0] = 'a' # теперь х = { - 1 , 1 , 2, 3, . . . , 9]"
   ]
  },
  {
   "cell_type": "code",
   "execution_count": null,
   "metadata": {
    "ExecuteTime": {
     "end_time": "2022-11-26T02:25:36.943999Z",
     "start_time": "2022-11-26T02:25:36.938014Z"
    }
   },
   "outputs": [],
   "source": [
    "x[0],zero,nine,eight"
   ]
  },
  {
   "cell_type": "markdown",
   "metadata": {},
   "source": [
    "Помимо этого, квадратные скобки применяются для «нарезки» списков:"
   ]
  },
  {
   "cell_type": "code",
   "execution_count": null,
   "metadata": {
    "ExecuteTime": {
     "end_time": "2022-11-26T02:26:37.217518Z",
     "start_time": "2022-11-26T02:26:37.208885Z"
    }
   },
   "outputs": [],
   "source": [
    "without_first_and_last = x[1:-1]\n",
    "without_first_and_last"
   ]
  },
  {
   "cell_type": "code",
   "execution_count": null,
   "metadata": {
    "ExecuteTime": {
     "end_time": "2023-03-09T02:30:05.324579Z",
     "start_time": "2023-03-09T02:30:05.319617Z"
    }
   },
   "outputs": [],
   "source": [
    "three_to_end = x[3:] #с третьего до конца = {3, 4, ... , 9] \n",
    "one_to_four = x[1:5] # с первого по четвертый = {1 , 2, 3, 4] \n",
    "last_three = x[-3:] # последние три = { 7, 8, 9] \n",
    "without_first_and_last = x[1:-1] # без первого и последнего = {1 , 2, ... , 8] \n",
    "copy_of_x = x[:] # копия списка х= [ -1, 1, 2, ... , 91"
   ]
  },
  {
   "cell_type": "code",
   "execution_count": null,
   "metadata": {
    "ExecuteTime": {
     "end_time": "2022-11-26T02:32:38.773955Z",
     "start_time": "2022-11-26T02:32:38.763112Z"
    }
   },
   "outputs": [],
   "source": [
    "three_to_end,one_to_four,last_three,without_first_and_last,copy_of_x"
   ]
  },
  {
   "cell_type": "code",
   "execution_count": null,
   "metadata": {},
   "outputs": [],
   "source": [
    "one_to_four = x[1:5] \n",
    "one_to_four\n",
    "x[-5:-1]"
   ]
  },
  {
   "cell_type": "markdown",
   "metadata": {},
   "source": [
    "В Python имеется оператор in, который проверяет принадлежность элемента списку:"
   ]
  },
  {
   "cell_type": "code",
   "execution_count": null,
   "metadata": {
    "ExecuteTime": {
     "end_time": "2023-03-09T02:30:19.225374Z",
     "start_time": "2023-03-09T02:30:19.214398Z"
    }
   },
   "outputs": [],
   "source": [
    "55 in [1, 2, 3,[55,4]][3]"
   ]
  },
  {
   "cell_type": "markdown",
   "metadata": {},
   "source": [
    "Проверка заключается в поочередном просмотре всех элементов, поэтому пользоваться им стоит только тогда, когда точно известно, что список небольшой или неважно, сколько времени уйдет на проверку.\n",
    "\n",
    "Списки легко сцеплять друг с другом:"
   ]
  },
  {
   "cell_type": "code",
   "execution_count": null,
   "metadata": {},
   "outputs": [],
   "source": [
    "x = [1, 2, 3]\n",
    "x.extend( [ 4, 5, 6] ) # теперь х = {1, 2, 3, 4, 5, 6}\n",
    "x"
   ]
  },
  {
   "cell_type": "code",
   "execution_count": null,
   "metadata": {
    "ExecuteTime": {
     "end_time": "2022-11-26T02:41:04.053766Z",
     "start_time": "2022-11-26T02:41:04.045778Z"
    }
   },
   "outputs": [],
   "source": [
    "x = [1, 2, 3]\n",
    "y = [4, 5, 6]\n",
    "##x = y+x\n",
    "x"
   ]
  },
  {
   "cell_type": "code",
   "execution_count": null,
   "metadata": {
    "ExecuteTime": {
     "end_time": "2022-11-26T02:41:04.761693Z",
     "start_time": "2022-11-26T02:41:04.754994Z"
    }
   },
   "outputs": [],
   "source": [
    "s=[]\n",
    "for i in range(len(x)):\n",
    "    s.append(x[i]+y[i])\n",
    "s"
   ]
  },
  {
   "cell_type": "markdown",
   "metadata": {},
   "source": [
    "Если нужно оставить список х без изменений, то можно воспользоваться сложением списков:"
   ]
  },
  {
   "cell_type": "code",
   "execution_count": null,
   "metadata": {},
   "outputs": [],
   "source": [
    "x = [1, 2, 3]\n",
    "y = x + [4, 5, 6] #у= (1, 2, 3, 4, 5, 6] ; х не изменился\n",
    "y,x"
   ]
  },
  {
   "cell_type": "markdown",
   "metadata": {},
   "source": [
    "Обычно к спискам добавляют по одному элементу за одну операцию:"
   ]
  },
  {
   "cell_type": "code",
   "execution_count": null,
   "metadata": {},
   "outputs": [],
   "source": [
    "x = [1, 2, 3]\n",
    "x.append (0)# теперь х = [1,2,3,0]\n",
    "y= x [-1] # = 0\n",
    "z = len (x)# = 4"
   ]
  },
  {
   "cell_type": "markdown",
   "metadata": {},
   "source": [
    "## Сортировка списков"
   ]
  },
  {
   "cell_type": "markdown",
   "metadata": {},
   "source": [
    "Используются две функции sort() и sorted()"
   ]
  },
  {
   "cell_type": "code",
   "execution_count": null,
   "metadata": {
    "ExecuteTime": {
     "end_time": "2023-03-09T02:30:40.802699Z",
     "start_time": "2023-03-09T02:30:40.793721Z"
    }
   },
   "outputs": [],
   "source": [
    "x=[1,5,6,8,3,8,7,10]\n",
    "x.sort()\n",
    "x"
   ]
  },
  {
   "cell_type": "code",
   "execution_count": null,
   "metadata": {},
   "outputs": [],
   "source": [
    "x.sort(reverse=True)\n",
    "x"
   ]
  },
  {
   "cell_type": "code",
   "execution_count": null,
   "metadata": {
    "ExecuteTime": {
     "end_time": "2022-11-26T02:42:39.032970Z",
     "start_time": "2022-11-26T02:42:39.025989Z"
    }
   },
   "outputs": [],
   "source": [
    "y=sorted(x)\n",
    "y,x"
   ]
  },
  {
   "cell_type": "markdown",
   "metadata": {},
   "source": [
    "## Удаление элементов списка"
   ]
  },
  {
   "cell_type": "code",
   "execution_count": null,
   "metadata": {
    "ExecuteTime": {
     "end_time": "2023-03-09T02:31:19.026100Z",
     "start_time": "2023-03-09T02:31:19.013131Z"
    }
   },
   "outputs": [],
   "source": [
    "marxes = ['Groucho', 'Chico', 'Harpo', 'Zeppo']\n",
    "marxes.pop()\n",
    "marxes"
   ]
  },
  {
   "cell_type": "code",
   "execution_count": null,
   "metadata": {
    "ExecuteTime": {
     "end_time": "2023-03-09T02:31:26.523743Z",
     "start_time": "2023-03-09T02:31:26.517762Z"
    }
   },
   "outputs": [],
   "source": [
    "marxes.pop(1)\n",
    "marxes"
   ]
  },
  {
   "cell_type": "code",
   "execution_count": null,
   "metadata": {
    "ExecuteTime": {
     "end_time": "2023-03-09T02:31:39.595316Z",
     "start_time": "2023-03-09T02:31:39.588336Z"
    }
   },
   "outputs": [],
   "source": [
    "marxes = ['Groucho', 'Chico', 'Harpo', 'Gummo', 'Zeppo']\n",
    "marxes.remove('Gummo')\n",
    "marxes"
   ]
  },
  {
   "cell_type": "markdown",
   "metadata": {},
   "source": [
    "# Кортежи"
   ]
  },
  {
   "cell_type": "code",
   "execution_count": null,
   "metadata": {
    "ExecuteTime": {
     "end_time": "2023-03-09T02:32:32.878859Z",
     "start_time": "2023-03-09T02:32:32.873872Z"
    }
   },
   "outputs": [],
   "source": [
    "my_tuple = (1, 2, 4, 6, 9)"
   ]
  },
  {
   "cell_type": "markdown",
   "metadata": {},
   "source": [
    "К элементам кортежа можно обращаться точно так же, как к элементам списка:"
   ]
  },
  {
   "cell_type": "code",
   "execution_count": null,
   "metadata": {
    "ExecuteTime": {
     "end_time": "2022-11-26T02:45:40.138642Z",
     "start_time": "2022-11-26T02:45:40.129667Z"
    }
   },
   "outputs": [],
   "source": [
    "my_tuple[1:3]"
   ]
  },
  {
   "cell_type": "markdown",
   "metadata": {},
   "source": [
    "Но, несмотря на кажущееся сходство, кортежи и списки ‒ принципиально разные объекты. Главное отличие кортежей от списков заключается в том, что кортежи ‒ неизменяемые структуры данных. Другими словами, изменять элементы кортежа нельзя. Проверим:"
   ]
  },
  {
   "cell_type": "code",
   "execution_count": null,
   "metadata": {
    "ExecuteTime": {
     "end_time": "2023-03-09T02:32:37.180517Z",
     "start_time": "2023-03-09T02:32:37.029879Z"
    }
   },
   "outputs": [],
   "source": [
    "my_tuple[2] = 65"
   ]
  },
  {
   "cell_type": "markdown",
   "metadata": {},
   "source": [
    "При желании кортеж можно превратить в список и обратно:"
   ]
  },
  {
   "cell_type": "code",
   "execution_count": null,
   "metadata": {
    "ExecuteTime": {
     "end_time": "2022-11-26T02:46:33.718452Z",
     "start_time": "2022-11-26T02:46:33.708478Z"
    }
   },
   "outputs": [],
   "source": [
    "list_from_tp = list(my_tuple)\n",
    "tp_from_list = tuple([1,2,3])\n",
    "tp_from_list,list_from_tp"
   ]
  },
  {
   "cell_type": "markdown",
   "metadata": {},
   "source": [
    "# Словари\n",
    "\n",
    "Словарь очень похож на список, но порядок элементов в нем не имеет значения, и они выбираются не с помощью смещения. Вместо этого для каждого значения вы указываете связанный с ним уникальный ключ."
   ]
  },
  {
   "cell_type": "code",
   "execution_count": null,
   "metadata": {
    "ExecuteTime": {
     "end_time": "2023-03-09T02:34:51.490084Z",
     "start_time": "2023-03-09T02:34:51.483452Z"
    }
   },
   "outputs": [],
   "source": [
    "x={1:'a', 2:'b', 3:'c'}\n",
    "x"
   ]
  },
  {
   "cell_type": "markdown",
   "metadata": {},
   "source": [
    "Создать словарь можно из как из кортежей, так и из списков"
   ]
  },
  {
   "cell_type": "code",
   "execution_count": null,
   "metadata": {
    "ExecuteTime": {
     "end_time": "2023-03-09T02:35:58.954714Z",
     "start_time": "2023-03-09T02:35:58.947728Z"
    }
   },
   "outputs": [],
   "source": [
    "#to do\n",
    "y= ('ab','cd','ef')\n",
    "z=([1,2], [3,4],[5,6])\n",
    "w=[('d',1),('d',2),('c',3)]\n",
    "dict(w)"
   ]
  },
  {
   "cell_type": "code",
   "execution_count": null,
   "metadata": {
    "ExecuteTime": {
     "end_time": "2023-03-09T02:36:40.214677Z",
     "start_time": "2023-03-09T02:36:40.209721Z"
    }
   },
   "outputs": [],
   "source": [
    "x['d']='dd'\n",
    "x"
   ]
  },
  {
   "cell_type": "code",
   "execution_count": null,
   "metadata": {
    "ExecuteTime": {
     "end_time": "2022-11-26T02:52:53.562798Z",
     "start_time": "2022-11-26T02:52:53.556810Z"
    }
   },
   "outputs": [],
   "source": [
    "empty_dict = {} # задать словарь по-питоновски \n",
    "empty_dict2 = dict() # не совсем по-питоновски \n",
    "grades = { \"Grigoriy\" : 80, \"Tim\" : 95 } # литерал словаря (оценки за экзамены)"
   ]
  },
  {
   "cell_type": "markdown",
   "metadata": {},
   "source": [
    "<ol>\n",
    "<li>сам словарь изменяем — можно добавлять/удалять новые пары ключ: значение;\n",
    "значения элементов словаря — изменяемые и не уникальные;</li>\n",
    "<li>а вот ключи — не изменяемые и уникальные, поэтому, например, мы не можем сделать ключом словаря список, но можем кортеж</li>\n",
    "<li>из уникальности ключей, так же следует уникальность элементов словаря — пар ключ: значение.</li>\n",
    "</ol>\n"
   ]
  },
  {
   "cell_type": "markdown",
   "metadata": {},
   "source": [
    "Первый элемент в каждой паре (до двоеточия) назвается ключом (key), второй элемент в каждой паре (после двоеточия) ‒ значением (value). "
   ]
  },
  {
   "cell_type": "code",
   "execution_count": null,
   "metadata": {
    "ExecuteTime": {
     "end_time": "2023-03-09T02:38:05.768117Z",
     "start_time": "2023-03-09T02:38:05.764128Z"
    }
   },
   "outputs": [],
   "source": [
    "grades = { \"Grigoriy\" : 80, \"Tim\" : 95, 'Juliana': 'fff' }"
   ]
  },
  {
   "cell_type": "markdown",
   "metadata": {},
   "source": [
    "### Обращение к элементам словаря"
   ]
  },
  {
   "cell_type": "markdown",
   "metadata": {},
   "source": [
    "\n",
    "Как и в случае со списками или кортежами, к элементам словаря можно обращаться. Только выбор элемента производится не по индексу, а по ключу: сначала указываем название словаря, а потом в квадратных скобках ‒ ключ, по которому мы хотим вернуть значение."
   ]
  },
  {
   "cell_type": "code",
   "execution_count": null,
   "metadata": {
    "ExecuteTime": {
     "end_time": "2023-03-09T02:38:50.403478Z",
     "start_time": "2023-03-09T02:38:50.395321Z"
    }
   },
   "outputs": [],
   "source": [
    "grades['Tim']"
   ]
  },
  {
   "cell_type": "markdown",
   "metadata": {},
   "source": [
    "А что будет, если мы запросим элемент по ключу, которого нет в словаре?\n"
   ]
  },
  {
   "cell_type": "code",
   "execution_count": null,
   "metadata": {
    "ExecuteTime": {
     "end_time": "2023-03-09T02:39:05.923117Z",
     "start_time": "2023-03-09T02:39:05.909139Z"
    }
   },
   "outputs": [],
   "source": [
    "grades['Timm']"
   ]
  },
  {
   "cell_type": "code",
   "execution_count": null,
   "metadata": {
    "ExecuteTime": {
     "end_time": "2023-03-09T02:39:36.335227Z",
     "start_time": "2023-03-09T02:39:36.330241Z"
    }
   },
   "outputs": [],
   "source": [
    "grades.get('Timm')"
   ]
  },
  {
   "cell_type": "code",
   "execution_count": null,
   "metadata": {
    "ExecuteTime": {
     "end_time": "2023-03-09T02:39:32.922455Z",
     "start_time": "2023-03-09T02:39:32.913477Z"
    }
   },
   "outputs": [],
   "source": [
    "print(grades.get('Tim'))"
   ]
  },
  {
   "cell_type": "markdown",
   "metadata": {},
   "source": [
    "Удобство метода .get() заключается в том, что мы сами можем установить, какое значение будет возвращено, в случае, если пары с выбранным ключом нет в словаре. Так, вместо None мы можем вернуть строку Not found, и ломаться ничего не будет:\n"
   ]
  },
  {
   "cell_type": "code",
   "execution_count": null,
   "metadata": {
    "ExecuteTime": {
     "end_time": "2023-03-09T02:40:06.282857Z",
     "start_time": "2023-03-09T02:40:06.275873Z"
    }
   },
   "outputs": [],
   "source": [
    "\n",
    "grades.get('Timm', 'Not found')"
   ]
  },
  {
   "cell_type": "markdown",
   "metadata": {},
   "source": [
    "Но недостающий элемент мы всегда можем добавить!\n"
   ]
  },
  {
   "cell_type": "code",
   "execution_count": null,
   "metadata": {
    "ExecuteTime": {
     "end_time": "2023-03-09T02:40:24.404405Z",
     "start_time": "2023-03-09T02:40:24.397425Z"
    }
   },
   "outputs": [],
   "source": [
    "grades['Timm'] = 99\n",
    "grades"
   ]
  },
  {
   "cell_type": "markdown",
   "metadata": {},
   "source": [
    "Внимание: Если элемент с указанным ключом уже существует, новый с таким же ключом не добавится! Ключ ‒ это уникальный идентификатор элемента. Если мы добавим в словарь новый элемент с уже существующим ключом, мы просто изменим старый ‒ словари являются изменяемыми объектами. Например, так (изменения в программе):\n"
   ]
  },
  {
   "cell_type": "code",
   "execution_count": null,
   "metadata": {
    "ExecuteTime": {
     "end_time": "2023-03-09T02:40:32.671279Z",
     "start_time": "2023-03-09T02:40:32.662306Z"
    }
   },
   "outputs": [],
   "source": [
    "grades['Timm'] = 10\n",
    "grades"
   ]
  },
  {
   "cell_type": "markdown",
   "metadata": {},
   "source": [
    "есть методы .keys() и values()"
   ]
  },
  {
   "cell_type": "code",
   "execution_count": null,
   "metadata": {
    "ExecuteTime": {
     "end_time": "2023-03-09T02:41:16.471417Z",
     "start_time": "2023-03-09T02:41:16.465434Z"
    }
   },
   "outputs": [],
   "source": [
    "grades.keys()"
   ]
  },
  {
   "cell_type": "code",
   "execution_count": null,
   "metadata": {
    "ExecuteTime": {
     "end_time": "2023-03-09T02:41:37.260359Z",
     "start_time": "2023-03-09T02:41:37.246035Z"
    }
   },
   "outputs": [],
   "source": [
    "keys = grades.keys()\n",
    "keys[0]"
   ]
  },
  {
   "cell_type": "markdown",
   "metadata": {},
   "source": [
    "Не получается! Потому что полученный объект имеет специальный тип dict_keys, а не list. Но это всегда можно поправить, превратив объект dict_keys в список:"
   ]
  },
  {
   "cell_type": "code",
   "execution_count": null,
   "metadata": {
    "ExecuteTime": {
     "end_time": "2023-03-09T02:42:59.227675Z",
     "start_time": "2023-03-09T02:42:59.219337Z"
    }
   },
   "outputs": [],
   "source": [
    "list(keys)[0]"
   ]
  },
  {
   "cell_type": "markdown",
   "metadata": {},
   "source": [
    "Аналогичным образом можно работать и со значениями"
   ]
  },
  {
   "cell_type": "code",
   "execution_count": null,
   "metadata": {
    "ExecuteTime": {
     "end_time": "2023-03-09T02:43:13.965627Z",
     "start_time": "2023-03-09T02:43:13.958646Z"
    }
   },
   "outputs": [],
   "source": [
    "list(grades.values())"
   ]
  },
  {
   "cell_type": "markdown",
   "metadata": {},
   "source": [
    "Ну, и раз уж питоновские словари так похожи на обычные, давайте представим, что у нас есть словарь, где все слова многозначные. Ключом будет слово, а значением ‒ целый список."
   ]
  },
  {
   "cell_type": "code",
   "execution_count": null,
   "metadata": {
    "ExecuteTime": {
     "end_time": "2023-03-09T02:43:48.191624Z",
     "start_time": "2023-03-09T02:43:48.186116Z"
    }
   },
   "outputs": [],
   "source": [
    "my_dict = {'swear' : ['клясться', 'ругаться'], 'dream' : ['спать', 'мечтать']}"
   ]
  },
  {
   "cell_type": "code",
   "execution_count": null,
   "metadata": {
    "ExecuteTime": {
     "end_time": "2023-03-09T02:43:48.468538Z",
     "start_time": "2023-03-09T02:43:48.457552Z"
    }
   },
   "outputs": [],
   "source": [
    "my_dict['swear']"
   ]
  },
  {
   "cell_type": "markdown",
   "metadata": {},
   "source": [
    "существует специальный метод .items(), который позволяет обращаться сразу к парам элементов:\n"
   ]
  },
  {
   "cell_type": "markdown",
   "metadata": {},
   "source": [
    "Если мы посмотрим на grades.items(), мы увидим, что этот объект очень похож на список, состоящий из кортежей:"
   ]
  },
  {
   "cell_type": "code",
   "execution_count": null,
   "metadata": {
    "ExecuteTime": {
     "end_time": "2023-03-09T02:44:34.574653Z",
     "start_time": "2023-03-09T02:44:34.568667Z"
    }
   },
   "outputs": [],
   "source": [
    "list(my_dict.items())"
   ]
  },
  {
   "cell_type": "code",
   "execution_count": null,
   "metadata": {
    "ExecuteTime": {
     "end_time": "2023-03-09T02:44:34.827645Z",
     "start_time": "2023-03-09T02:44:34.819146Z"
    }
   },
   "outputs": [],
   "source": [
    "grades"
   ]
  },
  {
   "cell_type": "markdown",
   "metadata": {},
   "source": [
    "Метод .items() полезен, когда мы хотим выбирать из словаря значения, удовлетворяющие определенным условиям. \n",
    "\n"
   ]
  },
  {
   "cell_type": "code",
   "execution_count": null,
   "metadata": {
    "ExecuteTime": {
     "end_time": "2023-03-09T02:45:00.662730Z",
     "start_time": "2023-03-09T02:45:00.657741Z"
    }
   },
   "outputs": [],
   "source": [
    "for name, grade in grades.items():\n",
    "    if grade == 10:\n",
    "        print(name)"
   ]
  },
  {
   "cell_type": "markdown",
   "metadata": {},
   "source": [
    "### Функция enumerate()"
   ]
  },
  {
   "cell_type": "markdown",
   "metadata": {},
   "source": [
    "Представим себе такую задачу: у нас есть список людей, и хотим выводить на экран порядковый номер человека в списке и его имя"
   ]
  },
  {
   "cell_type": "code",
   "execution_count": null,
   "metadata": {
    "ExecuteTime": {
     "end_time": "2023-03-09T02:45:37.196522Z",
     "start_time": "2023-03-09T02:45:37.192529Z"
    }
   },
   "outputs": [],
   "source": [
    "ppl = ['ivan','Han','Buz']"
   ]
  },
  {
   "cell_type": "code",
   "execution_count": null,
   "metadata": {
    "ExecuteTime": {
     "end_time": "2023-03-09T02:45:48.536215Z",
     "start_time": "2023-03-09T02:45:48.530230Z"
    }
   },
   "outputs": [],
   "source": [
    "for i in range(len(ppl)):\n",
    "    print(i,ppl[i])"
   ]
  },
  {
   "cell_type": "markdown",
   "metadata": {},
   "source": [
    "одно из решений"
   ]
  },
  {
   "cell_type": "code",
   "execution_count": null,
   "metadata": {},
   "outputs": [],
   "source": [
    "for i in range(0, len(ppl)):\n",
    "    print(i, ppl[i])"
   ]
  },
  {
   "cell_type": "code",
   "execution_count": null,
   "metadata": {
    "ExecuteTime": {
     "end_time": "2023-03-09T02:46:01.692460Z",
     "start_time": "2023-03-09T02:46:01.685481Z"
    }
   },
   "outputs": [],
   "source": [
    "list(enumerate(ppl))"
   ]
  },
  {
   "cell_type": "markdown",
   "metadata": {},
   "source": [
    "более удобный способ ‒ функция enumerate(). Эта функция создает пары индекс элемента-значение элемента:"
   ]
  },
  {
   "cell_type": "code",
   "execution_count": null,
   "metadata": {
    "ExecuteTime": {
     "end_time": "2023-03-09T02:46:26.246333Z",
     "start_time": "2023-03-09T02:46:26.240381Z"
    }
   },
   "outputs": [],
   "source": [
    "dict_num = dict(list(enumerate(ppl)))\n",
    "dict_num"
   ]
  },
  {
   "cell_type": "code",
   "execution_count": null,
   "metadata": {
    "ExecuteTime": {
     "end_time": "2023-03-09T02:46:57.164332Z",
     "start_time": "2023-03-09T02:46:57.160336Z"
    }
   },
   "outputs": [],
   "source": [
    "for i, v in enumerate(ppl):\n",
    "    print(i, v)"
   ]
  },
  {
   "cell_type": "markdown",
   "metadata": {},
   "source": [
    "## Объединение словарей, удаление элементов словарей"
   ]
  },
  {
   "cell_type": "code",
   "execution_count": null,
   "metadata": {
    "ExecuteTime": {
     "end_time": "2023-03-09T02:47:27.908618Z",
     "start_time": "2023-03-09T02:47:27.901651Z"
    }
   },
   "outputs": [],
   "source": [
    "x={1:'a', 2:'b',4:'dfdf', 3:'c','dfd':1}\n",
    "y={4:'d', 5:'a', 1:'g'}\n",
    "x.update(y)\n",
    "x"
   ]
  },
  {
   "cell_type": "code",
   "execution_count": null,
   "metadata": {
    "ExecuteTime": {
     "end_time": "2023-03-09T02:49:04.441318Z",
     "start_time": "2023-03-09T02:49:04.434338Z"
    }
   },
   "outputs": [],
   "source": [
    "del x['dfd']\n",
    "x"
   ]
  },
  {
   "cell_type": "code",
   "execution_count": null,
   "metadata": {
    "ExecuteTime": {
     "end_time": "2023-03-09T02:49:09.644830Z",
     "start_time": "2023-03-09T02:49:09.638387Z"
    }
   },
   "outputs": [],
   "source": [
    "x.clear() #удаляет все элементы словаря\n",
    "x"
   ]
  },
  {
   "cell_type": "markdown",
   "metadata": {},
   "source": [
    "# Задачи"
   ]
  },
  {
   "cell_type": "markdown",
   "metadata": {},
   "source": [
    "Задача 1\n",
    "\n",
    "Даны списки:\n",
    "\n",
    "a = [1, 1, 2, 3, 5, 8, 13, 21, 34, 55, 89];\n",
    "\n",
    "b = [1, 2, 3, 4, 5, 6, 7, 8, 9, 10, 11, 12, 13].\n",
    "\n",
    "Нужно вернуть список, который состоит из элементов, общих для этих двух списков."
   ]
  },
  {
   "cell_type": "code",
   "execution_count": 3,
   "metadata": {},
   "outputs": [
    {
     "name": "stdout",
     "output_type": "stream",
     "text": [
      "[1, 2, 3, 5, 8, 13]\n"
     ]
    }
   ],
   "source": [
    "a = [1, 1, 2, 3, 5, 8, 13, 21, 34, 55, 89]\n",
    "b = [1, 2, 3, 4, 5, 6, 7, 8, 9, 10, 11, 12, 13]\n",
    "min_len = len(a)\n",
    "result = []\n",
    "for i in range(min_len):\n",
    "    if a[i] in b and not (a[i] in result):\n",
    "        result.append(a[i])\n",
    "print(result)"
   ]
  },
  {
   "cell_type": "markdown",
   "metadata": {},
   "source": [
    "Задача 2\n",
    "\n",
    "Нужно вывести первые n строк треугольника Паскаля. В этом треугольнике на вершине и по бокам стоят единицы, а каждое число внутри равно сумме двух расположенных над ним чисел."
   ]
  },
  {
   "cell_type": "code",
   "execution_count": 4,
   "metadata": {},
   "outputs": [
    {
     "name": "stdout",
     "output_type": "stream",
     "text": [
      "[1]\n",
      "[1, 1]\n",
      "[1, 2, 1]\n",
      "[1, 3, 3, 1]\n",
      "[1, 4, 6, 4, 1]\n"
     ]
    }
   ],
   "source": [
    "def pascals_triangle(n):\n",
    "    triangle = []\n",
    "    \n",
    "    for i in range(n):\n",
    "        row = []\n",
    "        for j in range(i+1):\n",
    "            if j == 0 or j == i:\n",
    "                row.append(1)\n",
    "            else:\n",
    "                value = triangle[i-1][j-1] + triangle[i-1][j]\n",
    "                row.append(value)\n",
    "        triangle.append(row)\n",
    "    \n",
    "    for row in triangle:\n",
    "        print(row)\n",
    "\n",
    "pascals_triangle(5)"
   ]
  },
  {
   "attachments": {},
   "cell_type": "markdown",
   "metadata": {},
   "source": [
    "Задача 3\n",
    "\n",
    "При анализе собранных по результатам научных экспериментов данных зачастую возникает необходимость избавиться от экстремальных значений, прежде чем продолжать двигаться дальше. Напишите функцию, создающую копию списка с исключенными из него n наибольшими и наименьшими значениями и возвращающую ее в качестве результата. Порядок следования элементов в измененном списке не обязательно должен в точности совпадать с источником. Если пользователь введет менее четырех чисел, должно быть отображено соответствующее сообщение об ошибке."
   ]
  },
  {
   "cell_type": "code",
   "execution_count": 8,
   "metadata": {},
   "outputs": [
    {
     "ename": "Exception",
     "evalue": "Error! Not enought elements",
     "output_type": "error",
     "traceback": [
      "\u001b[1;31m---------------------------------------------------------------------------\u001b[0m",
      "\u001b[1;31mException\u001b[0m                                 Traceback (most recent call last)",
      "Cell \u001b[1;32mIn [8], line 3\u001b[0m\n\u001b[0;32m      1\u001b[0m n \u001b[39m=\u001b[39m \u001b[39mint\u001b[39m(\u001b[39minput\u001b[39m(\u001b[39m\"\u001b[39m\u001b[39mEnter number of elements\u001b[39m\u001b[39m\"\u001b[39m))\n\u001b[0;32m      2\u001b[0m \u001b[39mif\u001b[39;00m(n \u001b[39m<\u001b[39m \u001b[39m4\u001b[39m):\n\u001b[1;32m----> 3\u001b[0m     \u001b[39mraise\u001b[39;00m \u001b[39mException\u001b[39;00m(\u001b[39m\"\u001b[39m\u001b[39mError! Not enought elements\u001b[39m\u001b[39m\"\u001b[39m)\n\u001b[0;32m      4\u001b[0m a \u001b[39m=\u001b[39m []\n\u001b[0;32m      5\u001b[0m \u001b[39mfor\u001b[39;00m i \u001b[39min\u001b[39;00m \u001b[39mrange\u001b[39m(n):\n",
      "\u001b[1;31mException\u001b[0m: Error! Not enought elements"
     ]
    }
   ],
   "source": [
    "m = int(input(\"Enter number of elements\"))\n",
    "if(m < 4):\n",
    "    raise Exception(\"Error! Not enought elements\")\n",
    "a = []\n",
    "for i in range(m):\n",
    "    temp = int(input())\n",
    "    a.append(temp)\n",
    "n = int(input(\"Enter number of minmax values to delete\"))\n",
    "\n",
    "def minmax_remover(a: list) -> list:\n",
    "    result = a.copy()\n",
    "    min_val = min(a)\n",
    "    max_val = max(a)\n",
    "    if(min_val != max_val):\n",
    "        while min_val in result:\n",
    "            result.remove(min_val)\n",
    "        while min_val in result:\n",
    "            result.remove(max_val)\n",
    "    if(min_val == max_val):\n",
    "        result.remove(max_val)\n",
    "    return result\n",
    "\n",
    "for i in range(n):\n",
    "    a = minmax_remover(a)"
   ]
  },
  {
   "cell_type": "markdown",
   "metadata": {},
   "source": [
    "Задача 4\n",
    "\n",
    "Напишите программу, которая будет запрашивать у пользователя числа, пока он не пропустит ввод. Сначала на экран должно быть выведено среднее значение введенного ряда чисел, после этого друг за другом необходимо вывести список чисел ниже среднего, равных ему (если такие найдутся) и выше среднего. Каждый список должен предваряться соответствующим заголовком."
   ]
  },
  {
   "cell_type": "code",
   "execution_count": 4,
   "metadata": {},
   "outputs": [
    {
     "name": "stdout",
     "output_type": "stream",
     "text": [
      "Input data: [1.0, 2.0, 3.0, 4.0, 2.5]\n",
      "Mean value: 2.5\n",
      "Values that are below mean:[1.0, 2.0]\n",
      "Values that are equal to mean:[2.5]\n",
      "Values that are above mean:[3.0, 4.0]\n"
     ]
    }
   ],
   "source": [
    "import statistics\n",
    "a = []\n",
    "b = 0\n",
    "while True:\n",
    "    try:\n",
    "        b = float(input())\n",
    "        a.append(b)\n",
    "    except:\n",
    "        break\n",
    "mean_val = statistics.mean(a)\n",
    "def comparer(a, func):\n",
    "    temp = []\n",
    "    for num in a:\n",
    "        if func(num, mean_val):\n",
    "            temp.append(num)\n",
    "    return temp\n",
    "\n",
    "print(f\"Input data: {a}\")\n",
    "print(f\"Mean value: {mean_val}\")\n",
    "print(f\"Values that are below mean:{comparer(a, lambda x,y: x < y)}\")\n",
    "print(f\"Values that are equal to mean:{comparer(a, lambda x,y: x == y)}\")\n",
    "print(f\"Values that are above mean:{comparer(a, lambda x,y: x > y)}\")"
   ]
  },
  {
   "cell_type": "markdown",
   "metadata": {},
   "source": [
    "Задача 5\n",
    "\n",
    "«Поросячьей латынью» называют молодежный жаргонный язык, производный от английского. И хотя корни этого новообразованного языка\n",
    "неизвестны, упоминание о нем есть как минимум в двух документах, датированных XIX веком, а это значит, что ему уже больше сотни лет.\n",
    "Для перевода слова с английского на «поросячью латынь» нужно сделать\n",
    "следующее:\n",
    "* если слово начинается с согласной буквы (включая y), то все буквы с начала слова и до первой гласной (за исключением y) переносятся в конец слова и дополняются сочетанием букв ay. Например, слово computer будет преобразовано в omputercay, а слово think – в inkthay;\n",
    "* если слово начинается с гласной буквы (не включая y), к концу слова просто добавляется way. К примеру, слово algorithm превратится в algorithmway, а office – в officeway.\n",
    "\n",
    "Напишите программу, которая будет запрашивать у пользователя строку. После этого она должна переводить введенный текст на «поросячью латынь» и выводить его на экран. Вы можете сделать допуск о том, что все слова пользователь будет вводить в нижнем регистре и разделять их пробелами."
   ]
  },
  {
   "cell_type": "code",
   "execution_count": 5,
   "metadata": {},
   "outputs": [
    {
     "name": "stdout",
     "output_type": "stream",
     "text": [
      "Translated string: estTay\n"
     ]
    }
   ],
   "source": [
    "def pig_latin(word):\n",
    "    vowels = ['a', 'e', 'i', 'o', 'u']\n",
    "    if word[0] in vowels:\n",
    "        return word + 'way'\n",
    "    else:\n",
    "        for i in range(len(word)):\n",
    "            if word[i] in vowels:\n",
    "                return word[i:] + word[:i] + 'ay'\n",
    "\n",
    "input_string = input(\"Enter a string: \")\n",
    "words = input_string.split()\n",
    "\n",
    "pig_latin_words = [pig_latin(word) for word in words]\n",
    "output_string = ' '.join(pig_latin_words)\n",
    "\n",
    "print(\"Translated string:\", output_string)"
   ]
  },
  {
   "attachments": {},
   "cell_type": "markdown",
   "metadata": {},
   "source": [
    "Задача 6\n",
    "\n",
    "Стандартная игральная колода состоит из 52 карт. Каждая карта соответствует одной из четырех мастей (пики, червы, бубны и трефы) и одному из 13 номиналов (от 2 до 10, валет (J), дама (Q), король (K) и туз (A)).\n",
    "Таким образом, каждая игральная карта может быть представлена при помощи двух символов. Первый из них указывает на номинал карты (от 2 до 9, T (десятка), J, Q, K или A), а второй – на масть (s = пики (spades), h = червы (hearts), d = бубны (diamonds) и c = трефы (clubs)). \n",
    "\n",
    "Начните с написания функции createDeck. В ней должны использоваться циклы для создания полной колоды карт путем сохранения в список двухсимвольных аббревиатур всех 52 карт. Именно этот список и будет возвращаемым из данной функции значением. На вход функция createDeck принимать параметры не будет.\n",
    "Напишите вторую функцию с именем shuffle, которая будет случайным образом перетасовывать карты в списке. Одна из техник тасования колоды заключается в проходе по элементам и перестановке их с любым другим случайным элементом в этом списке. Вы должны создать свой собственный цикл для тасования карт в колоде, а не пользоваться стандартной функцией shuffle языка Python.\n",
    "Используйте обе созданные функции в основной программе, в которой должна отображаться колода карт до и после тасования. \n",
    "\n",
    "Во многих карточных играх после процедуры тасования колоды каждый игрок получает на руки определенное количество карт. Напишите функцию deal, принимающую на вход три параметра: количество игроков, количество раздаваемых каждому из них карт и саму колоду. Функция должна возвращать список рук, которые были розданы игрокам. При этом каждая рука, в свою очередь, тоже является списком из входящих в нее карт.\n",
    "Во время раздачи карт игрокам функция параллельно должна удалять розданные карты из переданной ей третьим параметром колоды. Также принято раздавать карты каждому игроку по одной строго по очереди. Придерживайтесь этих принципов и при написании своей функции. Вам необходимо создать колоду карт, перетасовать ее и раздать четырем игрокам по пять карт. Выведите на экран карманные карты всех игроков, находящихся в раздаче, а также оставшиеся в колоде карты."
   ]
  },
  {
   "cell_type": "code",
   "execution_count": 11,
   "metadata": {},
   "outputs": [
    {
     "name": "stdout",
     "output_type": "stream",
     "text": [
      "Initial deck: ['As', '2s', '3s', '4s', '5s', '6s', '7s', '8s', '9s', '10s', 'Js', 'Qs', 'Ks', 'Ah', '2h', '3h', '4h', '5h', '6h', '7h', '8h', '9h', '10h', 'Jh', 'Qh', 'Kh', 'Ad', '2d', '3d', '4d', '5d', '6d', '7d', '8d', '9d', '10d', 'Jd', 'Qd', 'Kd', 'Ac', '2c', '3c', '4c', '5c', '6c', '7c', '8c', '9c', '10c', 'Jc', 'Qc', 'Kc']\n",
      "Shuffled deck: ['Qh', '9d', '10c', 'Jh', '6s', '7d', '10h', '8c', 'Ac', '4s', '3d', '2c', 'Qd', 'Jd', '9h', '2s', '2h', 'Qc', '9s', '2d', 'Ks', '7h', 'Qs', '4d', '5c', 'Kh', '8h', '7c', '7s', '5d', '5s', 'As', '4c', '6d', '4h', '6h', '10d', '3c', '9c', '3h', '8s', 'Kd', 'Ah', 'Kc', 'Jc', '3s', 'Ad', '10s', '5h', '8d', 'Js', '6c']\n",
      "Player 1 hand: ['Qh', '6s', 'Ac', 'Qd', '2h']\n",
      "Player 2 hand: ['9d', '7d', '4s', 'Jd', 'Qc']\n",
      "Player 3 hand: ['10c', '10h', '3d', '9h', '9s']\n",
      "Player 4 hand: ['Jh', '8c', '2c', '2s', '2d']\n",
      "Remaining deck: ['Ks', '7h', 'Qs', '4d', '5c', 'Kh', '8h', '7c', '7s', '5d', '5s', 'As', '4c', '6d', '4h', '6h', '10d', '3c', '9c', '3h', '8s', 'Kd', 'Ah', 'Kc', 'Jc', '3s', 'Ad', '10s', '5h', '8d', 'Js', '6c']\n"
     ]
    }
   ],
   "source": [
    "import random\n",
    "\n",
    "def createDeck():\n",
    "    deck = []\n",
    "    # spades (♠), hearts (♥), diamonds (♦), clubs (♣)\n",
    "    suits = ['s', 'h', 'd', 'c']\n",
    "    # Ace, Numbers, Jack, Queen, King\n",
    "    denominations = ['A', '2', '3', '4', '5', '6', '7', '8', '9', '10', 'J', 'Q', 'K']\n",
    "    for suit in suits:\n",
    "        for denomination in denominations:\n",
    "            deck.append(denomination + suit)\n",
    "    return deck\n",
    "\n",
    "def shuffle(deck):\n",
    "    for i in range(len(deck)):\n",
    "        j = random.randint(0, len(deck) - 1)\n",
    "        deck[i], deck[j] = deck[j], deck[i]\n",
    "\n",
    "def deal(num_players, num_cards, deck):\n",
    "    hands = [[] for _ in range(num_players)]\n",
    "    for i in range(num_cards):\n",
    "        for j in range(num_players):\n",
    "            hands[j].append(deck.pop(0))\n",
    "    return hands\n",
    "\n",
    "deck = createDeck()\n",
    "print(\"Initial deck:\", deck)\n",
    "\n",
    "shuffle(deck)\n",
    "print(\"Shuffled deck:\", deck)\n",
    "\n",
    "hands = deal(4, 5, deck)\n",
    "for i, hand in enumerate(hands):\n",
    "    print(\"Player\", i+1, \"hand:\", hand)\n",
    "\n",
    "print(\"Remaining deck:\", deck)"
   ]
  },
  {
   "attachments": {},
   "cell_type": "markdown",
   "metadata": {},
   "source": [
    "Задача 7\n",
    "\n",
    "Если помните, на старых мобильных телефонах текстовые сообщения набирались при помощи цифровых кнопок. При этом одна кнопка была ассоциирована сразу с несколькими буквами, а выбор зависел от количества нажатий на кнопку. Однократное нажатие приводило к появлению первой буквы в соответствующем этой кнопке списке, последующие нажатия меняли ее на следующую. Список символов, ассоциированных с цифровой панелью, приведен в таблице\n",
    "\n",
    "<table>\n",
    "  <thead>\n",
    "    <tr>\n",
    "      <th>Кнопка</th>\n",
    "      <th>Символы</th>\n",
    "    </tr>\n",
    "  </thead>\n",
    "  <tbody>\n",
    "    <tr>\n",
    "      <td>1</td>\n",
    "      <td>. , ? ! :</td>\n",
    "    </tr>\n",
    "    <tr>\n",
    "      <td>2</td>\n",
    "      <td>A B C</td>\n",
    "    </tr>\n",
    "    <tr>\n",
    "      <td>3</td>\n",
    "      <td>D E F</td>\n",
    "    </tr>\n",
    "    <tr>\n",
    "      <td>4</td>\n",
    "      <td>G H I</td>\n",
    "    </tr>\n",
    "    <tr>\n",
    "      <td>5</td>\n",
    "      <td>J K L</td>\n",
    "    </tr>\n",
    "    <tr>\n",
    "      <td>6</td>\n",
    "      <td>M N O</td>\n",
    "    </tr>\n",
    "    <tr>\n",
    "      <td>7</td>\n",
    "      <td>P Q R S</td>\n",
    "    </tr>\n",
    "    <tr>\n",
    "      <td>8</td>\n",
    "      <td>T U V</td>\n",
    "    </tr>\n",
    "    <tr>\n",
    "      <td>9</td>\n",
    "      <td>W X Y Z</td>\n",
    "    </tr>\n",
    "    <tr>\n",
    "      <td>10</td>\n",
    "      <td>Пробел</td>\n",
    "    </tr>\n",
    "  </tbody>\n",
    "</table>\n",
    "\n",
    "Напишите программу, отображающую последовательность кнопок, которую необходимо нажать, чтобы на экране телефона появился текст,\n",
    "введенный пользователем. Создайте словарь, сопоставляющий символы с кнопками, которые необходимо нажать, а затем воспользуйтесь им для вывода на экран последовательности кнопок в соответствии с введенным пользователем сообщением по запросу. Например, на ввод строки Hello,World! ваша программа должна откликнуться следующим выводом: 4433555555666110966677755531111. "
   ]
  },
  {
   "cell_type": "code",
   "execution_count": 14,
   "metadata": {},
   "outputs": [
    {
     "name": "stdout",
     "output_type": "stream",
     "text": [
      "83377778\n"
     ]
    }
   ],
   "source": [
    "button_map = {\n",
    "    ' ': '0',\n",
    "    '.': '1',\n",
    "    ',': '11',\n",
    "    '?': '111',\n",
    "    '!': '1111',\n",
    "    ':': '11111',\n",
    "    'A': '2',\n",
    "    'B': '22',\n",
    "    'C': '222',\n",
    "    'D': '3',\n",
    "    'E': '33',\n",
    "    'F': '333',\n",
    "    'G': '4',\n",
    "    'H': '44',\n",
    "    'I': '444',\n",
    "    'J': '5',\n",
    "    'K': '55',\n",
    "    'L': '555',\n",
    "    'M': '6',\n",
    "    'N': '66',\n",
    "    'O': '666',\n",
    "    'P': '7',\n",
    "    'Q': '77',\n",
    "    'R': '777',\n",
    "    'S': '7777',\n",
    "    'T': '8',\n",
    "    'U': '88',\n",
    "    'V': '888',\n",
    "    'W': '9',\n",
    "    'X': '99',\n",
    "    'Y': '999',\n",
    "    'Z': '9999'\n",
    "}\n",
    "\n",
    "message = input(\"Enter a message: \")\n",
    "# We have only upper case letters\n",
    "message = message.upper()\n",
    "\n",
    "button_sequence = \"\"\n",
    "for char in message:\n",
    "    if char in button_map:\n",
    "        button_sequence += button_map[char]\n",
    "\n",
    "print(button_sequence)"
   ]
  },
  {
   "cell_type": "markdown",
   "metadata": {},
   "source": [
    "Задача 8\n",
    "\n",
    "В известной игре Эрудит (Scrabble™) каждой букве соответствует определенное количество очков. Общая сумма очков, которую получает игрок, составивший это слово, складывается из очков за каждую букву, входящую в его состав. Чем более употребимой является буква в языке, тем меньше очков начисляется за ее использование. В табл. приведены все соответствия букв и очков из английской версии игры.\n",
    "<table>\n",
    "  <thead>\n",
    "    <tr>\n",
    "      <th>Очки</th>\n",
    "      <th>Буквы</th>\n",
    "    </tr>\n",
    "  </thead>\n",
    "  <tbody>\n",
    "    <tr>\n",
    "      <td>1</td>\n",
    "      <td>A, E, I, L, N, O, R, S, T и U</td>\n",
    "    </tr>\n",
    "    <tr>\n",
    "      <td>2</td>\n",
    "      <td>D и G</td>\n",
    "    </tr>\n",
    "    <tr>\n",
    "      <td>3</td>\n",
    "      <td>B, C, M и P</td>\n",
    "    </tr>\n",
    "    <tr>\n",
    "      <td>4</td>\n",
    "      <td>F, H, V, W и Y</td>\n",
    "    </tr>\n",
    "    <tr>\n",
    "      <td>5</td>\n",
    "      <td>K</td>\n",
    "    </tr>\n",
    "    <tr>\n",
    "      <td>8</td>\n",
    "      <td>J и X</td>\n",
    "    </tr>\n",
    "    <tr>\n",
    "      <td>10</td>\n",
    "      <td>Q и Z</td>\n",
    "    </tr>\n",
    "  </tbody>\n",
    "</table>\n",
    "\n",
    "Напишите программу, рассчитывающую и отображающую количество очков за собранное слово. Создайте словарь для хранения соответствий между буквами и очками и используйте его в своем решении."
   ]
  },
  {
   "cell_type": "code",
   "execution_count": 16,
   "metadata": {},
   "outputs": [
    {
     "name": "stdout",
     "output_type": "stream",
     "text": [
      "8\n",
      "9\n"
     ]
    }
   ],
   "source": [
    "def scrabble_score(word):\n",
    "    letter_scores = {'A': 1, 'B': 3, 'C': 3, 'D': 2, 'E': 1, 'F': 4, 'G': 2,\n",
    "                     'H': 4, 'I': 1, 'J': 8, 'K': 5, 'L': 1, 'M': 3, 'N': 1,\n",
    "                     'O': 1, 'P': 3, 'Q': 10, 'R': 1, 'S': 1, 'T': 1, 'U': 1,\n",
    "                     'V': 4, 'W': 4, 'X': 8, 'Y': 4, 'Z': 10}\n",
    "    word = word.upper()\n",
    "    score = sum(letter_scores.get(letter, 0) for letter in word)\n",
    "    return score\n",
    "\n",
    "print(scrabble_score('hello')) # h = 4, e = 1, l = 1, o = 1 => 4+1+1*2+1 = 8\n",
    "print(scrabble_score('world')) # w = 4, o = 1, r = 1, l = 1, d = 2 => 4+1+1+1+2 = 9"
   ]
  }
 ],
 "metadata": {
  "kernelspec": {
   "display_name": "Python 3",
   "language": "python",
   "name": "python3"
  },
  "language_info": {
   "codemirror_mode": {
    "name": "ipython",
    "version": 3
   },
   "file_extension": ".py",
   "mimetype": "text/x-python",
   "name": "python",
   "nbconvert_exporter": "python",
   "pygments_lexer": "ipython3",
   "version": "3.8.10"
  },
  "vscode": {
   "interpreter": {
    "hash": "c347c8f9a7ef94e4c9e03b4513be7835ed18f45b99a2a817fb579f408b867b16"
   }
  }
 },
 "nbformat": 4,
 "nbformat_minor": 4
}

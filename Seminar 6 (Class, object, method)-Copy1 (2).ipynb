{
 "cells": [
  {
   "cell_type": "markdown",
   "metadata": {},
   "source": [
    "# Объектно-ориентированное программирование (ООП)."
   ]
  },
  {
   "cell_type": "markdown",
   "metadata": {
    "ExecuteTime": {
     "end_time": "2022-02-07T15:27:25.998439Z",
     "start_time": "2022-02-07T15:27:25.984486Z"
    }
   },
   "source": [
    "*ООП* - парадигма программирования, в которой основными концепциями являются понятия объектов и классов.\n",
    "\n",
    "*Парадигма программирования* — это совокупность идей и понятий, определяющих стиль написания компьютерных программ (подход к программированию), то есть способ концептуализации, определяющий организацию вычислений и структурирование работы, выполняемой компьютером.\n",
    "\n",
    "*Объект* — сущность, обладающая определённым состоянием, поведением и свойствами.\n",
    "\n"
   ]
  },
  {
   "cell_type": "markdown",
   "metadata": {},
   "source": [
    "Например, «автомобиль с номером Х» (конкретный)\n",
    "\n",
    "*Внешний интерфейс* (доступен всем пользователям):\n",
    "\n",
    "-свойства (атрибуты):\n",
    "«цвет», «марка», «мощность двигателя», «количество мест»\n",
    "\n",
    "-поведение (функции, методы): \n",
    "«завестись», «ехать», «повернуть», «включить фары»\n",
    "\n",
    "\n",
    "*Внутреннее состояние* (доступно только объекту):\n",
    "- «заведена»\n",
    "- «включены фары»"
   ]
  },
  {
   "cell_type": "markdown",
   "metadata": {},
   "source": [
    "## Классы\n"
   ]
  },
  {
   "cell_type": "markdown",
   "metadata": {
    "ExecuteTime": {
     "end_time": "2022-02-07T17:16:55.560425Z",
     "start_time": "2022-02-07T17:16:55.542139Z"
    }
   },
   "source": [
    "![Titanic Art](https://gidvgreece.com/wp-content/uploads/2014/11/platon.jpg)\n",
    "  "
   ]
  },
  {
   "cell_type": "markdown",
   "metadata": {},
   "source": [
    "Изначально ориентируясь на данные, каждая вещь или объект является экземпляром некоторого класса.\n",
    "\n",
    "Примитивные структуры данных, доступные в `Python`, такие как \n",
    "- числа (`int`,`float`)\n",
    "- строки (`str`)\n",
    "- списки (`list`)\n",
    "\n",
    "предназначены для представления простых вещей, таких как стоимость чего‑либо, название стихотворения и ваши любимые цвета соответственно.\n"
   ]
  },
  {
   "cell_type": "markdown",
   "metadata": {
    "ExecuteTime": {
     "end_time": "2022-02-09T16:23:40.705684Z",
     "start_time": "2022-02-09T16:23:40.688512Z"
    }
   },
   "source": [
    "???? вопрос:  int и числа 5, 100134, -10 - это?"
   ]
  },
  {
   "cell_type": "markdown",
   "metadata": {},
   "source": [
    "\n",
    "А что если мы хотитим представить что-то гораздо более сложное?\n",
    "\n",
    "Например, вы хотите наблюдать за разными животными. Если вы используете список, первый элемент может быть его именем, а второй элемент может представлять возраст.\n",
    "\n",
    "- Как бы вы узнали, какой элемент должен быть?\n",
    "- Что делать, если у вас было 100 разных животных? \n",
    "- Вы уверены, что у каждого животного есть и имя, и возраст, и так далее? \n",
    "- Что если вы захотите добавить другие свойства этим животным? \n",
    "\n",
    "Все это уже требует некоторой организации, и это именно то, что нужно для классов.\n",
    "\n",
    "Классы используются для создания новых пользовательских структур данных, которые содержат произвольную информацию о чем-либо. В случае с животным мы могли бы создать класс`Animal()` для описания таких свойства, как имя и возраст.\n",
    "\n",
    "Важно отметить, что класс просто обеспечивает структуру — это образец того, как что-то должно быть определено, но на самом деле это просто шаблон, за которым нет реального контента. Класс `Animal()` может указывать, что имя и возраст необходимы для определения животного, но на самом деле он не содержит ни имени, ни возраста конкретного животного. Это просто описание, классификация.\n",
    "\n",
    "Класс — это идея, наше представление о характеристиках какой‑либо сущности, о том, как эта сущность должна быть определена."
   ]
  },
  {
   "cell_type": "markdown",
   "metadata": {
    "ExecuteTime": {
     "end_time": "2022-02-07T17:26:35.179813Z",
     "start_time": "2022-02-07T17:26:35.153678Z"
    }
   },
   "source": [
    "Вот простое описание класса в Python:"
   ]
  },
  {
   "cell_type": "code",
   "execution_count": null,
   "metadata": {
    "ExecuteTime": {
     "end_time": "2022-02-07T17:27:02.906369Z",
     "start_time": "2022-02-07T17:27:02.882434Z"
    }
   },
   "outputs": [],
   "source": [
    "class Dog:\n",
    "    pass"
   ]
  },
  {
   "cell_type": "markdown",
   "metadata": {},
   "source": [
    "*Конструктор класса* — это метод, вызываемый при инициализации вновь созданного экземпляра класса. \n",
    "\n",
    "Первый аргумент `self`(так принято в `python`) — экземпляр класса (кого инициализируем).\n",
    "Остальные аргументы — те, которые передали при создании экземпляра"
   ]
  },
  {
   "cell_type": "code",
   "execution_count": 2,
   "metadata": {
    "ExecuteTime": {
     "end_time": "2023-03-30T02:16:43.493355Z",
     "start_time": "2023-03-30T02:16:43.483373Z"
    }
   },
   "outputs": [],
   "source": [
    "class User:\n",
    "    def __init__(self, name):\n",
    "        self.my_name = name # записываем в атрибут экземпляра класса с именем `my_name' значение переменной `name'\n",
    "    def hello(self): \n",
    "    # С помощью self.my_name получаем значение имени для данного экземпляра\n",
    "        return \"Hello, my name is {0}!\".format(self.my_name)\n",
    "    def hello2(self,p): \n",
    "        p = 'Колян'\n",
    "        return 'Hi all'+p\n",
    "#User('Kolya')\n",
    "\n",
    "#vovan.hello2()"
   ]
  },
  {
   "cell_type": "code",
   "execution_count": 5,
   "metadata": {
    "ExecuteTime": {
     "end_time": "2023-03-30T02:17:35.658261Z",
     "start_time": "2023-03-30T02:17:35.648287Z"
    }
   },
   "outputs": [
    {
     "data": {
      "text/plain": [
       "'Hi allКолян'"
      ]
     },
     "execution_count": 5,
     "metadata": {},
     "output_type": "execute_result"
    }
   ],
   "source": [
    "kolyan = User('Kolya')\n",
    "vovan = User('Vladimir')\n",
    "#kolyan.hello()\n",
    "vovan.hello2('322')\n",
    "#vovan.hello()\n"
   ]
  },
  {
   "cell_type": "markdown",
   "metadata": {},
   "source": [
    "Все классы создают объекты и все объекты содержат характеристики, называемые атрибутами (или свойствами в первом абзаце).\n",
    "Метод `__init__()` инициализацирует начальные значения атрибутов объекта по умолчанию (или состояние). Этот метод должен иметь как минимум один аргумент, а также переменную `self`, которая ссылается на сам объект (например, Dog)."
   ]
  },
  {
   "cell_type": "code",
   "execution_count": 7,
   "metadata": {
    "ExecuteTime": {
     "end_time": "2023-03-30T02:19:49.653015Z",
     "start_time": "2023-03-30T02:19:49.647980Z"
    }
   },
   "outputs": [],
   "source": [
    "class Dog:\n",
    "    # Атрибуты Инициализатора / Экземпляра\n",
    "    def __init__(self, name, age):\n",
    "        self.name = name\n",
    "        self.age = age"
   ]
  },
  {
   "cell_type": "markdown",
   "metadata": {},
   "source": [
    "В случае нашего класса `Dog()` каждая собака имеет определенное имя `name` и возраст `age`\n",
    "Помните: класс предназначен только для определения собаки, а не для создания экземпляров отдельных собак с конкретными именами и возрастами; мы скоро к этому вернемся."
   ]
  },
  {
   "cell_type": "markdown",
   "metadata": {},
   "source": [
    "Переменная `self` является экземпляром класса. Поскольку экземпляры класса имеют различные значения, мы можем указать `Dog.name = name`, а не `self.name = name`. Но поскольку не все собаки имеют одно и то же имя, мы должны иметь возможность назначать разные значения для разных экземпляров. Отсюда необходимость специальной переменной `self`, которая поможет отслеживать отдельные экземпляры каждого класса."
   ]
  },
  {
   "cell_type": "markdown",
   "metadata": {},
   "source": [
    "## Атрибуты класса"
   ]
  },
  {
   "cell_type": "markdown",
   "metadata": {},
   "source": [
    "Хоть атрибуты экземпляра являются специфическими для каждого объекта, атрибуты класса одинаковы для всех экземпляров — в данном случае это все собаки."
   ]
  },
  {
   "cell_type": "code",
   "execution_count": 8,
   "metadata": {
    "ExecuteTime": {
     "end_time": "2023-03-30T02:22:41.398382Z",
     "start_time": "2023-03-30T02:22:41.387468Z"
    }
   },
   "outputs": [],
   "source": [
    "class Dog:\n",
    "    # Атрибуты класса\n",
    "    species = 'млекопитающие'\n",
    "    # Атрибуты Инициализатора / Экземпляра\n",
    "    def __init__(self, name, age):\n",
    "        self.name = name\n",
    "        self.age = age"
   ]
  },
  {
   "cell_type": "markdown",
   "metadata": {},
   "source": [
    "Таким образом, хотя каждая собака имеет уникальное имя и возраст, каждая собака будет млекопитающим."
   ]
  },
  {
   "cell_type": "markdown",
   "metadata": {},
   "source": [
    "## Создание объектов"
   ]
  },
  {
   "cell_type": "code",
   "execution_count": 12,
   "metadata": {
    "ExecuteTime": {
     "end_time": "2023-03-30T02:24:00.359105Z",
     "start_time": "2023-03-30T02:24:00.335310Z"
    }
   },
   "outputs": [
    {
     "data": {
      "text/plain": [
       "False"
      ]
     },
     "execution_count": 12,
     "metadata": {},
     "output_type": "execute_result"
    }
   ],
   "source": [
    "class Dog: ##создали класс\n",
    "     pass\n",
    "a = Dog() #создали собаку1\n",
    "b = Dog() #создали собаку2\n",
    "a == b"
   ]
  },
  {
   "cell_type": "markdown",
   "metadata": {},
   "source": [
    "Чтобы создать экземпляр класса, вы используете имя класса, за которым следуют скобки. Затем, чтобы продемонстрировать, что каждый экземпляр на самом деле отличается, мы создали две собаки, присваивая каждую переменную, а затем проверили, равны ли эти переменные."
   ]
  },
  {
   "cell_type": "code",
   "execution_count": 13,
   "metadata": {
    "ExecuteTime": {
     "end_time": "2023-03-30T02:24:32.342097Z",
     "start_time": "2023-03-30T02:24:32.271531Z"
    }
   },
   "outputs": [
    {
     "data": {
      "text/plain": [
       "__main__.Dog"
      ]
     },
     "execution_count": 13,
     "metadata": {},
     "output_type": "execute_result"
    }
   ],
   "source": [
    "type(a)\n"
   ]
  },
  {
   "cell_type": "code",
   "execution_count": 14,
   "metadata": {
    "ExecuteTime": {
     "end_time": "2023-03-30T02:25:18.519410Z",
     "start_time": "2023-03-30T02:25:18.511923Z"
    }
   },
   "outputs": [],
   "source": [
    "class Dog:\n",
    "    # Атрибуты класса\n",
    "    species = 'Здоровый'\n",
    "    # Атрибуты инициализатора/экземпляра\n",
    "    def __init__(self, name, age):\n",
    "        self.name = name\n",
    "        self.age = age"
   ]
  },
  {
   "cell_type": "code",
   "execution_count": 15,
   "metadata": {
    "ExecuteTime": {
     "end_time": "2023-03-30T02:25:39.617424Z",
     "start_time": "2023-03-30T02:25:39.609935Z"
    }
   },
   "outputs": [],
   "source": [
    "# Создаем экземпляры собак\n",
    "hatiko = Dog(\"Хатико\", 5) #создали экземпляр класса Dog с нужными параметрами\n",
    "bethoven = Dog(\"Бетховен\", 6) #создали экземпляр класса Dog с нужными параметрами\n"
   ]
  },
  {
   "cell_type": "code",
   "execution_count": 16,
   "metadata": {
    "ExecuteTime": {
     "end_time": "2023-03-30T02:26:51.490898Z",
     "start_time": "2023-03-30T02:26:51.466315Z"
    }
   },
   "outputs": [
    {
     "name": "stdout",
     "output_type": "stream",
     "text": [
      "Хатико уже 5 лет и Бетховен уже 6 лет живет.\n",
      "Хатико\n",
      "Хатико у нас Здоровый!\n"
     ]
    }
   ],
   "source": [
    "# Создаем экземпляры собак\n",
    "hatiko = Dog(\"Хатико\", 5) #создали экземпляр класса Dog с нужными параметрами\n",
    "bethoven = Dog(\"Бетховен\", 6) #создали экземпляр класса Dog с нужными параметрами\n",
    "\n",
    "# Доступ к атрибутам\n",
    "print(\"{} уже {} лет и {} уже {} лет живет.\".format(\n",
    "    hatiko.name, hatiko.age, bethoven.name, bethoven.age))\n",
    "# но можно и так\n",
    "print(hatiko.name)\n",
    "\n",
    "# Хатико здоровый?\n",
    "if hatiko.species == \"Здоровый\":\n",
    "    print(\"{0} у нас {1}!\".format(hatiko.name, hatiko.species))"
   ]
  },
  {
   "cell_type": "markdown",
   "metadata": {},
   "source": [
    "То есть мы создали новый экземпляр класса `Dog()` и присвоили его переменным `hatiko`, `bethoven`. Затем мы передали ему два аргумента: \"Хатико\" и 5, которые представляют имя и возраст этой собаки соответственно.\n",
    "Эти атрибуты передаются методу `__init__`, который вызывается каждый раз, когда вы создаете новый экземпляр, прикрепляя имя и возраст к объекту."
   ]
  },
  {
   "cell_type": "markdown",
   "metadata": {
    "ExecuteTime": {
     "end_time": "2022-02-09T15:23:30.592691Z",
     "start_time": "2022-02-09T15:23:30.578110Z"
    }
   },
   "source": [
    "\n",
    "Почему нам не пришлось передавать аргумент `self`?\n",
    "\n",
    "Ответ: т.к. когда вы создаете новый экземпляр класса, `Python` автоматически определяет, что такое `self` (в данном случае это `Dog`) и передает его методу `__init__`."
   ]
  },
  {
   "cell_type": "markdown",
   "metadata": {},
   "source": [
    "## Методы экземпляра"
   ]
  },
  {
   "cell_type": "markdown",
   "metadata": {},
   "source": [
    "Метод — это функция или процедура, принадлежащая какому-то классу или объекту."
   ]
  },
  {
   "cell_type": "markdown",
   "metadata": {},
   "source": [
    "Методы экземпляра определены внутри класса и используются для получения содержимого экземпляра.\n",
    "\n",
    "Они также могут быть использованы для выполнения операций с атрибутами наших объектов. Как и метод `__init__`, где первым аргументом всегда является `self`:"
   ]
  },
  {
   "cell_type": "code",
   "execution_count": 17,
   "metadata": {
    "ExecuteTime": {
     "end_time": "2023-03-30T02:29:45.426966Z",
     "start_time": "2023-03-30T02:29:45.407014Z"
    }
   },
   "outputs": [
    {
     "name": "stdout",
     "output_type": "stream",
     "text": [
      "Хатико дожил до 6\n",
      "Хатико говорит Гав-Гав\n"
     ]
    }
   ],
   "source": [
    "class Dog:\n",
    "    # Атрибуты класса\n",
    "    species = 'Здоровый'\n",
    "    # Атрибуты Инициализатора / Экземпляра\n",
    "    def __init__(self, name, age):\n",
    "        self.name = name\n",
    "        self.age = age\n",
    "    # Метод класса\n",
    "    def description(self):\n",
    "        return \"{} дожил до {}\".format(self.name, self.age)\n",
    "    # Метод класса\n",
    "    def speak(self, sound):\n",
    "        return \"{} говорит {}\".format(self.name, sound)\n",
    "    \n",
    "# Создаем объект (экземпляр класса) Dog\n",
    "hatiko = Dog(\"Хатико\", 6)\n",
    "\n",
    "# Вызов методов класса\n",
    "print(hatiko.description())\n",
    "print(hatiko.speak(\"Гав-Гав\"))"
   ]
  },
  {
   "cell_type": "markdown",
   "metadata": {},
   "source": [
    "## Изменение атрибутов"
   ]
  },
  {
   "cell_type": "markdown",
   "metadata": {},
   "source": [
    "Вы можете изменить значение атрибутов на основе некоторого поведения:"
   ]
  },
  {
   "cell_type": "code",
   "execution_count": 19,
   "metadata": {
    "ExecuteTime": {
     "end_time": "2023-03-30T02:32:11.343897Z",
     "start_time": "2023-03-30T02:32:11.328922Z"
    }
   },
   "outputs": [
    {
     "data": {
      "text/plain": [
       "False"
      ]
     },
     "execution_count": 19,
     "metadata": {},
     "output_type": "execute_result"
    }
   ],
   "source": [
    "class Email:\n",
    "    def __init__(self,numb): \n",
    "        self.is_sent = False\n",
    "        self.number_letter = numb \n",
    "    def send_email(self): #метод \"отправки\" письма\n",
    "        self.is_sent = True\n",
    "\n",
    "my_email1 = Email(2)  #создали письмо 2\n",
    "my_email2 = Email(3)  #создали письмо 3\n",
    "my_email2.is_sent\n",
    "#my_email2.send_email() #вызвали метод проверки\n",
    "#my_email2.is_sent"
   ]
  },
  {
   "cell_type": "code",
   "execution_count": null,
   "metadata": {
    "ExecuteTime": {
     "end_time": "2022-02-12T02:51:06.671745Z",
     "start_time": "2022-02-12T02:51:06.664033Z"
    }
   },
   "outputs": [],
   "source": [
    "my_email2.send_email() #отправили письмо\n",
    "my_email1.is_sent # проверяем отправилось ли оно"
   ]
  },
  {
   "cell_type": "code",
   "execution_count": 42,
   "metadata": {
    "ExecuteTime": {
     "end_time": "2023-02-11T03:06:08.954841Z",
     "start_time": "2023-02-11T03:06:08.940877Z"
    }
   },
   "outputs": [
    {
     "data": {
      "text/plain": [
       "<__main__.Email at 0x27156549b08>"
      ]
     },
     "execution_count": 42,
     "metadata": {},
     "output_type": "execute_result"
    }
   ],
   "source": [
    "Email(3)"
   ]
  },
  {
   "attachments": {},
   "cell_type": "markdown",
   "metadata": {
    "ExecuteTime": {
     "end_time": "2022-02-09T15:51:08.377839Z",
     "start_time": "2022-02-09T15:51:08.374680Z"
    }
   },
   "source": [
    "# Задачи"
   ]
  },
  {
   "cell_type": "markdown",
   "metadata": {},
   "source": [
    "1) Используя Dog, создайте 4 различных собаки, каждая из которых имеет свой возраст и имя. \n",
    "Напишите функцию, которая принимает любое  имен и возрастов и возвращает имя самой старой."
   ]
  },
  {
   "cell_type": "code",
   "execution_count": 1,
   "metadata": {},
   "outputs": [
    {
     "name": "stdout",
     "output_type": "stream",
     "text": [
      "The oldest dog is: told me\n"
     ]
    }
   ],
   "source": [
    "class Dog:\n",
    "    # Атрибуты класса\n",
    "    species = 'Здоровый'\n",
    "    # Атрибуты Инициализатора / Экземпляра\n",
    "    def __init__(self, name, age):\n",
    "        self.name = name\n",
    "        self.age = age\n",
    "    # Метод класса\n",
    "    def description(self):\n",
    "        return \"{} дожил до {}\".format(self.name, self.age)\n",
    "    # Метод класса\n",
    "    def speak(self, sound):\n",
    "        return \"{} говорит {}\".format(self.name, sound)\n",
    "\n",
    "dog1 = Dog(\"Some\", 3)\n",
    "dog2 = Dog(\"body\", 5)\n",
    "dog3 = Dog(\"once\", 2)\n",
    "dog4 = Dog(\"told me\", 7)\n",
    "\n",
    "def find_oldest(*dogs):\n",
    "    oldest_dog = max(dogs, key = lambda x: x.age)\n",
    "    return oldest_dog.name\n",
    "\n",
    "oldest_dog_name = find_oldest(dog1, dog2, dog3, dog4)\n",
    "print(\"The oldest dog is:\", oldest_dog_name)"
   ]
  },
  {
   "cell_type": "markdown",
   "metadata": {},
   "source": [
    "2) Создайте класс Person, конструктор которого принимает три параметра (не учитывая self) – имя, фамилию и квалификацию специалиста. Квалификация имеет значение заданное по умолчанию, равное единице."
   ]
  },
  {
   "cell_type": "code",
   "execution_count": 3,
   "metadata": {},
   "outputs": [],
   "source": [
    "class Person:\n",
    "    def __init__(self, first_name, last_name, qualification=1):\n",
    "        self.first_name = first_name\n",
    "        self.last_name = last_name\n",
    "        self.qualification = qualification\n",
    "\n",
    "person1 = Person(\"John\", \"Weak\")\n",
    "person2 = Person(\"Sara\", \"Konor\", 2)"
   ]
  },
  {
   "cell_type": "markdown",
   "metadata": {},
   "source": [
    "3) Создайте в Person метод, который \n",
    "- возвращает строку, включающую в себя всю информацию о сотруднике\n",
    "- *увольняет сотрудника"
   ]
  },
  {
   "cell_type": "code",
   "execution_count": 5,
   "metadata": {},
   "outputs": [
    {
     "name": "stdout",
     "output_type": "stream",
     "text": [
      "John Weak, qualification: 1, employed: True\n",
      "John Weak, qualification: 1, employed: False\n"
     ]
    }
   ],
   "source": [
    "class Person:\n",
    "    def __init__(self, first_name, last_name, qualification=1):\n",
    "        self.first_name = first_name\n",
    "        self.last_name = last_name\n",
    "        self.qualification = qualification\n",
    "        self.employed = True\n",
    "    \n",
    "    def get_info(self):\n",
    "        return f\"{self.first_name} {self.last_name}, qualification: {self.qualification}, employed: {self.employed}\"\n",
    "    \n",
    "    def fire(self):\n",
    "        self.employed = False\n",
    "    \n",
    "person1 = Person(\"John\", \"Weak\")\n",
    "print(person1.get_info())\n",
    "person1.fire()\n",
    "print(person1.get_info())"
   ]
  },
  {
   "cell_type": "markdown",
   "metadata": {
    "ExecuteTime": {
     "end_time": "2022-02-09T16:21:13.459351Z",
     "start_time": "2022-02-09T16:21:13.444660Z"
    }
   },
   "source": [
    "4) Создайте три объекта класса Person"
   ]
  },
  {
   "cell_type": "code",
   "execution_count": 7,
   "metadata": {},
   "outputs": [],
   "source": [
    "person1 = Person(\"John\", \"Weak\")\n",
    "person2 = Person(\"Sara\", \"Konor\", 2)\n",
    "person3 = Person(\"John\", \"Konor\", 3)"
   ]
  },
  {
   "cell_type": "markdown",
   "metadata": {
    "ExecuteTime": {
     "end_time": "2022-02-09T16:27:12.111755Z",
     "start_time": "2022-02-09T16:27:12.094421Z"
    }
   },
   "source": [
    "5) Увольте самого неквалифицированного специалиста"
   ]
  },
  {
   "cell_type": "code",
   "execution_count": 10,
   "metadata": {},
   "outputs": [
    {
     "name": "stdout",
     "output_type": "stream",
     "text": [
      "The fired person is: John Weak\n"
     ]
    }
   ],
   "source": [
    "def find_low_qual(*slaves):\n",
    "    oldest_slave = min(slaves, key = lambda x: x.qualification)\n",
    "    oldest_slave.fire()\n",
    "    return oldest_slave.first_name + \" \" + oldest_slave.last_name\n",
    "\n",
    "oldest_person_name = find_low_qual(person1, person2, person3)\n",
    "print(\"The fired person is:\", oldest_person_name)"
   ]
  }
 ],
 "metadata": {
  "kernelspec": {
   "display_name": "Python 3",
   "language": "python",
   "name": "python3"
  },
  "language_info": {
   "codemirror_mode": {
    "name": "ipython",
    "version": 3
   },
   "file_extension": ".py",
   "mimetype": "text/x-python",
   "name": "python",
   "nbconvert_exporter": "python",
   "pygments_lexer": "ipython3",
   "version": "3.8.10"
  },
  "vscode": {
   "interpreter": {
    "hash": "f5ff168696553f3e2cb115c273c46eeb315c32b0d0536992c4bad2740a7f9469"
   }
  }
 },
 "nbformat": 4,
 "nbformat_minor": 2
}

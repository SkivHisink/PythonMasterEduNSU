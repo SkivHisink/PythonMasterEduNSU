{
 "cells": [
  {
   "cell_type": "code",
   "execution_count": null,
   "metadata": {
    "ExecuteTime": {
     "end_time": "2022-04-09T02:42:51.640873Z",
     "start_time": "2022-04-09T02:42:51.044536Z"
    }
   },
   "outputs": [],
   "source": [
    "import numpy as np"
   ]
  },
  {
   "cell_type": "markdown",
   "metadata": {},
   "source": [
    "# 1. Инкапсуляция\n",
    "Под инкапсуляцией в объектно-ориентированном программировании понимается упаковка данных и методов для их обработки вместе, т. е. в классе. В Python инкапсуляция реализуется как на уровне классов, так и объектов. В ряде других языков, например в Java, под инкапсуляцией также понимают сокрытие свойств и методов, в результате чего они становятся приватными. Это значит, что доступ к ним ограничен либо пределами класса, либо модуля.\n",
    "\n",
    "В `Python` подобной инкапсуляции нет, хотя существует способ ее имитировать. Перед тем как выяснять, как это делается, надо понять, зачем вообще что-то скрывать.\n",
    "\n",
    "Дело в том, что классы бывают большими и сложными. В них может быть множество вспомогательных полей и методов, которые не должны использоваться за его пределами. Они просто для этого не предназначены. Они своего рода внутренние шестеренки, обеспечивающие нормальную работу класса.\n",
    "\n",
    "Кроме того, в других языках программирования хорошей практикой считается сокрытие всех полей объектов, чтобы уберечь их от прямого присвоения значений из основной ветки программы. Их значения можно изменять и получать только через вызовы методов, специально определенных для этих целей.\n",
    "\n",
    "Например, если надо проверять присваиваемое полю значение на корректность, то делать это каждый раз в основном коде программы будет неправильным. Проверочный код должен быть помещен в метод, который получает данные, для присвоения полю. А само поле должно быть закрыто для доступа из вне класса. В этом случае ему невозможно будет присвоить недопустимое значение.\n"
   ]
  },
  {
   "cell_type": "markdown",
   "metadata": {},
   "source": [
    "\n",
    "Например, если класс имеет счетчик своих объектов, то необходимо исключить возможность его случайного изменения извне. Рассмотрим пример:"
   ]
  },
  {
   "cell_type": "code",
   "execution_count": null,
   "metadata": {
    "ExecuteTime": {
     "end_time": "2023-04-22T04:30:51.986344Z",
     "start_time": "2023-04-22T04:30:51.965534Z"
    }
   },
   "outputs": [],
   "source": [
    "class B:\n",
    "    count = 0\n",
    "    def __init__(self):\n",
    "        B.count += 1\n",
    "    def __del__(self):\n",
    "        B.count -= 1"
   ]
  },
  {
   "cell_type": "code",
   "execution_count": null,
   "metadata": {
    "ExecuteTime": {
     "end_time": "2022-04-09T02:46:21.533372Z",
     "start_time": "2022-04-09T02:46:21.515600Z"
    }
   },
   "outputs": [],
   "source": [
    "a = B()\n",
    "b = B()\n",
    "с = B()\n",
    "print(b.count)\n",
    "print(B.count) \n",
    "del a\n",
    "print(B.count) "
   ]
  },
  {
   "cell_type": "code",
   "execution_count": null,
   "metadata": {
    "ExecuteTime": {
     "end_time": "2022-04-09T02:47:14.431367Z",
     "start_time": "2022-04-09T02:47:14.414410Z"
    }
   },
   "outputs": [],
   "source": [
    "b.count"
   ]
  },
  {
   "cell_type": "code",
   "execution_count": null,
   "metadata": {
    "ExecuteTime": {
     "end_time": "2022-04-09T02:47:26.624011Z",
     "start_time": "2022-04-09T02:47:26.618062Z"
    }
   },
   "outputs": [],
   "source": [
    "B.count -= 1\n",
    "print(B.count)"
   ]
  },
  {
   "cell_type": "markdown",
   "metadata": {},
   "source": [
    "Для *имитации* сокрытия атрибутов в Python используется соглашение (соглашение – это не синтаксическое правило языка, при желании его можно нарушить), согласно которому, если поле или метод имеют два знака подчеркивания впереди имени, но не сзади, то этот атрибут предусмотрен исключительно для внутреннего пользования:"
   ]
  },
  {
   "cell_type": "code",
   "execution_count": null,
   "metadata": {
    "ExecuteTime": {
     "end_time": "2023-04-22T04:32:05.180278Z",
     "start_time": "2023-04-22T04:32:05.105003Z"
    }
   },
   "outputs": [],
   "source": [
    "class B:\n",
    "    __count = 0\n",
    " \n",
    "    def __init__(self):\n",
    "        B.__count += 1\n",
    " \n",
    "    def __del__(self):\n",
    "        B.__count -= 1\n",
    " \n",
    " \n",
    "a = B()\n",
    "print(B.__count)"
   ]
  },
  {
   "cell_type": "code",
   "execution_count": null,
   "metadata": {
    "ExecuteTime": {
     "end_time": "2023-04-22T04:32:18.784055Z",
     "start_time": "2023-04-22T04:32:18.756163Z"
    }
   },
   "outputs": [],
   "source": [
    "B.__count = 3\n",
    "B.__count"
   ]
  },
  {
   "cell_type": "markdown",
   "metadata": {},
   "source": [
    "На самом деле сокрытие в `Python` не настоящее и доступ к счетчику мы получить все же можем. "
   ]
  },
  {
   "cell_type": "code",
   "execution_count": null,
   "metadata": {
    "ExecuteTime": {
     "end_time": "2023-04-22T04:32:23.279976Z",
     "start_time": "2023-04-22T04:32:23.269077Z"
    }
   },
   "outputs": [],
   "source": [
    "print(B._B__count)"
   ]
  },
  {
   "cell_type": "markdown",
   "metadata": {},
   "source": [
    "А как теперь вернуть значение?"
   ]
  },
  {
   "cell_type": "code",
   "execution_count": null,
   "metadata": {
    "ExecuteTime": {
     "end_time": "2023-04-22T04:34:04.602652Z",
     "start_time": "2023-04-22T04:34:04.589655Z"
    }
   },
   "outputs": [],
   "source": [
    "class B:\n",
    "    __count = 0\n",
    " \n",
    "    def __init__(self):\n",
    "        B.__count += 1\n",
    " \n",
    "    def __del__(self):\n",
    "        B.__count -= 1\n",
    "    \n",
    "    def qty_objects():# создали метод для этой цели\n",
    "        return B.__count\n",
    "            \n",
    "a = B()\n",
    "b = B()\n",
    "print(B.qty_objects())\n",
    "\n",
    "#$B.qty_objects()\n",
    "#a.__count "
   ]
  },
  {
   "cell_type": "markdown",
   "metadata": {},
   "source": [
    "В `Python` атрибуты объекту можно назначать за пределами класса:"
   ]
  },
  {
   "cell_type": "code",
   "execution_count": null,
   "metadata": {
    "ExecuteTime": {
     "end_time": "2023-04-22T04:34:12.014129Z",
     "start_time": "2023-04-22T04:34:11.985816Z"
    }
   },
   "outputs": [],
   "source": [
    "class A:\n",
    "     def __init__(self, v):\n",
    "        self.field1 = v\n",
    "a = A(10)\n",
    "a.field2 = 20\n",
    "a.field1,a.field2\n"
   ]
  },
  {
   "cell_type": "markdown",
   "metadata": {},
   "source": [
    "Если это поведение нежелательно, то можем использовать метод `__setattr__`"
   ]
  },
  {
   "cell_type": "code",
   "execution_count": null,
   "metadata": {
    "ExecuteTime": {
     "end_time": "2023-04-22T04:34:16.267643Z",
     "start_time": "2023-04-22T04:34:16.245529Z"
    }
   },
   "outputs": [],
   "source": [
    "class A:\n",
    "    def __init__(self, v):\n",
    "        self.field1 = v\n",
    "    def __setattr__(self, attr, value):\n",
    "        if attr == 'field1':\n",
    "            self.__dict__[attr] = value\n",
    "        else:\n",
    "            raise AttributeError\n",
    "a = A(15)\n",
    "a.field1       "
   ]
  },
  {
   "cell_type": "code",
   "execution_count": null,
   "metadata": {
    "ExecuteTime": {
     "end_time": "2023-04-22T04:34:18.858478Z",
     "start_time": "2023-04-22T04:34:18.842933Z"
    }
   },
   "outputs": [],
   "source": [
    "a.__dict__"
   ]
  },
  {
   "cell_type": "code",
   "execution_count": null,
   "metadata": {
    "ExecuteTime": {
     "end_time": "2023-04-22T04:34:19.283997Z",
     "start_time": "2023-04-22T04:34:19.144876Z"
    }
   },
   "outputs": [],
   "source": [
    " a.field2 = 30"
   ]
  },
  {
   "cell_type": "markdown",
   "metadata": {},
   "source": [
    "Метод `__setattr__()`, если он присутствует в классе, вызывается всегда, когда какому-либо атрибуту выполняется присваивание. !!!!Обратите внимание, что присвоение несуществующему атрибуту также обозначает его добавление к объекту.\n",
    "\n",
    "Когда создается объект `a1`, в конструктор передается число `15`. Здесь для объекта заводится атрибут `field1`. Факт попытки присвоения ему значения тут же отправляет интерпретатор в метод `__setattr__()`, где проверяется соответствует ли имя атрибута строке `field1`. Если так, то атрибут и соответствующее ему значение добавляется в словарь атрибутов объекта.\n",
    "\n",
    "Нельзя в `__setattr__()` написать просто `self.field1 = value`, так как это приведет к новому рекурсивному вызову метода `__setattr__()`. Поэтому поле назначается через словарь `__dict__`, который есть у всех объектов, и в котором хранятся их атрибуты со значениями.\n",
    "\n",
    "Если параметр `attr` не соответствует допустимым полям, то искусственно возбуждается исключение `AttributeError`. Мы это видим, когда в основной ветке пытаемся обзавестись полем `field2`.\n",
    "\n",
    "Если объект содержит скрытые поля и к ним происходит обращение из `__setattr__()`, то делать это надо так, как будто обращение происходит не из класса. Следующий код приведет к генерации исключения:"
   ]
  },
  {
   "cell_type": "code",
   "execution_count": null,
   "metadata": {
    "ExecuteTime": {
     "end_time": "2023-04-22T04:34:23.643949Z",
     "start_time": "2023-04-22T04:34:23.612532Z"
    }
   },
   "outputs": [],
   "source": [
    "class A:\n",
    "    def __init__(self, x):\n",
    "        self.__x = x\n",
    " \n",
    "    def __setattr__(self, attr, value):\n",
    "        if attr == \"__x\":\n",
    "            self.__dict__[attr] = value\n",
    "        else:\n",
    "            raise AttributeError\n",
    "\n",
    "a = A(5)"
   ]
  },
  {
   "cell_type": "markdown",
   "metadata": {},
   "source": [
    "Более подробно про `setattr`   [тут](https://datagy.io/python-setattr/)"
   ]
  },
  {
   "cell_type": "markdown",
   "metadata": {},
   "source": [
    "# 2. Полиморфизм\n",
    "Полиморфизм в объектно-ориентированном программировании – это возможность обработки разных типов данных, т. е. принадлежащих к разным классам, с помощью \"одной и той же\" функции, или метода. На самом деле одинаковым является только имя метода, его исходный код зависит от класса. Кроме того, результаты работы одноименных методов могут существенно различаться. Поэтому в данном контексте под полиморфизмом понимается множество форм одного и того же слова – имени метода.\n"
   ]
  },
  {
   "cell_type": "markdown",
   "metadata": {
    "ExecuteTime": {
     "end_time": "2023-04-22T04:38:42.190262Z",
     "start_time": "2023-04-22T04:38:42.169138Z"
    }
   },
   "source": [
    "Еще раз всмомним пример из прошлого семинара"
   ]
  },
  {
   "cell_type": "markdown",
   "metadata": {},
   "source": [
    "\n",
    "Например, два разных класса содержат метод `total`, однако инструкции каждого предусматривают совершенно разные операции. Так в классе `T1` – это прибавление `10` к аргументу, в `T2` – подсчет длины строки символов. В зависимости от того, к объекту какого класса применяется метод `total`, выполняются те или иные инструкции."
   ]
  },
  {
   "cell_type": "code",
   "execution_count": null,
   "metadata": {
    "ExecuteTime": {
     "end_time": "2023-04-22T04:39:42.055666Z",
     "start_time": "2023-04-22T04:39:42.048671Z"
    }
   },
   "outputs": [],
   "source": [
    "class T1:\n",
    "    n = 10\n",
    "    def total(self, N):\n",
    "        self.total = int(self.n) + int(N)\n",
    "\n",
    "class T2:\n",
    "    def total(self,s):\n",
    "        self.total = len(str(s))"
   ]
  },
  {
   "cell_type": "code",
   "execution_count": null,
   "metadata": {
    "ExecuteTime": {
     "end_time": "2023-04-22T04:39:43.654976Z",
     "start_time": "2023-04-22T04:39:43.646798Z"
    }
   },
   "outputs": [],
   "source": [
    "t1 = T1()\n",
    "t2 = T2()\n",
    "t1.total(45)\n",
    "t2.total(45)\n",
    "print(t1.total) \n",
    "print(t2.total) "
   ]
  },
  {
   "cell_type": "markdown",
   "metadata": {},
   "source": [
    "Как видно, полиморфизмом обладают классы связанные наследованием. У каждого может быть свой метод `__init__()`, или `square()`, или какой-нибудь другой. Какой именно из методов `square()` вызывается и что он делает, зависит от принадлежности объекта к тому или иному классу.\n",
    "\n",
    "Однако классы не обязательно должны быть связаны наследованием. Полиморфизм как один из ключевых элементов ООП существует независимо от наследования. Классы могут быть не родственными, но иметь одинаковые методы.\n",
    "\n",
    "Полиморфизм дает возможность реализовывать так называемые единые интерфейсы для объектов различных классов. Например, разные классы могут предусматривать различный способ вывода той или иной информации объектов. Однако одинаковое название метода вывода позволит не запутать программу, сделать код более ясным.\n",
    "\n"
   ]
  },
  {
   "cell_type": "markdown",
   "metadata": {},
   "source": [
    "Рассмотрим пример полиморфизма на еще одном методе, который перегружает функцию `print()`.\n",
    "\n",
    "Если вы создадите объект собственного класса, а потом попробуете вывести его на экран, то получите информацию о классе объекта и его адрес в памяти. Такое поведение функции `print()` по умолчанию по отношению к пользовательским классам запрограммировано на самом верхнем уровне иерархии, где-то в суперклассе, от которого неявно наследуются все остальные."
   ]
  },
  {
   "cell_type": "code",
   "execution_count": null,
   "metadata": {
    "ExecuteTime": {
     "end_time": "2022-03-25T17:10:50.351639Z",
     "start_time": "2022-03-25T17:10:50.332690Z"
    }
   },
   "outputs": [],
   "source": [
    "class A:\n",
    "    def __init__(self, v1, v2):\n",
    "        self.field1 = v1\n",
    "        self.field2 = v2"
   ]
  },
  {
   "cell_type": "code",
   "execution_count": null,
   "metadata": {
    "ExecuteTime": {
     "end_time": "2022-03-25T17:10:50.603537Z",
     "start_time": "2022-03-25T17:10:50.583412Z"
    }
   },
   "outputs": [],
   "source": [
    "a = A(3, 4)\n",
    "print(a)"
   ]
  },
  {
   "cell_type": "markdown",
   "metadata": {},
   "source": [
    "Если же мы хотим, чтобы, когда объект передается функции `print()`, выводилась какая-нибудь другая более полезная информация, то в класс надо добавить специальный метод `__str__()`. Этот метод должен обязательно возвращать строку, которую будет выводить функция `print()`:"
   ]
  },
  {
   "cell_type": "code",
   "execution_count": null,
   "metadata": {
    "ExecuteTime": {
     "end_time": "2022-03-25T17:10:57.626044Z",
     "start_time": "2022-03-25T17:10:57.610619Z"
    }
   },
   "outputs": [],
   "source": [
    "class A:\n",
    "    def __init__(self, v1, v2):\n",
    "        self.field1 = v1\n",
    "        self.field2 = v2\n",
    "    def __str__(self):\n",
    "        return str(self.field1) + \" \" + str(self.field2)"
   ]
  },
  {
   "cell_type": "code",
   "execution_count": null,
   "metadata": {},
   "outputs": [],
   "source": [
    "a = A(3, 4)\n",
    "print(a)"
   ]
  },
  {
   "cell_type": "markdown",
   "metadata": {
    "collapsed": true
   },
   "source": [
    "# 3. Наследование\n",
    "Наследование – важная составляющая объектно-ориентированного программирования. Так или иначе мы уже сталкивались с ним, ведь объекты наследуют атрибуты своих классов. Однако обычно под наследованием в ООП понимается наличие классов и подклассов. Также их называют супер- или надклассами и классами, а также родительскими и дочерними классами.\n",
    "\n",
    "Суть наследования здесь схожа с наследованием объектами от классов. Дочерние классы наследуют атрибуты родительских, а также могут переопредять атрибуты и добавлять свои."
   ]
  },
  {
   "attachments": {},
   "cell_type": "markdown",
   "metadata": {
    "collapsed": true
   },
   "source": [
    "## 3.1. Простое наследование"
   ]
  },
  {
   "cell_type": "code",
   "execution_count": null,
   "metadata": {
    "ExecuteTime": {
     "end_time": "2022-04-09T03:08:42.885743Z",
     "start_time": "2022-04-09T03:08:42.881143Z"
    }
   },
   "outputs": [],
   "source": [
    "class Table:\n",
    "    def __init__(self, l, w, h):\n",
    "        self.lenght = l\n",
    "        self.width = w\n",
    "        self.height = h"
   ]
  },
  {
   "cell_type": "code",
   "execution_count": null,
   "metadata": {
    "ExecuteTime": {
     "end_time": "2022-04-09T03:08:44.317645Z",
     "start_time": "2022-04-09T03:08:44.312602Z"
    }
   },
   "outputs": [],
   "source": [
    "class KitchenTable(Table):\n",
    "    def setPlaces(self, p):\n",
    "        self.places = p"
   ]
  },
  {
   "cell_type": "code",
   "execution_count": null,
   "metadata": {
    "ExecuteTime": {
     "end_time": "2022-04-09T03:08:47.163002Z",
     "start_time": "2022-04-09T03:08:47.157980Z"
    }
   },
   "outputs": [],
   "source": [
    " class DeskTable(Table):\n",
    "    def square(self):\n",
    "        return self.width * self.lenght"
   ]
  },
  {
   "cell_type": "markdown",
   "metadata": {
    "collapsed": true
   },
   "source": [
    "В данном случае классы `KitchenTable` и `DeskTable` не имеют своих собственных конструкторов, поэтому наследуют его от родительского класса. При создании экземпляров этих столов, передавать аргументы для `__init__()` обязательно, иначе возникнет ошибка:"
   ]
  },
  {
   "cell_type": "code",
   "execution_count": null,
   "metadata": {
    "ExecuteTime": {
     "end_time": "2022-04-09T03:08:55.025582Z",
     "start_time": "2022-04-09T03:08:55.005971Z"
    }
   },
   "outputs": [],
   "source": [
    "t1 = KitchenTable()"
   ]
  },
  {
   "cell_type": "code",
   "execution_count": null,
   "metadata": {
    "ExecuteTime": {
     "end_time": "2022-04-09T03:08:55.797638Z",
     "start_time": "2022-04-09T03:08:55.790884Z"
    }
   },
   "outputs": [],
   "source": [
    "t1 = KitchenTable(2, 2, 0.7)\n",
    "t2 = DeskTable(1.5, 0.8, 0.75)\n",
    "t3 = KitchenTable(1, 1.2, 0.8)"
   ]
  },
  {
   "cell_type": "code",
   "execution_count": null,
   "metadata": {
    "ExecuteTime": {
     "end_time": "2022-03-25T17:14:39.452066Z",
     "start_time": "2022-03-25T17:14:39.429360Z"
    }
   },
   "outputs": [],
   "source": [
    "t3.lenght"
   ]
  },
  {
   "cell_type": "markdown",
   "metadata": {
    "collapsed": true
   },
   "source": [
    "Можно создавать столы и от родительского класса `Table`. Однако он не будет, согласно неким родственным связям, иметь доступ к методам `setPlaces()` и `square()`. Точно так же объект класса `KitchenTable` не имеет доступа к единоличным атрибутам сестринского класса `DeskTable`:"
   ]
  },
  {
   "cell_type": "code",
   "execution_count": null,
   "metadata": {
    "ExecuteTime": {
     "end_time": "2022-03-25T17:14:48.206981Z",
     "start_time": "2022-03-25T17:14:48.192991Z"
    }
   },
   "outputs": [],
   "source": [
    "t4 = Table(1, 1, 0.5)"
   ]
  },
  {
   "cell_type": "code",
   "execution_count": null,
   "metadata": {
    "ExecuteTime": {
     "end_time": "2022-03-25T17:14:48.931084Z",
     "start_time": "2022-03-25T17:14:48.914480Z"
    }
   },
   "outputs": [],
   "source": [
    "t2.width * t2.lenght"
   ]
  },
  {
   "cell_type": "code",
   "execution_count": null,
   "metadata": {
    "ExecuteTime": {
     "end_time": "2022-03-25T17:14:49.521078Z",
     "start_time": "2022-03-25T17:14:49.509307Z"
    }
   },
   "outputs": [],
   "source": [
    "t2.square()"
   ]
  },
  {
   "cell_type": "code",
   "execution_count": null,
   "metadata": {
    "ExecuteTime": {
     "end_time": "2022-03-25T17:14:50.256235Z",
     "start_time": "2022-03-25T17:14:50.239736Z"
    }
   },
   "outputs": [],
   "source": [
    "t4.square()"
   ]
  },
  {
   "cell_type": "code",
   "execution_count": null,
   "metadata": {
    "ExecuteTime": {
     "end_time": "2022-03-25T17:14:51.134605Z",
     "start_time": "2022-03-25T17:14:51.111828Z"
    }
   },
   "outputs": [],
   "source": [
    "t3.square()"
   ]
  },
  {
   "attachments": {},
   "cell_type": "markdown",
   "metadata": {},
   "source": [
    "## 3.2. Полное переопределение метода надкласса\n",
    "Что, если в подклассе нам не подходит код метода его надкласса? Допустим, мы вводим еще один класс столов, который является дочерним по отношению к `DeskTable`. Пусть это будут компьютерные столы, при вычислении рабочей поверхности которых надо отнимать заданную величину. Имеет смысл внести в этот новый подкласс его собственный метод `square()`:"
   ]
  },
  {
   "cell_type": "code",
   "execution_count": null,
   "metadata": {
    "ExecuteTime": {
     "end_time": "2022-04-09T03:09:28.734433Z",
     "start_time": "2022-04-09T03:09:28.727451Z"
    }
   },
   "outputs": [],
   "source": [
    "class ComputerTable(DeskTable):\n",
    "    def square(self, e):\n",
    "        return self.width * self.lenght - e"
   ]
  },
  {
   "cell_type": "markdown",
   "metadata": {},
   "source": [
    "При создании объекта типа `ComputerTable` по-прежнему требуется указывать параметры, так как интерпретатор в поисках конструктора пойдет по дереву наследования сначала в родителя, а потом в прародителя и найдет там метод `__init__()`.\n",
    "\n",
    "Однако когда будет вызываться метод `square()`, то поскольку он будет обнаружен в самом `ComputerTable`, то метод `square()` из `DeskTable` останется невидимым, т. е. для объектов класса `ComputerTable` он окажется переопределенным."
   ]
  },
  {
   "cell_type": "code",
   "execution_count": null,
   "metadata": {
    "ExecuteTime": {
     "end_time": "2022-04-09T03:09:39.134843Z",
     "start_time": "2022-04-09T03:09:39.126863Z"
    }
   },
   "outputs": [],
   "source": [
    "ct = ComputerTable(2, 1, 1)\n",
    "ct.square(0.3)"
   ]
  },
  {
   "cell_type": "markdown",
   "metadata": {},
   "source": [
    "Или:"
   ]
  },
  {
   "cell_type": "code",
   "execution_count": null,
   "metadata": {
    "ExecuteTime": {
     "end_time": "2022-03-25T17:14:54.623272Z",
     "start_time": "2022-03-25T17:14:54.612783Z"
    }
   },
   "outputs": [],
   "source": [
    "class ComputerTable(DeskTable):\n",
    "    def square(self, e):\n",
    "        return DeskTable.square(self) - e "
   ]
  },
  {
   "cell_type": "code",
   "execution_count": null,
   "metadata": {
    "ExecuteTime": {
     "end_time": "2022-03-25T17:14:55.214275Z",
     "start_time": "2022-03-25T17:14:55.203790Z"
    }
   },
   "outputs": [],
   "source": [
    "ct = ComputerTable(2, 1, 1)\n",
    "ct.square(0.3)"
   ]
  },
  {
   "cell_type": "markdown",
   "metadata": {},
   "source": [
    "Допустим, в классе `KitchenTable` нам не нужен метод, поле `places` должно устанавливаться при создании объекта в конструкторе. В классе можно создать собственный конструктор с чистого листа, чем переопределить родительский:"
   ]
  },
  {
   "cell_type": "code",
   "execution_count": null,
   "metadata": {
    "ExecuteTime": {
     "end_time": "2022-03-25T17:14:56.289975Z",
     "start_time": "2022-03-25T17:14:56.276976Z"
    }
   },
   "outputs": [],
   "source": [
    "class KitchenTable(Table):\n",
    "    def __init__(self, l, w, h, p):\n",
    "        self.length = l\n",
    "        self.width = w\n",
    "        self.height = h\n",
    "        self.places = p"
   ]
  },
  {
   "cell_type": "markdown",
   "metadata": {},
   "source": [
    "Однако если дублируется почти весь конструктор надкласса, проще вызвать родительский конструктор, после чего дополнить своим кодом:"
   ]
  },
  {
   "cell_type": "code",
   "execution_count": null,
   "metadata": {
    "ExecuteTime": {
     "end_time": "2022-03-25T17:14:57.195989Z",
     "start_time": "2022-03-25T17:14:57.187018Z"
    }
   },
   "outputs": [],
   "source": [
    "class KitchenTable(Table):\n",
    "    def __init__(self, l, w, h, p):\n",
    "        Table.__init__(self, l, w, h)\n",
    "        self.places = p"
   ]
  },
  {
   "cell_type": "code",
   "execution_count": null,
   "metadata": {
    "ExecuteTime": {
     "end_time": "2022-03-25T17:14:57.556351Z",
     "start_time": "2022-03-25T17:14:57.547363Z"
    }
   },
   "outputs": [],
   "source": [
    "tk = KitchenTable(2, 1.5, 0.7, 10)"
   ]
  },
  {
   "cell_type": "code",
   "execution_count": null,
   "metadata": {
    "ExecuteTime": {
     "end_time": "2022-03-25T17:15:04.154717Z",
     "start_time": "2022-03-25T17:15:04.139215Z"
    }
   },
   "outputs": [],
   "source": [
    "tk.places"
   ]
  },
  {
   "cell_type": "code",
   "execution_count": null,
   "metadata": {
    "ExecuteTime": {
     "end_time": "2022-03-25T17:15:04.528265Z",
     "start_time": "2022-03-25T17:15:04.514095Z"
    }
   },
   "outputs": [],
   "source": [
    "tk.width "
   ]
  },
  {
   "attachments": {},
   "cell_type": "markdown",
   "metadata": {},
   "source": [
    "## 3.3. Множественное наследование\n",
    "\n",
    "Для наследования от нескольких классов в определении класса-наследника достаточно указать в круглых скобках сразу несколько базовых классов через запятую.\n",
    "\n",
    "# Пример.\n",
    "\n",
    "Рассмотрим три класса:"
   ]
  },
  {
   "cell_type": "code",
   "execution_count": null,
   "metadata": {
    "ExecuteTime": {
     "end_time": "2022-03-25T17:15:14.896756Z",
     "start_time": "2022-03-25T17:15:14.873437Z"
    }
   },
   "outputs": [],
   "source": [
    "class Class1: \n",
    "    def funс1(self):\n",
    "        print(\"Метод funс1() класса Classl\")\n",
    "\n",
    "class Class2(Class1): # Простое наследование\n",
    "    def func2(self):\n",
    "        print(\"Метод func2() класса Class2\")\n",
    "\n",
    "class Class3(Class1): # Простое наследование\n",
    "    def funс1(self):\n",
    "        print(\"Метод funс1() класса Class3\")\n",
    "    def func2(self):\n",
    "        print(\"Метод func2() класса Class3\")\n",
    "    def func3(self):\n",
    "        print(\"Метод func3() класса Class3\")\n",
    "    def func4(self):\n",
    "        print(\"Метод func4() класса Class3\")\n",
    "\n",
    "class Class4(Class2, Class3): # Множественное наследование\n",
    "    def func4(self):\n",
    "        print(\"Метод func4() класса Class4\")"
   ]
  },
  {
   "cell_type": "code",
   "execution_count": null,
   "metadata": {
    "ExecuteTime": {
     "end_time": "2022-03-25T17:15:15.334883Z",
     "start_time": "2022-03-25T17:15:15.321954Z"
    }
   },
   "outputs": [],
   "source": [
    "c = Class4()\n",
    "c.funс1() \n",
    "c.func2() \n",
    "c.func3() \n",
    "c.func4() "
   ]
  },
  {
   "cell_type": "markdown",
   "metadata": {},
   "source": [
    "Метод `func1()` определен в двух классах: `class1` и `class3`. Так как вначале просматриваются все базовые классы, непосредственно указанные в определении текущего класса, метод `func1()` будет найден в классе `class3` (поскольку он указан в числе базовых классов в определении `Class4`), а не в классе `Class1`.\n",
    "\n",
    "Метод `func2()` также определен в двух классах: `Class2` и `Class3`. Так как класс `Class2` стоит первым в списке базовых классов, то метод будет найден именно в нем. \n",
    "\n",
    "Чтобы наследовать метод из класса `Class3`, следует указать это явным образом:"
   ]
  },
  {
   "cell_type": "code",
   "execution_count": null,
   "metadata": {
    "ExecuteTime": {
     "end_time": "2022-03-25T17:15:17.487684Z",
     "start_time": "2022-03-25T17:15:17.478194Z"
    }
   },
   "outputs": [],
   "source": [
    "class Class4(Class2, Class3): # Множественное наследование\n",
    "# Наследуем func2() из класса Class3, а не из класса Class2\n",
    "    func2 = Class3.func2\n",
    "    def func4(self):\n",
    "        print(\"Метод func4() класса Class4\")"
   ]
  },
  {
   "cell_type": "code",
   "execution_count": null,
   "metadata": {
    "ExecuteTime": {
     "end_time": "2022-03-25T17:15:18.325316Z",
     "start_time": "2022-03-25T17:15:18.310096Z"
    }
   },
   "outputs": [],
   "source": [
    "c = Class4()\n",
    "c.funс1() \n",
    "c.func2() \n",
    "c.func3() \n",
    "c.func4() "
   ]
  },
  {
   "cell_type": "markdown",
   "metadata": {
    "collapsed": true
   },
   "source": [
    "# 4. Композиция\n",
    "\n",
    "Еще одной особенностью объектно-ориентированного программирования является возможность реализовывать так называемый композиционный подход. Заключается он в том, что есть класс-контейнер, он же агрегатор, который включает в себя вызовы других классов. В результате чего, что при создании объекта класса-контейнера, также создаются объекты включенных в него классов.\n",
    "\n",
    "Не следует путать композицию с наследованием, в том числе множественным. Наследование предполагает принадлежность к какой-то общности (похожесть), а композиция — формирование целого из частей. Наследуются атрибуты, т.е. возможности, другого класса, при этом объектов непосредственно родительского класса не создается. При композиции же класс-агрегатор создает объекты других классов.\n",
    "\n",
    "Рассмотрим на примере реализацию композиции в Python. Пусть, требуется написать программу, которая вычисляет площадь стен. При этом окна, двери, пол и потолок должны быть исключены.\n",
    "\n",
    "Итак, комната – это прямоугольный параллелепипед, состоящий из шести прямоугольников. Его площадь представляет собой сумму площадей составляющих его прямоугольников. Площадь прямоугольника равна произведению его длины на ширину."
   ]
  },
  {
   "cell_type": "code",
   "execution_count": null,
   "metadata": {
    "ExecuteTime": {
     "end_time": "2023-04-22T03:31:50.635447Z",
     "start_time": "2023-04-22T03:31:50.622481Z"
    }
   },
   "outputs": [],
   "source": [
    "class WinDoor:\n",
    "     def __init__(self, x, y):\n",
    "        self.square = x * y "
   ]
  },
  {
   "cell_type": "code",
   "execution_count": null,
   "metadata": {
    "ExecuteTime": {
     "end_time": "2023-04-22T03:31:50.974549Z",
     "start_time": "2023-04-22T03:31:50.955012Z"
    }
   },
   "outputs": [],
   "source": [
    "class Room:\n",
    "    def __init__(self, x, y, z):\n",
    "        self.square = 2 * z * (x + y)\n",
    "        self.wd = []\n",
    "    def addWD(self, w, h):\n",
    "        self.wd.append(WinDoor(w, h))\n",
    "    def workSurface(self):\n",
    "        new_square = self.square\n",
    "        for i in self.wd:\n",
    "            new_square -= i.square\n",
    "        return new_square"
   ]
  },
  {
   "cell_type": "code",
   "execution_count": null,
   "metadata": {
    "ExecuteTime": {
     "end_time": "2023-04-22T03:31:51.663877Z",
     "start_time": "2023-04-22T03:31:51.640939Z"
    }
   },
   "outputs": [],
   "source": [
    "r1 = Room(6, 3, 2.7) \n",
    "print(r1.square)\n",
    "r1.addWD(1, 1) \n",
    "r1.addWD(1, 1)\n",
    "r1.addWD(1, 2)\n",
    "print(r1.workSurface())"
   ]
  },
  {
   "attachments": {},
   "cell_type": "markdown",
   "metadata": {},
   "source": [
    "# Задачи"
   ]
  },
  {
   "attachments": {},
   "cell_type": "markdown",
   "metadata": {},
   "source": [
    "## Упражнение 1\n",
    "\n",
    "Измените класс `A` таким образом, чтобы объект этого класса мог содержать произвольное число параметров. Перегрузите для него функции `__bool__()` и `__len__()`."
   ]
  },
  {
   "cell_type": "code",
   "execution_count": null,
   "metadata": {},
   "outputs": [],
   "source": [
    "class A:\n",
    "    def __init__(self, *args):\n",
    "        self.args = list(args)\n",
    "    def __str__(self):\n",
    "        return \" \".join(str(arg) for arg in self.args)\n",
    "    # Не понял какое поведение ожидается от bool    \n",
    "    def __bool__(self):\n",
    "        return bool(self.args)\n",
    "        \n",
    "    def __len__(self):\n",
    "        return len(self.args)"
   ]
  },
  {
   "cell_type": "code",
   "execution_count": null,
   "metadata": {},
   "outputs": [],
   "source": [
    "test = A(\"hello\", \"world\")\n",
    "print(test)\n",
    "print(bool(test))\n",
    "print(len(test))"
   ]
  },
  {
   "attachments": {},
   "cell_type": "markdown",
   "metadata": {},
   "source": [
    "## Упражнение 2\n",
    "\n",
    "Напишите класс `Numbers`, содержащий два атрибута `x` и `y`, функцию инициализации и функции `Operation`(пусть будет умножение 2ух чисел) и `Run`(калькуляция этой функций):"
   ]
  },
  {
   "cell_type": "code",
   "execution_count": null,
   "metadata": {},
   "outputs": [],
   "source": [
    "class Numbers:\n",
    "    def __init__(self, x, y):\n",
    "        self.x = x\n",
    "        self.y = y\n",
    "        self.result  = lambda result:f\"{self.x} * {self.y} = {result}\"\n",
    "    \n",
    "    def Operation(self):\n",
    "        return self.x * self.y\n",
    "    \n",
    "    def Run(self):\n",
    "        result = self.Operation()\n",
    "        print(self.result(result))\n",
    "        return result"
   ]
  },
  {
   "cell_type": "markdown",
   "metadata": {},
   "source": [
    "Создайте класс-наследник и с помощью полиморфизма замените функцию `Operation` на любую другую в наследном классе."
   ]
  },
  {
   "cell_type": "code",
   "execution_count": null,
   "metadata": {},
   "outputs": [],
   "source": [
    "class MegaNumbers(Numbers):\n",
    "    def __init__(self, x, y):\n",
    "        super().__init__(x, y)\n",
    "        self.result = lambda result:f\"{self.x} ** {self.y} = {result}\"\n",
    "    def Operation(self):\n",
    "        return self.x ** self.y"
   ]
  },
  {
   "cell_type": "code",
   "execution_count": null,
   "metadata": {},
   "outputs": [],
   "source": [
    "test = Numbers(2,3)\n",
    "test.Run()\n",
    "test = MegaNumbers(2,3)\n",
    "test.Run()"
   ]
  },
  {
   "attachments": {},
   "cell_type": "markdown",
   "metadata": {},
   "source": [
    "## Упражнение 3\n",
    "\n",
    "Дополните приведённый пример возможностью вычисления площади пола и потолка, при этом в полу может быть квадратный проём с лестницей, ведущей вниз, а на потолке – круглые окна."
   ]
  },
  {
   "cell_type": "code",
   "execution_count": null,
   "metadata": {},
   "outputs": [],
   "source": [
    "class WinDoor:\n",
    "     def __init__(self, x, y):\n",
    "        self.square = x * y \n",
    "class Room:\n",
    "    def __init__(self, x, y, z):\n",
    "        self.square = 2 * z * (x + y)\n",
    "        self.wd = []\n",
    "    def addWD(self, w, h):\n",
    "        self.wd.append(WinDoor(w, h))\n",
    "    def workSurface(self):\n",
    "        new_square = self.square\n",
    "        for i in self.wd:\n",
    "            new_square -= i.square\n",
    "        return new_square"
   ]
  },
  {
   "cell_type": "code",
   "execution_count": null,
   "metadata": {},
   "outputs": [],
   "source": [
    "r1 = Room(6, 3, 2.7) \n",
    "print(r1.square)\n",
    "r1.addWD(1, 1) \n",
    "r1.addWD(1, 1)\n",
    "r1.addWD(1, 2)\n",
    "print(r1.workSurface())"
   ]
  },
  {
   "attachments": {},
   "cell_type": "markdown",
   "metadata": {},
   "source": [
    "Решение"
   ]
  },
  {
   "cell_type": "code",
   "execution_count": null,
   "metadata": {},
   "outputs": [],
   "source": [
    "class WinDoor:\n",
    "    def __init__(self, x, y):\n",
    "        self.square = x * y\n",
    "        \n",
    "class Room:\n",
    "    def __init__(self, x, y, z):\n",
    "        self.width = x\n",
    "        self.length = y\n",
    "        self.height = z\n",
    "        self.wd = []\n",
    "        \n",
    "    def addWD(self, w, h):\n",
    "        self.wd.append(WinDoor(w, h))\n",
    "        \n",
    "    def workSurface(self):\n",
    "        floor_square = self.width * self.length\n",
    "        ceiling_square = floor_square\n",
    "        \n",
    "        for i in self.wd:\n",
    "            # Если проём находится в полу, вычитаем его площадь из площади пола\n",
    "            if i.square <= floor_square:\n",
    "                floor_square -= i.square\n",
    "            # Если проём находится в потолке, вычитаем его площадь из площади потолка\n",
    "            elif i.square <= ceiling_square:\n",
    "                ceiling_square -= i.square\n",
    "                \n",
    "        return (floor_square, ceiling_square)"
   ]
  },
  {
   "cell_type": "code",
   "execution_count": null,
   "metadata": {},
   "outputs": [],
   "source": [
    "r1 = Room(6, 3, 2.7) \n",
    "r1.addWD(1, 1) \n",
    "r1.addWD(1, 1)\n",
    "r1.addWD(1, 2)\n",
    "floor_square, ceiling_square = r1.workSurface()\n",
    "print(f\"Площадь пола: {floor_square}\")\n",
    "print(f\"Площадь потолка: {ceiling_square}\")"
   ]
  },
  {
   "attachments": {},
   "cell_type": "markdown",
   "metadata": {},
   "source": [
    "## Задача 1\n",
    "Класс Mentor должен стать родительским классом, а от него нужно реализовать наследование классов Lecturer (лекторы) и Reviewer (эксперты, проверяющие домашние задания)"
   ]
  },
  {
   "cell_type": "code",
   "execution_count": null,
   "metadata": {
    "ExecuteTime": {
     "end_time": "2023-04-22T05:01:54.241431Z",
     "start_time": "2023-04-22T05:01:54.218037Z"
    }
   },
   "outputs": [],
   "source": [
    "class Student:\n",
    "    def __init__(self, name, surname, gender):\n",
    "        self.name = name\n",
    "        self.surname = surname\n",
    "        self.gender = gender\n",
    "        self.finished_courses = []\n",
    "        self.courses_in_progress = []\n",
    "        self.grades = {}\n",
    "        \n",
    "class Mentor:\n",
    "    def __init__(self, name, surname):\n",
    "        self.name = name\n",
    "        self.surname = surname\n",
    "        self.courses_attached = []\n",
    "        \n",
    "    def rate_hw(self, student, course, grade):\n",
    "        if isinstance(student, Student) and course in self.courses_attached and course in student.courses_in_progress:\n",
    "            if course in student.grades:\n",
    "                student.grades[course] += [grade]\n",
    "            else:\n",
    "                student.grades[course] = [grade]\n",
    "        else:\n",
    "            return 'Ошибка'\n",
    " \n",
    "best_student = Student('Ruoy', 'Eman', 'your_gender')\n",
    "best_student.courses_in_progress += ['Python']\n",
    " \n",
    "cool_mentor = Mentor('Some', 'Buddy')\n",
    "cool_mentor.courses_attached += ['Python']\n",
    " \n",
    "cool_mentor.rate_hw(best_student, 'Python', 10)\n",
    "cool_mentor.rate_hw(best_student, 'Python', 10)\n",
    "cool_mentor.rate_hw(best_student, 'Python', 10)\n",
    " \n",
    "print(best_student.grades)"
   ]
  },
  {
   "attachments": {},
   "cell_type": "markdown",
   "metadata": {},
   "source": [
    "Решение"
   ]
  },
  {
   "cell_type": "code",
   "execution_count": null,
   "metadata": {},
   "outputs": [],
   "source": [
    "class Student:\n",
    "    def __init__(self, name, surname, gender):\n",
    "        self.name = name\n",
    "        self.surname = surname\n",
    "        self.gender = gender\n",
    "        self.finished_courses = []\n",
    "        self.courses_in_progress = []\n",
    "        self.grades = {}\n",
    "        \n",
    "class Mentor:\n",
    "    def __init__(self, name, surname):\n",
    "        self.name = name\n",
    "        self.surname = surname\n",
    "        self.courses_attached = []\n",
    "        \n",
    "    def rate_hw(self, student, course, grade):\n",
    "        if isinstance(student, Student) and course in self.courses_attached and course in student.courses_in_progress:\n",
    "            if course in student.grades:\n",
    "                student.grades[course] += [grade]\n",
    "            else:\n",
    "                student.grades[course] = [grade]\n",
    "        else:\n",
    "            return 'Ошибка' # будем хорошие и не будем кидать exception\n",
    "\n",
    "class Lecturer(Mentor):\n",
    "    def __init__(self, name, surname):\n",
    "        super().__init__(name, surname)\n",
    "        self.courses_attached = []\n",
    "        self.grades = {}\n",
    "\n",
    "class Reviewer(Mentor):\n",
    "    def __init__(self, name, surname):\n",
    "        super().__init__(name, surname)\n",
    "        self.courses_attached = []"
   ]
  },
  {
   "cell_type": "code",
   "execution_count": null,
   "metadata": {},
   "outputs": [],
   "source": [
    "best_student = Student('Ruoy', 'Eman', 'your_gender')\n",
    "best_student.courses_in_progress += ['Python']\n",
    " \n",
    "cool_mentor = Mentor('Some', 'Buddy')\n",
    "cool_mentor.courses_attached += ['Python']\n",
    " \n",
    "cool_mentor.rate_hw(best_student, 'Python', 10)\n",
    "cool_mentor.rate_hw(best_student, 'Python', 10)\n",
    "cool_mentor.rate_hw(best_student, 'Python', 10)\n",
    " \n",
    "print(best_student.grades)\n",
    "\n",
    "best_lecturer = Lecturer('John', 'Doe')\n",
    "best_lecturer.courses_attached += ['Python']\n",
    " \n",
    "best_lecturer.rate_hw(best_student, 'Python', 10)\n",
    "best_lecturer.rate_hw(best_student, 'Python', 9)\n",
    " \n",
    "print(best_student.grades)\n",
    "\n",
    "best_reviewer = Reviewer('Jane', 'Doe')\n",
    "best_reviewer.courses_attached += ['Python']\n",
    " \n",
    "best_reviewer.rate_hw(best_student, 'Python', 10)\n",
    "best_reviewer.rate_hw(best_student, 'Python', 8)\n",
    " \n",
    "print(best_student.grades)"
   ]
  },
  {
   "attachments": {},
   "cell_type": "markdown",
   "metadata": {
    "ExecuteTime": {
     "end_time": "2023-04-22T05:05:42.006415Z",
     "start_time": "2023-04-22T05:05:41.988357Z"
    }
   },
   "source": [
    "## Задача 2\n",
    "Реализуйте метод выставления оценок лекторам у класса Student (оценки по 10-балльной шкале, хранятся в атрибуте-словаре у Lecturer, в котором ключи – названия курсов, а значения – списки оценок). Лектор при этом должен быть закреплен за тем курсом, на который записан студент."
   ]
  },
  {
   "cell_type": "code",
   "execution_count": null,
   "metadata": {},
   "outputs": [],
   "source": [
    "class Student2(Student):\n",
    "    def rate_lecturer(self, lecturer, course, grade):\n",
    "        if course in self.courses_in_progress and course in lecturer.courses_attached:\n",
    "            if course in lecturer.grades:\n",
    "                lecturer.grades[course] += [grade]\n",
    "            else:\n",
    "                lecturer.grades[course] = [grade]\n",
    "        else:\n",
    "            return 'Ошибка'"
   ]
  },
  {
   "cell_type": "code",
   "execution_count": null,
   "metadata": {},
   "outputs": [],
   "source": [
    "\n",
    "best_student = Student2('Ruoy', 'Doy', 'мускулинный бисексуал гендер-флюид') # Американцы, что с них взять\n",
    "best_student.courses_in_progress += ['Python']\n",
    "\n",
    "cool_lecturer = Lecturer('Some', 'Buddy')\n",
    "cool_lecturer.courses_attached += ['Python']\n",
    "\n",
    "best_student.rate_lecturer(cool_lecturer, 'Python', 10)\n",
    "best_student.rate_lecturer(cool_lecturer, 'Python', 9)\n",
    "best_student.rate_lecturer(cool_lecturer, 'Python', 8)\n",
    "\n",
    "print(cool_lecturer.grades)"
   ]
  },
  {
   "attachments": {},
   "cell_type": "markdown",
   "metadata": {
    "ExecuteTime": {
     "end_time": "2023-04-22T05:06:16.235906Z",
     "start_time": "2023-04-22T05:06:16.224540Z"
    }
   },
   "source": [
    "## Задача 3\n",
    "\n",
    "Реализуйте возможность сравнивать (через операторы сравнения) между собой лекторов по средней оценке за лекции и студентов по средней оценке за домашние задания."
   ]
  },
  {
   "cell_type": "code",
   "execution_count": null,
   "metadata": {},
   "outputs": [],
   "source": [
    "class Lecturer2(Lecturer):\n",
    "    def __init__(self, name, surname):\n",
    "        super().__init__(name, surname)\n",
    "\n",
    "    def __str__(self):\n",
    "        return f\"{self.name} {self.surname}\"\n",
    "\n",
    "    def __lt__(self, other):\n",
    "        return self.get_avg_lecture_grade() < other.get_avg_lecture_grade()\n",
    "\n",
    "    def __eq__(self, other):\n",
    "        return self.get_avg_lecture_grade() == other.get_avg_lecture_grade()\n",
    "\n",
    "    def get_avg_lecture_grade(self):\n",
    "        total_grade = 0\n",
    "        count = 0\n",
    "        for grades in self.grades.values():\n",
    "            total_grade += sum(grades)\n",
    "            count += len(grades)\n",
    "        return total_grade / count if count != 0 else 0\n",
    "\n",
    "\n",
    "class Student3(Student2):\n",
    "\n",
    "    def __str__(self):\n",
    "        return f\"{self.name} {self.surname}\"\n",
    "\n",
    "    def __lt__(self, other):\n",
    "        return self.get_avg_hw_grade() < other.get_avg_hw_grade()\n",
    "\n",
    "    def __eq__(self, other):\n",
    "        return self.get_avg_hw_grade() == other.get_avg_hw_grade()\n",
    "\n",
    "    def get_avg_hw_grade(self):\n",
    "        total_grade = 0\n",
    "        count = 0\n",
    "        for grades in self.grades.values():\n",
    "            total_grade += sum(grades)\n",
    "            count += len(grades)\n",
    "        return total_grade / count if count != 0 else 0"
   ]
  },
  {
   "cell_type": "code",
   "execution_count": null,
   "metadata": {},
   "outputs": [],
   "source": [
    "# Создаем несколько объектов класса Lecturer\n",
    "lecturer1 = Lecturer2(\"Иван\", \"Петров\")\n",
    "lecturer1.courses_attached += ['Python']\n",
    "lecturer2 = Lecturer2(\"Петр\", \"Иванов\")\n",
    "lecturer2.courses_attached += ['Python']\n",
    "lecturer3 = Lecturer2(\"Сидор\", \"Сидоров\")\n",
    "lecturer3.courses_attached += ['Python']\n",
    "\n",
    "# Добавляем студента и выставляем оценки за лекции\n",
    "best_student = Student3('Ruoy', 'Doy', 'мускулинный бисексуал гендер-флюид')\n",
    "best_student.courses_in_progress += ['Python']\n",
    "best_student.rate_lecturer(lecturer1, 'Python', 6)\n",
    "best_student.rate_lecturer(lecturer2, 'Python', 7)\n",
    "best_student.rate_lecturer(lecturer3, 'Python', 8)\n",
    "\n",
    "best_student2 = Student3('Richard', 'Doy', 'Helicopter Apache')\n",
    "best_student2.courses_in_progress += ['Python']\n",
    "best_student2.rate_lecturer(lecturer1, 'Python', 9)\n",
    "best_student2.rate_lecturer(lecturer2, 'Python', 6)\n",
    "best_student2.rate_lecturer(lecturer3, 'Python', 10)\n",
    "\n",
    "print(lecturer1.get_avg_lecture_grade())\n",
    "print(lecturer2.get_avg_lecture_grade())\n",
    "print(lecturer3.get_avg_lecture_grade())\n",
    "\n",
    "# Выставляем оценки студентам\n",
    "\n",
    "lecturer1.rate_hw(best_student, 'Python', 8)\n",
    "lecturer2.rate_hw(best_student, 'Python', 5)\n",
    "lecturer3.rate_hw(best_student, 'Python', 10)\n",
    "\n",
    "lecturer1.rate_hw(best_student2, 'Python', 8)\n",
    "lecturer2.rate_hw(best_student2, 'Python', 4)\n",
    "lecturer3.rate_hw(best_student2, 'Python', 10)\n",
    "\n",
    "print(best_student.get_avg_hw_grade())\n",
    "print(best_student2.get_avg_hw_grade())"
   ]
  },
  {
   "attachments": {},
   "cell_type": "markdown",
   "metadata": {},
   "source": [
    "## Задача 4\n",
    "\n",
    "Напишите класс \"Формула\" для создания символьной записи формулы и её вычисления. Класс должен содержать атрибуты:\n",
    "\n",
    "- список операций производимых над переменной \"x\",\n",
    "- метод для вывода всех операторов и вывода определённого оператора по его номеру,\n",
    "- метод для составления формулы как строки скомпанованной из заданных операторов,\n",
    "- метод для изменения оператора,\n",
    "- метод для подстановки значения x и вычисления значения формулы (например, с помощью функции `eval()`)."
   ]
  },
  {
   "cell_type": "code",
   "execution_count": null,
   "metadata": {},
   "outputs": [],
   "source": [
    "class Formula:\n",
    "    def __init__(self):\n",
    "        self.operations = []\n",
    "        \n",
    "    def add_operation(self, operation):\n",
    "        self.operations.append(operation)\n",
    "        \n",
    "    def get_operations(self):\n",
    "        return self.operations\n",
    "        \n",
    "    def get_operation(self, i):\n",
    "        if i >= len(self.operations) or i < 0:\n",
    "            raise IndexError(\"Index out of range\")\n",
    "        return self.operations[i]\n",
    "        \n",
    "    def compose_formula(self):\n",
    "        return ''.join(self.operations)\n",
    "        \n",
    "    def set_operation(self, i, operation):\n",
    "        if i >= len(self.operations) or i < 0:\n",
    "            raise IndexError(\"Index out of range\")\n",
    "        self.operations[i] = operation\n",
    "    \n",
    "    def clear(self):\n",
    "        self.operations = []\n",
    "\n",
    "    def evaluate(self, x):\n",
    "        formula = self.compose_formula().replace(\"x\", str(x))\n",
    "        return eval(formula)"
   ]
  },
  {
   "cell_type": "code",
   "execution_count": null,
   "metadata": {},
   "outputs": [],
   "source": [
    "f = Formula()\n",
    "f.add_operation(\"x ** 2\")\n",
    "f.add_operation(\"+\")\n",
    "f.add_operation(\"10\")\n",
    "\n",
    "print(f.compose_formula()) \n",
    "\n",
    "f.set_operation(0, \"x * \")\n",
    "print(f.compose_formula()) \n",
    "\n",
    "print(f.evaluate(2)) "
   ]
  },
  {
   "cell_type": "markdown",
   "metadata": {},
   "source": [
    "Определите для объектов класса \"Формула\" алгебраические операции: +, -, *, /"
   ]
  },
  {
   "cell_type": "code",
   "execution_count": null,
   "metadata": {},
   "outputs": [],
   "source": [
    "class Formula2(Formula):\n",
    "    def __add__(self, other): # Надо было конструктор прикрутить, который бы хавал просто n-ое количество строк и соеденял бы просто, но что-то не сделал\n",
    "        result = Formula2()\n",
    "        result.add_operation(self.compose_formula() + \" + \" + other.compose_formula())\n",
    "        return result\n",
    "\n",
    "    def __sub__(self, other):\n",
    "        result = Formula2()\n",
    "        result.add_operation(self.compose_formula() + \" - \" + other.compose_formula())\n",
    "        return result\n",
    "\n",
    "    def __mul__(self, other):\n",
    "        result = Formula2()\n",
    "        result.add_operation(self.compose_formula() + \" * \" + other.compose_formula())\n",
    "        return result\n",
    "\n",
    "    def __truediv__(self, other):\n",
    "        result = Formula2()\n",
    "        result.add_operation(self.compose_formula() + \" / \" + other.compose_formula())\n",
    "        return result"
   ]
  },
  {
   "cell_type": "code",
   "execution_count": null,
   "metadata": {},
   "outputs": [],
   "source": [
    "f = Formula2()\n",
    "f.add_operation(\"x ** 2\")\n",
    "f2 = Formula2()\n",
    "f2.add_operation(\"10\")\n",
    "f3 = f + f2\n",
    "\n",
    "print(f3.compose_formula()) \n",
    "\n",
    "print(f3.evaluate(2)) "
   ]
  },
  {
   "attachments": {},
   "cell_type": "markdown",
   "metadata": {
    "ExecuteTime": {
     "end_time": "2022-03-25T17:24:27.934327Z",
     "start_time": "2022-03-25T17:24:27.906696Z"
    }
   },
   "source": [
    "## Задача 5\n",
    "\n",
    "Реализуйте класс `Matrix`. Он должен содержать:\n",
    "\n",
    "- Конструктор от списка списков. Гарантируется, что списки состоят из чисел, не пусты и имеют одинаковый размер. Конструктор должен копировать содержимое списка списков, т.е. при изменении списков, от которых была сконструирована матрица, содержимое матрицы изменяться не должно.\n",
    "- Метод `__str__()`, переводящий матрицу в строку. При этом элементы внутри одной строки должны быть разделены знаками табуляции, а строки — переносами строк. После каждой строки не должно быть символа табуляции и в конце не должно быть переноса строки.\n",
    "- Метод `size()` без аргументов, возвращающий кортеж вида `(<число строк>, <число столбцов>)`. \n",
    "- `__add__()`, принимающий вторую матрицу того же размера и возвращающий сумму матриц. В случае, если две матрицы сложить невозможно, должно выводиться сообщение об ошибке.\n",
    "- `__mul__()`, таким образом, чтобы матрицы можно было умножать на скаляры и на другие матрицы. В случае, если две матрицы перемножить невозможно, должно выводиться сообщение об ошибке.\n",
    "- `__rmul__()`, делающий то же самое, что и `__mul__()`. Этот метод будет вызван в том случае, когда аргумент находится справа. Для реализации этого метода в коде класса достаточно написать `__rmul__()` = `__mul__()`.\n",
    "- Статический метод `transposed`, принимающий `Matrix` и возвращающий транспонированную матрицу."
   ]
  },
  {
   "cell_type": "code",
   "execution_count": null,
   "metadata": {},
   "outputs": [],
   "source": [
    "class Matrix:\n",
    "    def __init__(self, lst):\n",
    "        self.matrix = [row.copy() for row in lst]\n",
    "        \n",
    "    def __str__(self):\n",
    "        return '\\n'.join(['\\t'.join([str(elem) for elem in row]) for row in self.matrix])\n",
    "        \n",
    "    def size(self):\n",
    "        return (len(self.matrix), len(self.matrix[0]))\n",
    "        \n",
    "    def __add__(self, other):\n",
    "        if self.size() != other.size():\n",
    "            raise Exception(\"Matrices must have the same size to be added.\")\n",
    "        result = [[self.matrix[i][j] + other.matrix[i][j] for j in range(len(self.matrix[0]))] for i in range(len(self.matrix))]\n",
    "        return Matrix(result)\n",
    "    \n",
    "    def __mul__(self, other):\n",
    "        if isinstance(other, int) or isinstance(other, float):\n",
    "            result = [[self.matrix[i][j] * other for j in range(len(self.matrix[0]))] for i in range(len(self.matrix))]\n",
    "        elif isinstance(other, Matrix):\n",
    "            if self.size()[1] != other.size()[0]:\n",
    "                raise Exception(\"Number of columns in the first matrix must match the number of rows in the second matrix.\")\n",
    "            transposed_other = Matrix.transposed(other) # чтобы было удобно работать с двумя строками\n",
    "            result = [[sum([self.matrix[i][k] * transposed_other.matrix[j][k] for k in range(self.size()[1])]) for j in range(other.size()[1])] for i in range(self.size()[0])] # топ-10 причин почему я не люблю питон\n",
    "        else:\n",
    "            raise Exception(\"Multiplication is only defined for scalars and matrices.\")\n",
    "        return Matrix(result)\n",
    "    \n",
    "    def __rmul__(self, other):\n",
    "        return self.__mul__(other)\n",
    "    \n",
    "    @staticmethod\n",
    "    def transposed(matrix):\n",
    "        return Matrix([[matrix.matrix[j][i] for j in range(matrix.size()[0])] for i in range(matrix.size()[1])])"
   ]
  },
  {
   "cell_type": "code",
   "execution_count": null,
   "metadata": {},
   "outputs": [],
   "source": [
    "m1 = Matrix([[1, 2], [3, 4]])\n",
    "m2 = Matrix([[2, 0], [1, 2]])\n",
    "print(m1 + m2)"
   ]
  },
  {
   "cell_type": "code",
   "execution_count": null,
   "metadata": {},
   "outputs": [],
   "source": [
    "print(m1 * 2)"
   ]
  },
  {
   "cell_type": "code",
   "execution_count": null,
   "metadata": {},
   "outputs": [],
   "source": [
    "m1 = Matrix([[1, 2, 3], [4, 5, 6]])\n",
    "m2 = Matrix([[1, 2], [3, 4]])\n",
    "print(m1 * m2)"
   ]
  }
 ],
 "metadata": {
  "kernelspec": {
   "display_name": "Python 3",
   "language": "python",
   "name": "python3"
  },
  "language_info": {
   "codemirror_mode": {
    "name": "ipython",
    "version": 3
   },
   "file_extension": ".py",
   "mimetype": "text/x-python",
   "name": "python",
   "nbconvert_exporter": "python",
   "pygments_lexer": "ipython3",
   "version": "3.9.13"
  }
 },
 "nbformat": 4,
 "nbformat_minor": 2
}

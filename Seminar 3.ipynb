{
 "cells": [
  {
   "cell_type": "markdown",
   "metadata": {},
   "source": [
    "# Строки"
   ]
  },
  {
   "cell_type": "markdown",
   "metadata": {},
   "source": [
    "В Python нет символьного типа, т. е. типа данных, объектами которого являются одиночные символы, также строки в Python относятся к категории неизменяемых последовательностей"
   ]
  },
  {
   "cell_type": "code",
   "execution_count": null,
   "metadata": {
    "ExecuteTime": {
     "end_time": "2023-03-02T02:08:24.965660Z",
     "start_time": "2023-03-02T02:08:24.951698Z"
    }
   },
   "outputs": [],
   "source": [
    "a=r'\\n 110'\n",
    "b='''fdfdfd\n",
    "fdf'''\n",
    "c=\"dfdfd\"\n",
    "a,b,c,type(a),type(b),type(c)"
   ]
  },
  {
   "cell_type": "markdown",
   "metadata": {
    "ExecuteTime": {
     "end_time": "2021-11-17T08:33:25.431229Z",
     "start_time": "2021-11-17T08:33:25.410139Z"
    }
   },
   "source": [
    "Экранированная последовательность\n",
    "- \\n\tПеревод строки\n",
    "- \\a\tЗвонок\n",
    "- \\b\tЗабой\n",
    "- \\f\tПеревод страницы\n",
    "- \\r\tВозврат каретки\n",
    "- \\t\tГоризонтальная табуляция\n",
    "- \\v\tВертикальная табуляция\n",
    "- \\N{id}\tИдентификатор ID базы данных Юникода\n",
    "- \\uhhhh\t16-битовый символ Юникода в 16-ричном представлении\n",
    "- \\Uhhhh…\t32-битовый символ Юникода в 32-ричном представлении\n",
    "- \\xhh\t16-ричное значение символа\n",
    "- \\ooo\t8-ричное значение символа\n",
    "- \\0\tСимвол Null (не является признаком конца строки)"
   ]
  },
  {
   "cell_type": "markdown",
   "metadata": {},
   "source": [
    "Если перед открывающей кавычкой стоит символ 'r' (в любом регистре)(сырая строка), то механизм экранирования отключается.\n",
    "Но сырая строка не может заканчиваться символом обратного слэша!"
   ]
  },
  {
   "cell_type": "code",
   "execution_count": null,
   "metadata": {
    "ExecuteTime": {
     "end_time": "2022-10-22T02:48:50.644676Z",
     "start_time": "2022-10-22T02:48:50.624914Z"
    }
   },
   "outputs": [],
   "source": [
    "S = r'C:\\file.txt' \n",
    "S "
   ]
  },
  {
   "cell_type": "code",
   "execution_count": null,
   "metadata": {
    "ExecuteTime": {
     "end_time": "2023-03-02T02:09:52.479925Z",
     "start_time": "2023-03-02T02:09:52.464963Z"
    }
   },
   "outputs": [],
   "source": [
    "S = r'\\n\\n'\n",
    "print(S)\n",
    "S = '\\n\\n'\n",
    "print(S)\n",
    "S = '\\\\n \\114 \\\\t \\t \\n 303'\n",
    "print(S)"
   ]
  },
  {
   "cell_type": "markdown",
   "metadata": {},
   "source": [
    "Конкатенация, дублирование, длинна строки, возвращение символа по индексу в строках реализуются следующим способом:"
   ]
  },
  {
   "cell_type": "code",
   "execution_count": null,
   "metadata": {
    "ExecuteTime": {
     "end_time": "2023-03-02T02:12:39.020864Z",
     "start_time": "2023-03-02T02:12:39.007898Z"
    }
   },
   "outputs": [],
   "source": [
    "a='строка1'\n",
    "b='строка2'\n",
    "print(a+b) #конкатенация\n",
    "print(a*3) #дублироавние\n",
    "print(len(a*3)) #длинна\n",
    "print(a[3])"
   ]
  },
  {
   "cell_type": "markdown",
   "metadata": {},
   "source": [
    "Можно использовать slice по индексам оператором извлечения среза [X:Y:step]"
   ]
  },
  {
   "cell_type": "code",
   "execution_count": null,
   "metadata": {
    "ExecuteTime": {
     "end_time": "2023-03-02T02:15:30.319520Z",
     "start_time": "2023-03-02T02:15:30.311534Z"
    }
   },
   "outputs": [],
   "source": [
    "print(a[3:]) #с 3го символа\n",
    "print(a[:]) #все символы\n",
    "print(a[:-2]) #без последних 2ух\n",
    "print(a[:-2:2]) #без последних 2ух с шагом 2\n",
    "print(a[:2:-1]) #без последних 2ух с шагом -1"
   ]
  },
  {
   "cell_type": "markdown",
   "metadata": {
    "ExecuteTime": {
     "end_time": "2021-11-20T02:22:36.392341Z",
     "start_time": "2021-11-20T02:22:36.378369Z"
    }
   },
   "source": [
    "Если вам нужно изменить строку, то ее придется создавать новую"
   ]
  },
  {
   "cell_type": "code",
   "execution_count": null,
   "metadata": {
    "ExecuteTime": {
     "end_time": "2023-03-02T02:15:54.401762Z",
     "start_time": "2023-03-02T02:15:54.311009Z"
    }
   },
   "outputs": [],
   "source": [
    "a[2]='2'"
   ]
  },
  {
   "cell_type": "markdown",
   "metadata": {
    "ExecuteTime": {
     "end_time": "2021-11-17T08:52:25.701484Z",
     "start_time": "2021-11-17T08:52:25.693506Z"
    }
   },
   "source": [
    " +---+---+---+---+---+---+\n",
    " | P | y | t | h | o | n |\n",
    " +---+---+---+---+---+---+\n",
    " 0   1   2   3   4   5   6\n",
    "-6  -5  -4  -3  -2  -1"
   ]
  },
  {
   "cell_type": "code",
   "execution_count": null,
   "metadata": {
    "ExecuteTime": {
     "end_time": "2023-03-02T02:18:01.999699Z",
     "start_time": "2023-03-02T02:18:01.990250Z"
    }
   },
   "outputs": [],
   "source": [
    "a='python python python'\n",
    "b = '1234'\n",
    "fnd = a.find('py',4) #поиск индекса подстроки\n",
    "rpl = a.replace('pyth', 'com') #замена подстроки\n",
    "part = a.partition(' ') #разделение на подстроки 1раз\n",
    "splt = a.rsplit(' ')  #разделение на подстроки полностью\n",
    "jj = b.join('sep')\n",
    "print(fnd,rpl,part,splt, jj)"
   ]
  },
  {
   "cell_type": "markdown",
   "metadata": {
    "ExecuteTime": {
     "end_time": "2021-11-17T08:55:21.073202Z",
     "start_time": "2021-11-17T08:55:21.056735Z"
    }
   },
   "source": [
    "Вообще у строк много методов, более подрбно тут https://docs.python.org/3/library/stdtypes.html#string-methods"
   ]
  },
  {
   "cell_type": "markdown",
   "metadata": {},
   "source": [
    "# Системы счисления"
   ]
  },
  {
   "cell_type": "markdown",
   "metadata": {},
   "source": [
    "Числа могут быть представлены не только в десятичной системе счисления, но и в других, например, 2оичной, 16ичной и т.п.\n",
    "Число 19 в двоичной системе счисления будет выглядеть как 10011 и комптютер работает именно с такой системой счисления\n",
    "Иногда нужно переводить числа из одной системы счисления в другую. Python для этого предоставляет несколько функций:\n",
    "\n",
    "- `int([object], [основание системы счисления])` - преобразование к целому числу в десятичной системе счисления. По умолчанию система счисления десятичная, но можно задать любое основание от 2 до 36 включительно.\n",
    "- `bin(x)` - преобразование целого числа в двоичную строку.\n",
    "- `hex(х)` - преобразование целого числа в шестнадцатеричную строку.\n",
    "- `oct(х)` - преобразование целого числа в восьмеричную строку."
   ]
  },
  {
   "cell_type": "markdown",
   "metadata": {},
   "source": [
    "вообще про СС можно посмотреть тут https://ru.wikibooks.org/wiki/%D0%A1%D0%B8%D1%81%D1%82%D0%B5%D0%BC%D1%8B_%D1%81%D1%87%D0%B8%D1%81%D0%BB%D0%B5%D0%BD%D0%B8%D1%8F"
   ]
  },
  {
   "cell_type": "code",
   "execution_count": null,
   "metadata": {
    "ExecuteTime": {
     "end_time": "2023-03-02T02:23:26.670572Z",
     "start_time": "2023-03-02T02:23:26.659609Z"
    }
   },
   "outputs": [],
   "source": [
    " bin(19),oct(19),hex(19),int('10011', 2)"
   ]
  },
  {
   "cell_type": "markdown",
   "metadata": {},
   "source": [
    "\n",
    "# Файлы"
   ]
  },
  {
   "cell_type": "markdown",
   "metadata": {},
   "source": [
    "## Открытие"
   ]
  },
  {
   "cell_type": "markdown",
   "metadata": {},
   "source": [
    "Прежде, чем работать с файлом, его надо открыть. С этим замечательно справится встроенная функция `open`:"
   ]
  },
  {
   "cell_type": "code",
   "execution_count": null,
   "metadata": {
    "ExecuteTime": {
     "end_time": "2022-10-22T03:12:56.467330Z",
     "start_time": "2022-10-22T03:12:56.450374Z"
    }
   },
   "outputs": [],
   "source": [
    "f = open('myfile.txt', 'r')"
   ]
  },
  {
   "cell_type": "markdown",
   "metadata": {},
   "source": [
    "- `'r'` - открытие на чтение (является значением по умолчанию).\n",
    "- `'w'` -\tоткрытие на запись, содержимое файла удаляется, если файла не существует, создается новый.\n",
    "- `'x'` -\tоткрытие на запись, если файла не существует, иначе исключение.\n",
    "- `'a'` -\tоткрытие на дозапись, информация добавляется в конец файла.\n",
    "- `'b'` -\tоткрытие в двоичном режиме.\n",
    "- `'t'` -\tоткрытие в текстовом режиме (является значением по умолчанию).\n",
    "- `'+'` -\tоткрытие на чтение и запись\n",
    "Режимы могут быть объединены, то есть, к примеру, `'rb'` - чтение в двоичном режиме. По умолчанию режим равен`'rt'`."
   ]
  },
  {
   "cell_type": "markdown",
   "metadata": {},
   "source": [
    "## Чтение"
   ]
  },
  {
   "cell_type": "markdown",
   "metadata": {},
   "source": [
    " 1) используя метод `read` - читает файл целиком, если был вызван без аргументов, и `n` символов, если был вызван с аргументом."
   ]
  },
  {
   "cell_type": "code",
   "execution_count": null,
   "metadata": {
    "ExecuteTime": {
     "end_time": "2023-03-02T02:28:40.753576Z",
     "start_time": "2023-03-02T02:28:40.744560Z"
    }
   },
   "outputs": [],
   "source": [
    "f = open('myfile.txt',encoding='utf')\n",
    "f.read(100)"
   ]
  },
  {
   "cell_type": "markdown",
   "metadata": {},
   "source": [
    "2) через цикл `for`"
   ]
  },
  {
   "cell_type": "code",
   "execution_count": null,
   "metadata": {
    "ExecuteTime": {
     "end_time": "2023-03-02T02:29:04.959724Z",
     "start_time": "2023-03-02T02:29:04.954711Z"
    }
   },
   "outputs": [],
   "source": [
    "f = open('myfile.txt',encoding='utf')\n",
    "for line in f:\n",
    "    print(line)"
   ]
  },
  {
   "cell_type": "markdown",
   "metadata": {},
   "source": [
    "# Запись"
   ]
  },
  {
   "cell_type": "code",
   "execution_count": null,
   "metadata": {
    "ExecuteTime": {
     "end_time": "2023-03-02T02:32:34.297392Z",
     "start_time": "2023-03-02T02:32:34.289411Z"
    }
   },
   "outputs": [],
   "source": [
    "l = [str(i)+str(i+1) for i in range(10)]\n",
    "l"
   ]
  },
  {
   "cell_type": "markdown",
   "metadata": {},
   "source": [
    "Откроем файл на запись:"
   ]
  },
  {
   "cell_type": "code",
   "execution_count": null,
   "metadata": {
    "ExecuteTime": {
     "end_time": "2023-03-02T02:34:11.379380Z",
     "start_time": "2023-03-02T02:34:11.375358Z"
    }
   },
   "outputs": [],
   "source": [
    "f = open('myfile.txt', 'w')\n",
    "for index in l:\n",
    "    f.write(index + '\\n')"
   ]
  },
  {
   "cell_type": "markdown",
   "metadata": {},
   "source": [
    "После окончания работы с файлом его **обязательно** нужно закрыть с помощью метода `close`:"
   ]
  },
  {
   "cell_type": "code",
   "execution_count": null,
   "metadata": {
    "ExecuteTime": {
     "end_time": "2023-03-02T02:34:19.860823Z",
     "start_time": "2023-03-02T02:34:19.855839Z"
    }
   },
   "outputs": [],
   "source": [
    "f.close()"
   ]
  },
  {
   "cell_type": "code",
   "execution_count": null,
   "metadata": {
    "ExecuteTime": {
     "end_time": "2021-11-20T02:52:07.117706Z",
     "start_time": "2021-11-20T02:52:07.113763Z"
    }
   },
   "outputs": [],
   "source": []
  },
  {
   "cell_type": "code",
   "execution_count": null,
   "metadata": {
    "ExecuteTime": {
     "end_time": "2022-10-22T03:20:52.268208Z",
     "start_time": "2022-10-22T03:20:52.240193Z"
    }
   },
   "outputs": [],
   "source": [
    "f = open('text.txt', 'r')"
   ]
  },
  {
   "cell_type": "markdown",
   "metadata": {},
   "source": [
    "Конструкция `with ... as` используется для оборачивания выполнения блока инструкций менеджером контекста."
   ]
  },
  {
   "cell_type": "code",
   "execution_count": null,
   "metadata": {
    "ExecuteTime": {
     "end_time": "2023-03-02T02:36:00.560444Z",
     "start_time": "2023-03-02T02:36:00.552464Z"
    }
   },
   "outputs": [],
   "source": [
    "with open(\"myfile.txt\", \"r\") as f:\n",
    "    text = f.read()\n",
    "print(text)"
   ]
  },
  {
   "cell_type": "code",
   "execution_count": null,
   "metadata": {
    "ExecuteTime": {
     "end_time": "2023-03-02T02:37:21.530204Z",
     "start_time": "2023-03-02T02:37:21.521253Z"
    }
   },
   "outputs": [],
   "source": [
    "with open(\"myfile.txt\", \"r\") as f:\n",
    "    first_part = f.read(3) #прочитали до 3 символа     \n",
    "    f.seek(10) # сдвиг курсора на 10\n",
    "    second_part = f.read(3) #прочитали еще 3 символа \n",
    "print(first_part,second_part)"
   ]
  },
  {
   "cell_type": "markdown",
   "metadata": {
    "ExecuteTime": {
     "end_time": "2021-11-18T09:01:44.520068Z",
     "start_time": "2021-11-18T09:01:44.514086Z"
    }
   },
   "source": [
    "### Запись в файл:"
   ]
  },
  {
   "cell_type": "code",
   "execution_count": null,
   "metadata": {
    "ExecuteTime": {
     "end_time": "2022-11-11T17:31:57.125779Z",
     "start_time": "2022-11-11T17:31:57.110818Z"
    }
   },
   "outputs": [],
   "source": [
    "with open(\"myfile.txt\", \"w\") as f:\n",
    "    f.write('fdfdfdfd')"
   ]
  },
  {
   "cell_type": "markdown",
   "metadata": {},
   "source": [
    "Функции `write()` и `writelines()` автоматически не ставят символ переноса строки, и это разработчику нужно контролировать самостоятельно."
   ]
  },
  {
   "cell_type": "markdown",
   "metadata": {},
   "source": [
    "Разница между ними?"
   ]
  },
  {
   "cell_type": "markdown",
   "metadata": {
    "ExecuteTime": {
     "end_time": "2022-11-11T17:25:05.993578Z",
     "start_time": "2022-11-11T17:25:05.983100Z"
    }
   },
   "source": [
    "Метод `write()` возвращает количество записанных символов."
   ]
  },
  {
   "cell_type": "markdown",
   "metadata": {},
   "source": [
    "`write()` записывает единичную строчку в файл, `writelines()` берет последовательность строчек, и добавляет их в низ файла"
   ]
  },
  {
   "cell_type": "markdown",
   "metadata": {
    "ExecuteTime": {
     "end_time": "2022-11-11T17:31:08.313726Z",
     "start_time": "2022-11-11T17:31:08.296254Z"
    }
   },
   "source": [
    "Допустим, у вас есть `.txt` файл с уже 10 строчками в нем. С помощью `.writelines()` вы бы добавили их вот так:\n"
   ]
  },
  {
   "cell_type": "code",
   "execution_count": null,
   "metadata": {
    "ExecuteTime": {
     "end_time": "2023-03-02T02:40:41.999756Z",
     "start_time": "2023-03-02T02:40:41.992794Z"
    }
   },
   "outputs": [],
   "source": [
    "f = open('text.txt', 'w')\n",
    "seq = [\"This is 11th line\\n\", \"This is 12th line\"]\n",
    "#Write sequence of lines at the end of the file.\n",
    "#f.seek(0, 2)\n",
    "line = f.writelines(seq)\n"
   ]
  },
  {
   "cell_type": "markdown",
   "metadata": {},
   "source": [
    "Если же у вас случай, вы просто хотели бы добавить 10 строчек в файл, с помощью `f.write()`, вы бы реализовали это вот так:\n"
   ]
  },
  {
   "cell_type": "code",
   "execution_count": null,
   "metadata": {
    "ExecuteTime": {
     "end_time": "2023-03-02T02:41:23.416230Z",
     "start_time": "2023-03-02T02:41:23.411247Z"
    }
   },
   "outputs": [],
   "source": [
    "for i in range(10):\n",
    "    f.write(\"This is line %d\\r\\n\" % (i+1))"
   ]
  },
  {
   "cell_type": "markdown",
   "metadata": {
    "ExecuteTime": {
     "end_time": "2021-11-18T09:10:17.402940Z",
     "start_time": "2021-11-18T09:10:17.382971Z"
    }
   },
   "source": [
    "Еще есть необычный способо записи в файл, через `print` как бы странно это не звучало"
   ]
  },
  {
   "cell_type": "code",
   "execution_count": null,
   "metadata": {
    "ExecuteTime": {
     "end_time": "2023-03-02T02:42:02.597281Z",
     "start_time": "2023-03-02T02:42:02.592295Z"
    }
   },
   "outputs": [],
   "source": [
    "print('Hello')"
   ]
  },
  {
   "cell_type": "code",
   "execution_count": null,
   "metadata": {
    "ExecuteTime": {
     "end_time": "2023-03-02T02:42:57.263523Z",
     "start_time": "2023-03-02T02:42:57.244583Z"
    }
   },
   "outputs": [],
   "source": [
    "with open(\"myfile.txt\", \"w\") as f:\n",
    "    print('dfdfsdfs', file=f)\n",
    "    \n",
    "with open(\"myfile.txt\", \"r\") as f:\n",
    "    text = f.read()\n",
    "print(text)"
   ]
  },
  {
   "cell_type": "markdown",
   "metadata": {},
   "source": [
    "Воообще с записью нужно быть аккуратнее, т.к. может работать не так как вы хотели"
   ]
  },
  {
   "cell_type": "code",
   "execution_count": null,
   "metadata": {
    "ExecuteTime": {
     "end_time": "2023-03-02T02:43:20.982557Z",
     "start_time": "2023-03-02T02:43:20.972663Z"
    }
   },
   "outputs": [],
   "source": [
    "with open(\"myfile.txt\", \"r\") as f:\n",
    "    text = f.read()\n",
    "print(text)"
   ]
  },
  {
   "cell_type": "code",
   "execution_count": null,
   "metadata": {
    "ExecuteTime": {
     "end_time": "2023-03-02T02:43:29.725008Z",
     "start_time": "2023-03-02T02:43:29.719630Z"
    }
   },
   "outputs": [],
   "source": [
    "with open('file.txt', 'w') as f:\n",
    "    f.write('abcd')\n",
    "with open(\"file.txt\", \"r\") as f:\n",
    "    text = f.read()\n",
    "print(text)    \n"
   ]
  },
  {
   "cell_type": "code",
   "execution_count": null,
   "metadata": {
    "ExecuteTime": {
     "end_time": "2023-03-02T02:44:26.690320Z",
     "start_time": "2023-03-02T02:44:26.677355Z"
    }
   },
   "outputs": [],
   "source": [
    "with open(\"file.txt\", \"r\") as f:\n",
    "    text = f.read()\n",
    "print(text)\n",
    "\n",
    "with open('file.txt', 'r+') as f:  # режим чтение +\n",
    "    print(f.read())  # выводит \"abcd\"\n",
    "    f.seek(0)        # идем курсором в начало файла\n",
    "    f.write('xyz')   # пишем xyz\n",
    "    f.seek(0)        # идем курсором в начало файла\n",
    "    print(f.read())  # и видим \"xyzd\", вместо \"xyzabcd\"!"
   ]
  },
  {
   "cell_type": "code",
   "execution_count": null,
   "metadata": {
    "ExecuteTime": {
     "end_time": "2023-03-02T02:48:56.487261Z",
     "start_time": "2023-03-02T02:48:56.471785Z"
    }
   },
   "outputs": [],
   "source": [
    "with open(\"file.txt\", \"r\") as f:\n",
    "    text = f.read()\n",
    "print(text)"
   ]
  },
  {
   "cell_type": "markdown",
   "metadata": {},
   "source": [
    "#### С использованием `'a'` - режима"
   ]
  },
  {
   "cell_type": "markdown",
   "metadata": {},
   "source": [
    "Если вам нужно добавить текст в конец файла, если он существует, вы можете открыть его в режиме добавления (`'a'`). Файл создается, если он не существует."
   ]
  },
  {
   "cell_type": "code",
   "execution_count": null,
   "metadata": {
    "ExecuteTime": {
     "end_time": "2023-03-02T02:47:31.535476Z",
     "start_time": "2023-03-02T02:47:31.525893Z"
    }
   },
   "outputs": [],
   "source": [
    "with open('file.txt', 'a') as f:\n",
    "    f.write('Hello, World end\\n')\n",
    " "
   ]
  },
  {
   "cell_type": "markdown",
   "metadata": {},
   "source": [
    "Поток всегда располагается в конце файла в `'a'` режим. Кроме того, если вам нужно прочитать текст из файла, используйте `'a+'` режим"
   ]
  },
  {
   "cell_type": "code",
   "execution_count": null,
   "metadata": {
    "ExecuteTime": {
     "end_time": "2023-03-02T02:47:42.945593Z",
     "start_time": "2023-03-02T02:47:42.930638Z"
    }
   },
   "outputs": [],
   "source": [
    "with open('file.txt', 'a+') as f:\n",
    "    f.write('Hello, World\\n')"
   ]
  },
  {
   "cell_type": "markdown",
   "metadata": {
    "ExecuteTime": {
     "end_time": "2022-11-11T16:57:40.938475Z",
     "start_time": "2022-11-11T16:57:40.927330Z"
    }
   },
   "source": [
    "#### С использованием `pathlib` модуля"
   ]
  },
  {
   "cell_type": "markdown",
   "metadata": {
    "ExecuteTime": {
     "end_time": "2022-11-11T16:58:33.511838Z",
     "start_time": "2022-11-11T16:58:33.505887Z"
    }
   },
   "source": [
    "Начиная с Python 3.4+ вы  можете использовать `pathlib`. `Path.write_text()` функция открывает файл в текстовом режиме, записывает в него данные и закрывает файл."
   ]
  },
  {
   "cell_type": "code",
   "execution_count": null,
   "metadata": {
    "ExecuteTime": {
     "end_time": "2023-03-02T02:48:46.170421Z",
     "start_time": "2023-03-02T02:48:46.161878Z"
    }
   },
   "outputs": [],
   "source": [
    "import pathlib\n",
    "pathlib.Path('file.txt').write_text('Hello, World\\n')\n",
    " "
   ]
  },
  {
   "cell_type": "markdown",
   "metadata": {},
   "source": [
    "#### C использованием `io` модуля"
   ]
  },
  {
   "cell_type": "markdown",
   "metadata": {},
   "source": [
    "Другим вариантом является использование `io.open()` функция, которая является псевдонимом для встроенной `open()` функция.\n",
    "\n"
   ]
  },
  {
   "cell_type": "code",
   "execution_count": null,
   "metadata": {
    "ExecuteTime": {
     "end_time": "2023-03-02T02:49:57.668327Z",
     "start_time": "2023-03-02T02:49:57.656355Z"
    }
   },
   "outputs": [],
   "source": [
    "import io\n",
    " \n",
    "with io.open(\"file.txt\", mode='w', encoding='utf-8') as f:\n",
    "    f.write('Hello, World\\n')\n",
    " "
   ]
  },
  {
   "cell_type": "markdown",
   "metadata": {},
   "source": [
    "# Исключения в python"
   ]
  },
  {
   "cell_type": "markdown",
   "metadata": {},
   "source": [
    "*Исключения (exceptions)* - тип данных в python. Исключения необходимы для того, чтобы сообщать разработчику об ошибках.\n",
    "\n",
    "Рассмотрим самый простейший пример исключения - деление на ноль:"
   ]
  },
  {
   "cell_type": "code",
   "execution_count": null,
   "metadata": {
    "ExecuteTime": {
     "end_time": "2023-03-02T02:50:51.938199Z",
     "start_time": "2023-03-02T02:50:51.908279Z"
    }
   },
   "outputs": [],
   "source": [
    "100 / 0"
   ]
  },
  {
   "cell_type": "code",
   "execution_count": null,
   "metadata": {
    "ExecuteTime": {
     "end_time": "2023-03-02T02:51:11.345863Z",
     "start_time": "2023-03-02T02:51:11.328909Z"
    }
   },
   "outputs": [],
   "source": [
    " 20 / '10'"
   ]
  },
  {
   "cell_type": "markdown",
   "metadata": {
    "ExecuteTime": {
     "end_time": "2021-11-18T09:29:54.173253Z",
     "start_time": "2021-11-18T09:29:54.160271Z"
    }
   },
   "source": [
    "актуальную информацию об exceptions можно получить тут https://docs.python.org/3/library/exceptions.html?highlight=baseexception#BaseException"
   ]
  },
  {
   "cell_type": "code",
   "execution_count": null,
   "metadata": {},
   "outputs": [],
   "source": []
  },
  {
   "cell_type": "markdown",
   "metadata": {
    "ExecuteTime": {
     "end_time": "2021-11-18T09:30:45.101773Z",
     "start_time": "2021-11-18T09:30:45.082726Z"
    }
   },
   "source": [
    "в питоне есть конструкция `try - except`, которая позволяет обрабатывать исключения возникающие во время исполнения кода"
   ]
  },
  {
   "cell_type": "code",
   "execution_count": null,
   "metadata": {
    "ExecuteTime": {
     "end_time": "2023-03-02T02:52:45.922932Z",
     "start_time": "2023-03-02T02:52:45.916982Z"
    }
   },
   "outputs": [],
   "source": [
    "try:\n",
    "     k = 1 / 0\n",
    "except ZeroDivisionError:\n",
    "     k = 0\n",
    "print(k)"
   ]
  },
  {
   "cell_type": "markdown",
   "metadata": {},
   "source": [
    "Также возможна инструкция except без аргументов, которая перехватывает вообще всё (и прерывание с клавиатуры, и системный выход и т. д.). Поэтому в такой форме инструкция except практически не используется, а используется except `Exception`. Однако чаще всего перехватывают исключения по одному, для упрощения отладки (вдруг вы ещё другую ошибку сделаете, а except её перехватит)."
   ]
  },
  {
   "cell_type": "code",
   "execution_count": null,
   "metadata": {
    "ExecuteTime": {
     "end_time": "2023-03-02T02:54:10.808819Z",
     "start_time": "2023-03-02T02:54:10.795823Z"
    }
   },
   "outputs": [],
   "source": [
    "dd=[1,34,5,3]\n",
    "dd[10]"
   ]
  },
  {
   "cell_type": "code",
   "execution_count": null,
   "metadata": {
    "ExecuteTime": {
     "end_time": "2023-03-02T02:55:05.864614Z",
     "start_time": "2023-03-02T02:55:05.855637Z"
    }
   },
   "outputs": [],
   "source": [
    "dd=[1,34,5,3]\n",
    "try:\n",
    "     k = dd[10]/0\n",
    "except:\n",
    "     k = 0\n",
    "print(k)"
   ]
  },
  {
   "cell_type": "code",
   "execution_count": null,
   "metadata": {
    "ExecuteTime": {
     "end_time": "2023-03-02T02:56:37.661219Z",
     "start_time": "2023-03-02T02:56:37.643267Z"
    }
   },
   "outputs": [],
   "source": [
    "f = open('myfile.txt')\n",
    "ints = []\n",
    "try:\n",
    "    for line in f:\n",
    "        ints.append((line))\n",
    "except ValueError:\n",
    "    ints.append(0)\n",
    "    print('Это не число. Выходим.')\n",
    "except Exception:\n",
    "    print('Это что ещё такое?')\n",
    "else:\n",
    "    print('Всё хорошо.')\n",
    "finally:\n",
    "    f.close()\n",
    "    print('Я закрыл файл.')\n",
    "# Именно в таком порядке: try, группа except, затем else, и только потом finally."
   ]
  },
  {
   "cell_type": "code",
   "execution_count": null,
   "metadata": {
    "ExecuteTime": {
     "end_time": "2023-03-02T02:57:09.458915Z",
     "start_time": "2023-03-02T02:57:09.448935Z"
    }
   },
   "outputs": [],
   "source": [
    "with open(\"myfile.txt\", \"r\") as f:\n",
    "    text = f.read()\n",
    "print(text)"
   ]
  },
  {
   "cell_type": "markdown",
   "metadata": {},
   "source": [
    "Ещё две инструкции, относящиеся к нашей проблеме, это `finally` и `else`. `Finally` выполняет блок инструкций в любом случае, было ли исключение, или нет (применима, когда нужно непременно что-то сделать, к примеру, закрыть файл). Инструкция `else` выполняется в том случае, если исключения не было."
   ]
  },
  {
   "cell_type": "code",
   "execution_count": null,
   "metadata": {
    "ExecuteTime": {
     "end_time": "2022-10-22T03:43:47.997640Z",
     "start_time": "2022-10-22T03:43:47.985156Z"
    }
   },
   "outputs": [],
   "source": [
    "ints"
   ]
  },
  {
   "cell_type": "markdown",
   "metadata": {},
   "source": [
    "Инструкция `raise` позволяет принудительно вызвать указанное исключение\n"
   ]
  },
  {
   "cell_type": "code",
   "execution_count": null,
   "metadata": {
    "ExecuteTime": {
     "end_time": "2022-10-22T03:44:29.957364Z",
     "start_time": "2022-10-22T03:44:29.933433Z"
    }
   },
   "outputs": [],
   "source": [
    "raise NameError('ошибка')"
   ]
  },
  {
   "cell_type": "markdown",
   "metadata": {},
   "source": [
    "В общем случае инструкция `raise` повторно вызывает последнее исключение, которое было активным в текущей области видимости. Если нужно определить, было ли вызвано исключение, но не обрабатывать его, более простая форма инструкции `raise` позволяет повторно вызвать исключение:"
   ]
  },
  {
   "cell_type": "code",
   "execution_count": null,
   "metadata": {
    "ExecuteTime": {
     "end_time": "2023-03-02T02:59:01.730590Z",
     "start_time": "2023-03-02T02:59:01.718623Z"
    }
   },
   "outputs": [],
   "source": [
    "try:\n",
    "    raise NameError('ошибка')\n",
    "except NameError:\n",
    "    print('бум')\n",
    "    #raise"
   ]
  },
  {
   "cell_type": "markdown",
   "metadata": {},
   "source": [
    "## Assert-ы"
   ]
  },
  {
   "cell_type": "markdown",
   "metadata": {},
   "source": [
    "Если нужно симулировать или выполнить отладку кода, чтобы узнать, что именно происходит на определенном этапе, то «утверждения» в Python отлично для этого подходят.\n",
    "\n",
    "Именно инструмент отладки останавливает программу, как только возникает какая-то ошибка. Он также показывает, где именно она произошла.\n",
    "\n",
    "Инструкция `assert` принимает выражение и необязательное сообщение и используется для:\n",
    "- проверки типов\n",
    "- значений аргумента\n",
    "- вывода функции\n",
    "- отладки, т.к. приостанавливает программу в случае ошибки.\n"
   ]
  },
  {
   "cell_type": "markdown",
   "metadata": {},
   "source": [
    "Если выражение в утверждении `assert`  истинно, то ничего не происходит"
   ]
  },
  {
   "cell_type": "code",
   "execution_count": null,
   "metadata": {
    "ExecuteTime": {
     "end_time": "2023-03-02T03:00:33.038024Z",
     "start_time": "2023-03-02T03:00:33.023065Z"
    }
   },
   "outputs": [],
   "source": [
    "assert 3 = 10"
   ]
  },
  {
   "cell_type": "markdown",
   "metadata": {},
   "source": [
    "`assert` поднимает исключение `AssertionError` если проверяемое выражение не выпоняется"
   ]
  },
  {
   "cell_type": "code",
   "execution_count": null,
   "metadata": {
    "ExecuteTime": {
     "end_time": "2023-03-02T03:02:02.866873Z",
     "start_time": "2023-03-02T03:02:02.850534Z"
    }
   },
   "outputs": [],
   "source": [
    "assert 20 <= 5"
   ]
  },
  {
   "cell_type": "markdown",
   "metadata": {},
   "source": [
    "Чтобы было более понятно, можно добавлять описание сл образом `assert expression, message`"
   ]
  },
  {
   "cell_type": "code",
   "execution_count": null,
   "metadata": {
    "ExecuteTime": {
     "end_time": "2023-03-02T03:01:44.340357Z",
     "start_time": "2023-03-02T03:01:44.327425Z"
    }
   },
   "outputs": [],
   "source": [
    "assert 2 + 2 == 5, \"Houston we've got a problem\""
   ]
  },
  {
   "cell_type": "markdown",
   "metadata": {},
   "source": [
    "# Задачи:"
   ]
  },
  {
   "cell_type": "markdown",
   "metadata": {},
   "source": [
    "0) Напишите программу, которая:\n",
    "\n",
    "- принимает на вход строку\n",
    "- заменяет все цифры случаными значениями"
   ]
  },
  {
   "cell_type": "code",
   "execution_count": null,
   "metadata": {},
   "outputs": [],
   "source": [
    "import random\n",
    "\n",
    "def replace_digits_with_random(string):\n",
    "    result = \"\"\n",
    "    for char in string:\n",
    "        if char.isdigit():\n",
    "            result += str(random.randint(0, 9))\n",
    "        else:\n",
    "            result += char\n",
    "    return result\n",
    "\n",
    "input_str = input()\n",
    "print(replace_digits_with_random(input_str))"
   ]
  },
  {
   "attachments": {},
   "cell_type": "markdown",
   "metadata": {},
   "source": [
    "1) Напишите программу, которая:\n",
    "- принимает на вход строку\n",
    "- проверяет, является ли строка палиндромом"
   ]
  },
  {
   "cell_type": "code",
   "execution_count": null,
   "metadata": {},
   "outputs": [],
   "source": [
    "def is_palindrome(input):\n",
    "    temp = ''.join(filter(str.isalnum, input.lower()))\n",
    "    return temp == temp[::-1]\n",
    "\n",
    "input_str = input()\n",
    "print(is_palindrome(input_str))"
   ]
  },
  {
   "cell_type": "markdown",
   "metadata": {},
   "source": [
    "2) Напишите программу, которая:\n",
    "- принимает на вход 2 строки\n",
    "- проверяет, можно ли из слов 1ой строки получить вторую и наоборот"
   ]
  },
  {
   "cell_type": "code",
   "execution_count": null,
   "metadata": {},
   "outputs": [],
   "source": [
    "def check_word_matching(line1, line2):\n",
    "    words1 = line1.split()\n",
    "    words2 = line2.split()\n",
    "    if(len(words1) != len(words2)):\n",
    "        return False\n",
    "    for word in words2:\n",
    "        if word not in words1:\n",
    "            return False\n",
    "    for word in words1:\n",
    "        if word not in words2:\n",
    "            return False\n",
    "        \n",
    "    return True\n",
    "\n",
    "input_str1 = input()\n",
    "input_str2 = input()\n",
    "print(check_word_matching(input_str1, input_str2))"
   ]
  },
  {
   "cell_type": "markdown",
   "metadata": {},
   "source": [
    "3) Напишите программу, которая:\n",
    "- принимает на вход 2 строки\n",
    "- проверяет, можно ли из символов 1ой строки получить вторую и наоборот"
   ]
  },
  {
   "cell_type": "code",
   "execution_count": null,
   "metadata": {},
   "outputs": [],
   "source": [
    "def check_character_matching(line1, line2):\n",
    "    chars1 = list(line1)\n",
    "    chars2 = list(line2)\n",
    "    if(len(chars1) != len(chars2)):\n",
    "        return False\n",
    "    for char in chars2:\n",
    "        if char not in chars1:\n",
    "            return False\n",
    "\n",
    "    for char in chars1:\n",
    "        if char not in chars2:\n",
    "            return False\n",
    "\n",
    "    return True\n",
    "\n",
    "input_str1 = input()\n",
    "input_str2 = input()\n",
    "print(check_character_matching(input_str1, input_str2))"
   ]
  },
  {
   "cell_type": "markdown",
   "metadata": {},
   "source": [
    "4) Напишите программу, которая:\n",
    "- открывает текстовый файл\n",
    "- ищет слово максимальной длины в этом файле и его длину (или список слов\\строк, если таковых несколько)\n",
    "- сохраняет эти значения в другом текстовом файле (если его нет, то создает)"
   ]
  },
  {
   "cell_type": "code",
   "execution_count": null,
   "metadata": {},
   "outputs": [],
   "source": [
    "def find_longest_words(input_file_name, output_file_name = 'output.txt', splitter = ' '):\n",
    "    with open(input_file_name, 'r') as input_file:\n",
    "        text = input_file.read()\n",
    "        words = text.split(splitter)\n",
    "        max_length = max(len(word) for word in words)\n",
    "        longest_words = [word for word in words if len(word) == max_length]\n",
    "\n",
    "    with open(output_file_name, 'w') as output_file:\n",
    "        output_file.write(f\"Longest word(s) of length {max_length}: \")\n",
    "        output_file.write(', '.join(longest_words))\n",
    "\n",
    "    return max_length, longest_words\n",
    "\n",
    "# test case\n",
    "file_path = 'input.txt'\n",
    "output_path = 'output.txt'\n",
    "file = open(file_path, 'w')\n",
    "file.write(\"world, load, moment, mentom\")\n",
    "file.close()\n",
    "result = find_longest_words(file_path, output_path, ', ')\n",
    "\n",
    "print(result)\n",
    "import os\n",
    "\n",
    "if os.path.exists(file_path):\n",
    "    os.remove(file_path)\n",
    "\n",
    "if os.path.exists(output_path):\n",
    "    os.remove(output_path)\n",
    "\n",
    "# End of test case"
   ]
  },
  {
   "cell_type": "markdown",
   "metadata": {
    "ExecuteTime": {
     "end_time": "2021-11-19T06:43:02.234707Z",
     "start_time": "2021-11-19T06:43:02.226725Z"
    }
   },
   "source": [
    "5) Напишите программу, которая:\n",
    "- запрашивает ввод трех значений\n",
    "- если хотя бы одно из них не является числом, то должна выполняться конкатенация этих значений\n",
    "- иначе происходит их произведение\n",
    "- не используя `if`"
   ]
  },
  {
   "cell_type": "code",
   "execution_count": null,
   "metadata": {},
   "outputs": [],
   "source": [
    "def create_or_concatenate(a, b, c):\n",
    "    try:\n",
    "        a = float(a)\n",
    "        b = float(b)\n",
    "        c = float(c)\n",
    "    except ValueError:\n",
    "        return str(a) + str(b) + str(c)\n",
    "    return a * b * c\n",
    "\n",
    "input_1 = input()\n",
    "input_2 = input()\n",
    "input_3 = input()\n",
    "print(create_or_concatenate(input_1, input_2, input_3))"
   ]
  },
  {
   "attachments": {},
   "cell_type": "markdown",
   "metadata": {
    "ExecuteTime": {
     "end_time": "2021-11-19T06:45:48.569858Z",
     "start_time": "2021-11-19T06:45:48.551904Z"
    }
   },
   "source": [
    "6) Напишите программу, которая:\n",
    "- принимает на вход строку\n",
    "- выводит ту же строку в том регистре, символов в котором больше(заглавные\\прописные)\n",
    "- при равном количестве выводить утверждение  \"Houston we've got a problem\"\n",
    "- не используя `if`"
   ]
  },
  {
   "cell_type": "code",
   "execution_count": null,
   "metadata": {},
   "outputs": [],
   "source": [
    "input_str = input()\n",
    "\n",
    "num_uppercase = sum(map(lambda c: c.isupper(), input_str))\n",
    "num_lowercase = len(input_str) - num_uppercase\n",
    "\n",
    "houston_str = \"Houston we've got a problem\"\n",
    "\n",
    "func_list = [lambda s: s.lower(), lambda s: s.upper(), lambda s: houston_str]\n",
    "output_list = [input_str.lower(), input_str.upper(), houston_str]\n",
    "\n",
    "index = int(num_uppercase >= num_lowercase) + int(num_uppercase == num_lowercase)\n",
    "output_string = output_list[index]\n",
    "output_string = func_list[index](input_str)\n",
    "\n",
    "print(output_string)"
   ]
  },
  {
   "cell_type": "markdown",
   "metadata": {},
   "source": [
    "7) Напишите программу, которая: \n",
    "- запрашивает ввод 3 целых числа\n",
    "- выводит их сумму, но при некорректном вводе программа не должна завершаться с ошибкой, а должна продолжать запрашивать ввод\n",
    "- 2 варианта, где обработчик исключений `try-except` использовать (нельзя\\можно)"
   ]
  },
  {
   "cell_type": "code",
   "execution_count": null,
   "metadata": {},
   "outputs": [],
   "source": [
    "while True:\n",
    "    a = input()\n",
    "    b = input()\n",
    "    c = input()\n",
    "    if a.isdigit() and b.isdigit() and c.isdigit():\n",
    "        break\n",
    "    else:\n",
    "        print(\"Invalid input. Please enter integers only.\")\n",
    "\n",
    "a = int(a)\n",
    "b = int(b)\n",
    "c = int(c)\n",
    "print(f\"The sum of {a}, {b}, and {c} is {a + b + c}.\")"
   ]
  },
  {
   "cell_type": "code",
   "execution_count": null,
   "metadata": {},
   "outputs": [],
   "source": [
    "while True:\n",
    "    try:\n",
    "        a = int(input())\n",
    "        b = int(input())\n",
    "        c = int(input())\n",
    "        break\n",
    "    except ValueError:\n",
    "        print(\"Invalid input. Please enter integers only.\")\n",
    "\n",
    "print(f\"The sum of {a}, {b}, and {c} is {a + b + c}.\")"
   ]
  },
  {
   "cell_type": "markdown",
   "metadata": {
    "ExecuteTime": {
     "end_time": "2021-11-19T07:16:40.976000Z",
     "start_time": "2021-11-19T07:16:40.946053Z"
    }
   },
   "source": [
    "8) Напишите программу, которая:\n",
    "\n",
    "- реализует игру в города (вводим строки, пока первый символ новой строки = последнему старой(без учета регистра))"
   ]
  },
  {
   "cell_type": "code",
   "execution_count": null,
   "metadata": {},
   "outputs": [],
   "source": [
    "previous_city = input().strip().lower()\n",
    "used_cities = [previous_city]\n",
    "\n",
    "while True:\n",
    "    print(f\"Previous city is {previous_city}\")\n",
    "    print(f\"Enter a city that starts with letter '{previous_city[-1].upper()}':\")\n",
    "    current_city = input().strip().lower()\n",
    "    if current_city[0] != previous_city[-1] or current_city in used_cities:\n",
    "        print(\"Game over!\")\n",
    "        break\n",
    "    used_cities.append(current_city)\n",
    "    previous_city = current_city"
   ]
  }
 ],
 "metadata": {
  "kernelspec": {
   "display_name": "Python 3",
   "language": "python",
   "name": "python3"
  },
  "language_info": {
   "codemirror_mode": {
    "name": "ipython",
    "version": 3
   },
   "file_extension": ".py",
   "mimetype": "text/x-python",
   "name": "python",
   "nbconvert_exporter": "python",
   "pygments_lexer": "ipython3",
   "version": "3.8.10"
  },
  "vscode": {
   "interpreter": {
    "hash": "f5ff168696553f3e2cb115c273c46eeb315c32b0d0536992c4bad2740a7f9469"
   }
  }
 },
 "nbformat": 4,
 "nbformat_minor": 2
}

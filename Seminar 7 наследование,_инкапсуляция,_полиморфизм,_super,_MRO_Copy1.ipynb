{
 "cells": [
  {
   "cell_type": "markdown",
   "metadata": {
    "ExecuteTime": {
     "end_time": "2022-02-22T06:43:11.357168Z",
     "start_time": "2022-02-22T06:43:11.326261Z"
    }
   },
   "source": [
    "Освежим и дополним знания по классам и объектам в `Python` (см. прошлый семинар)"
   ]
  },
  {
   "cell_type": "markdown",
   "metadata": {
    "ExecuteTime": {
     "end_time": "2022-02-22T06:41:01.063494Z",
     "start_time": "2022-02-22T06:41:01.048471Z"
    }
   },
   "source": [
    "## Классы в Python\n",
    "\n",
    "В Python можно создавать собственные классы. Названия им дают в `CamelCase` формате.\n",
    "\n",
    "Синтаксис простого класса:\n",
    "```python\n",
    "class ClassName:\n",
    "    pass\n",
    "```\n",
    "\n",
    "Вместо `pass` можно писать блок кода, который будет относится к пространству имён класса, аналогично как и в функциях."
   ]
  },
  {
   "cell_type": "code",
   "execution_count": 1,
   "metadata": {
    "ExecuteTime": {
     "end_time": "2023-04-20T02:10:10.042973Z",
     "start_time": "2023-04-20T02:10:10.021061Z"
    }
   },
   "outputs": [
    {
     "name": "stdout",
     "output_type": "stream",
     "text": [
      "Экземпляр нашего класса:\n",
      " <__main__.Dog object at 0x000001D781B49A90>\n",
      "\n",
      "Много экземпляров:\n",
      " [<__main__.Cat object at 0x000001D781B064C0>, <__main__.Cat object at 0x000001D781B499A0>, <__main__.Cat object at 0x000001D781B49A60>, <__main__.Cat object at 0x000001D781B495B0>, <__main__.Cat object at 0x000001D781B49A30>]\n",
      "\n"
     ]
    }
   ],
   "source": [
    "class Cat:\n",
    "    \"\"\"Документацию к классам можно писать как к функциям\"\"\"\n",
    "    pass\n",
    "\n",
    "class Dog:\n",
    "    \"\"\"Класс, описывающий собаку\"\"\"\n",
    "    pass\n",
    "\n",
    "# Можем создать экземпляр нашего класса с помощью \"вызова\" класса\n",
    "c = Dog()\n",
    "print('Экземпляр нашего класса:\\n', c, end='\\n\\n')\n",
    "\n",
    "# Можем создавать их много\n",
    "a = []\n",
    "for i in range(5):\n",
    "    curr_c = Cat()\n",
    "    a.append(curr_c)\n",
    "    \n",
    "print('Много экземпляров:\\n', a, end='\\n\\n')\n",
    "\n"
   ]
  },
  {
   "cell_type": "markdown",
   "metadata": {},
   "source": [
    "C помощью `dir` вывести методы экземпляра нашего \"пустого\" класса.\n",
    "`dir` возвращает имена переменных, доступные в локальной области, либо атрибуты указанного объекта в алфавитном порядке"
   ]
  },
  {
   "cell_type": "code",
   "execution_count": 2,
   "metadata": {
    "ExecuteTime": {
     "end_time": "2023-04-20T02:11:39.530273Z",
     "start_time": "2023-04-20T02:11:39.518326Z"
    }
   },
   "outputs": [
    {
     "name": "stdout",
     "output_type": "stream",
     "text": [
      "Методы экземпляра класса:\n",
      " ['__class__', '__delattr__', '__dict__', '__dir__', '__doc__', '__eq__', '__format__', '__ge__', '__getattribute__', '__gt__', '__hash__', '__init__', '__init_subclass__', '__le__', '__lt__', '__module__', '__ne__', '__new__', '__reduce__', '__reduce_ex__', '__repr__', '__setattr__', '__sizeof__', '__str__', '__subclasshook__', '__weakref__']\n",
      "\n"
     ]
    }
   ],
   "source": [
    "print('Методы экземпляра класса:\\n', dir(c), end='\\n\\n')"
   ]
  },
  {
   "cell_type": "markdown",
   "metadata": {
    "ExecuteTime": {
     "end_time": "2022-02-22T06:50:51.820997Z",
     "start_time": "2022-02-22T06:50:51.808922Z"
    }
   },
   "source": [
    "## Классы и экземпляры\n",
    "\n",
    "Чтобы определять данные класса используют \"магический\" метод `__init__`.\n",
    "\n",
    "Первым обязательным аргументом он принимает `self` — ссылку на созданный экземпляр класса. Следующие аргументы выбираем мы сами по необходимости — добавим аргумент `name`.\n",
    "\n",
    "Далее в `self`, т.е. в наш текущий экземпляр, сохраним заданное имя. Другими словами, мы задаём атрибут `name`."
   ]
  },
  {
   "cell_type": "code",
   "execution_count": null,
   "metadata": {
    "ExecuteTime": {
     "end_time": "2023-04-20T02:14:11.274714Z",
     "start_time": "2023-04-20T02:14:11.267733Z"
    }
   },
   "outputs": [],
   "source": [
    "class Cat:\n",
    "    def __init__(self, name):\n",
    "        self.name = name\n",
    "\n",
    "cat = Cat('Пушок')\n",
    "print(cat)\n",
    "print(cat.name)"
   ]
  },
  {
   "cell_type": "markdown",
   "metadata": {},
   "source": [
    "Заметим, что помимо `__init__` есть множество \"магических\" методов в `Python`. Например,  помощью `__str__` можно изменить вывод `print`.\n",
    "Необходимость в них у вас будет появляться с углублением в язык. Подробнее почитать можно, например, [тут](https://pythonworld.ru/osnovy/peregruzka-operatorov.html)."
   ]
  },
  {
   "cell_type": "code",
   "execution_count": null,
   "metadata": {
    "ExecuteTime": {
     "end_time": "2023-04-20T02:15:33.073447Z",
     "start_time": "2023-04-20T02:15:33.065468Z"
    }
   },
   "outputs": [],
   "source": [
    "class Cat:\n",
    "    def __init__(self, name):\n",
    "        self.name = name\n",
    "    \n",
    "    # Вызывается при методе str(cat), который используется внутри print\n",
    "    def __str__(self):\n",
    "        return self.name+' - любимый котик'\n",
    "\n",
    "cat = Cat('Пушок')\n",
    "print(cat)\n",
    "print(cat.name)"
   ]
  },
  {
   "cell_type": "markdown",
   "metadata": {
    "ExecuteTime": {
     "end_time": "2022-02-22T06:59:02.038959Z",
     "start_time": "2022-02-22T06:59:01.973800Z"
    }
   },
   "source": [
    "## Общие данные для класса\n",
    "\n",
    "Так же можно использовать общие внутри одного класса данные для всех его экземпляров.\n",
    "\n",
    "Давайте считать количество созданных котиков."
   ]
  },
  {
   "cell_type": "code",
   "execution_count": 6,
   "metadata": {
    "ExecuteTime": {
     "end_time": "2023-04-20T02:22:48.047684Z",
     "start_time": "2023-04-20T02:22:48.035711Z"
    }
   },
   "outputs": [],
   "source": [
    "class Cat:\n",
    "    count = 0 #cчетчик экземпляров\n",
    "    \n",
    "    def __init__(self, name, owner=None): # метод конструктор \n",
    "        self.name = name\n",
    "        self.owner = owner or 'без хозяина'\n",
    "        Cat.count += 1 #счетчик увеличиваем при создании котика\n",
    "        \n",
    "    def __str__(self):  # меняем поведение принта \n",
    "        return f'Cat(имя: {self.name}, хозяин: {self.owner})'\n",
    "    \n",
    "    def __del__(self): # удаление объекта\n",
    "        print('RIP:', self.name) \n",
    "        Cat.count -= 1  # счетчик уменьшается при потере котика :(\n",
    "\n",
    "        \n",
    "# создаем котят\n",
    "a = Cat('Пушок') \n",
    "b = Cat('Барсик', 'Дарья')\n",
    "c = Cat(name='Леопольд', owner='Алексей')\n",
    "\n"
   ]
  },
  {
   "cell_type": "code",
   "execution_count": 3,
   "metadata": {
    "ExecuteTime": {
     "end_time": "2023-04-20T02:27:54.865851Z",
     "start_time": "2023-04-20T02:27:54.828182Z"
    }
   },
   "outputs": [
    {
     "name": "stdout",
     "output_type": "stream",
     "text": [
      "0 0\n",
      "1\n",
      "1\n",
      "2\n",
      "1\n"
     ]
    },
    {
     "data": {
      "text/plain": [
       "0"
      ]
     },
     "execution_count": 3,
     "metadata": {},
     "output_type": "execute_result"
    }
   ],
   "source": [
    "class Сounter:\n",
    "    value = 0\n",
    "    \n",
    "    def __init__(self):\n",
    "        self.local_value = 0\n",
    "    \n",
    "    def inc(self):\n",
    "        Сounter.value += 1\n",
    "        print(self.value)\n",
    "        self.local_value += 1\n",
    "        print(self.local_value)\n",
    "\n",
    "counter1 = Сounter() \n",
    "print(counter1.value,counter1.local_value)\n",
    "counter1.inc()\n",
    "counter2 = Сounter()\n",
    "counter2.inc()\n",
    "counter3 = Сounter()\n",
    "counter3.local_value"
   ]
  },
  {
   "cell_type": "code",
   "execution_count": 4,
   "metadata": {
    "ExecuteTime": {
     "end_time": "2023-03-30T03:29:56.795279Z",
     "start_time": "2023-03-30T03:29:56.779655Z"
    }
   },
   "outputs": [
    {
     "data": {
      "text/plain": [
       "{'local_value': 0}"
      ]
     },
     "execution_count": 4,
     "metadata": {},
     "output_type": "execute_result"
    }
   ],
   "source": [
    "counter1 = Сounter()\n",
    "counter1.__dict__"
   ]
  },
  {
   "cell_type": "markdown",
   "metadata": {},
   "source": [
    "Можно вызвать кол-во и не от класса, а от экзепляра, но тогда интерпретатор проверяет, что у него нет такого атрибута, и берет от класса"
   ]
  },
  {
   "cell_type": "code",
   "execution_count": 7,
   "metadata": {
    "ExecuteTime": {
     "end_time": "2022-02-26T02:24:40.052944Z",
     "start_time": "2022-02-26T02:24:40.046958Z"
    }
   },
   "outputs": [
    {
     "name": "stdout",
     "output_type": "stream",
     "text": [
      "Количество: 3\n",
      "Количество через экземпляр: 3\n"
     ]
    }
   ],
   "source": [
    "print('Количество:', Cat.count)\n",
    "print('Количество через экземпляр:', b.count)"
   ]
  },
  {
   "cell_type": "markdown",
   "metadata": {},
   "source": [
    "Объекты можно удалять через `del`, тогда предварительно вызывается `__del__`\n",
    "При этом нет гарантии, что он вызовется по завершении работы интерпретатора, поэтому лучше явно закрывать файлы, соединения и проч"
   ]
  },
  {
   "cell_type": "code",
   "execution_count": null,
   "metadata": {
    "ExecuteTime": {
     "end_time": "2023-04-20T02:23:15.326039Z",
     "start_time": "2023-04-20T02:23:15.319828Z"
    }
   },
   "outputs": [],
   "source": [
    "del a\n",
    "print('Количество:', Cat.count)"
   ]
  },
  {
   "cell_type": "code",
   "execution_count": null,
   "metadata": {
    "ExecuteTime": {
     "end_time": "2022-02-26T02:28:12.379782Z",
     "start_time": "2022-02-26T02:28:12.370804Z"
    }
   },
   "outputs": [],
   "source": [
    "print(b)"
   ]
  },
  {
   "cell_type": "code",
   "execution_count": null,
   "metadata": {
    "ExecuteTime": {
     "end_time": "2022-02-22T08:29:46.923865Z",
     "start_time": "2022-02-22T08:29:46.916332Z"
    }
   },
   "outputs": [],
   "source": [
    "print('Количество:', Cat.count)\n",
    "print('Количество через экземпляр:', b.count)"
   ]
  },
  {
   "attachments": {},
   "cell_type": "markdown",
   "metadata": {},
   "source": [
    "Объектно-ориентированное программирование базируется на трех китах:\n",
    "- *Инкапсуляция* — это определение классов — пользовательских типов данных, объединяющих своё содержимое в единый тип и реализующих некоторые операции или методы над ним. Классы обычно являются основой модульности, инкапсуляции и абстракции данных в языках ООП.\n",
    "- *Наследование* — способ определения нового типа, когда новый тип наследует элементы (свойства и методы) существующего, модифицируя или расширяя их.\n",
    "- *Полиморфизм* — позволяет единообразно ссылаться на объекты различных классов (обычно внутри некоторой иерархии). Это делает классы ещё удобнее и облегчает расширение и поддержку программ, основанных на них.\n",
    "В языке Python поддержаны эти концепции."
   ]
  },
  {
   "cell_type": "markdown",
   "metadata": {
    "ExecuteTime": {
     "end_time": "2022-02-22T08:49:06.318646Z",
     "start_time": "2022-02-22T08:49:06.297701Z"
    }
   },
   "source": [
    "![map_of_OOP](https://younglinux.info/sites/default/files/images/python/oop_scheme.png)"
   ]
  },
  {
   "cell_type": "markdown",
   "metadata": {},
   "source": [
    "# Инкапсуляция"
   ]
  },
  {
   "cell_type": "markdown",
   "metadata": {
    "ExecuteTime": {
     "end_time": "2022-02-22T08:30:08.181418Z",
     "start_time": "2022-02-22T08:30:08.171446Z"
    }
   },
   "source": [
    "## Методы\n",
    "\n",
    "Методы это функции в классе, которые имеют доступ к экземпляру, от которого вызываются.\n"
   ]
  },
  {
   "cell_type": "code",
   "execution_count": 1,
   "metadata": {
    "ExecuteTime": {
     "end_time": "2023-04-20T02:39:01.414834Z",
     "start_time": "2023-04-20T02:39:01.392891Z"
    }
   },
   "outputs": [
    {
     "name": "stdout",
     "output_type": "stream",
     "text": [
      "Павел приютил: Пушок\n",
      "Алексей приютил: Барсик\n"
     ]
    }
   ],
   "source": [
    "#создадим класс \"человеков\"\n",
    "class Human:\n",
    "    def __init__(self, name, age):\n",
    "        self.name = name\n",
    "        self.age = age\n",
    "        self.pets = []\n",
    "    \n",
    "    def add_pet(self, pet):\n",
    "        print(f'{self.name} приютил: {pet.name}')\n",
    "        self.pets.append(pet)\n",
    "        \n",
    "#создадим класс котиков\n",
    "class Cat:\n",
    "    def __init__(self, name):\n",
    "        self.name = name\n",
    "        \n",
    "#создадим самих котиков\n",
    "a = Cat('Пушок')\n",
    "b = Cat('Барсик')\n",
    "\n",
    "#создадим парочку \"человеков\"\n",
    "pavel = Human('Павел', age=34)\n",
    "alex = Human('Алексей', age=25)\n",
    "\n",
    "pavel.add_pet(a)\n",
    "alex.add_pet(b)"
   ]
  },
  {
   "cell_type": "code",
   "execution_count": null,
   "metadata": {
    "ExecuteTime": {
     "end_time": "2022-02-26T03:15:24.455394Z",
     "start_time": "2022-02-26T03:15:24.451406Z"
    }
   },
   "outputs": [],
   "source": [
    "a.name='kfkf'"
   ]
  },
  {
   "cell_type": "markdown",
   "metadata": {},
   "source": [
    "## Внутренние данные классов\n",
    "\n",
    "Концепция инкапсуляции преполагает еще защиту внутренних методов и атрибутов от внешних изменений вне предложенного интерфейса (`private`, `protected` и `public` методы и атрибуты в некоторых языках, например, Java, C++ и т.д.)\n",
    "\n",
    "В `Python` нельзя жестко запретить доступ к внутренним данным, но есть соглашения, закрепленные языком.\n",
    "\n",
    "Если метод или атрибут начинается с нижнего подчеркивания `_`, то использование вне класса не приветствуется."
   ]
  },
  {
   "cell_type": "code",
   "execution_count": 2,
   "metadata": {
    "ExecuteTime": {
     "end_time": "2023-04-20T02:40:45.702409Z",
     "start_time": "2023-04-20T02:40:45.685455Z"
    }
   },
   "outputs": [
    {
     "name": "stdout",
     "output_type": "stream",
     "text": [
      "Привет, я Вовка П.!\n",
      "Мне 70 лет.\n",
      "Вовка П.\n",
      "Тыгыдык\n"
     ]
    }
   ],
   "source": [
    "#опять создадим класс \"человеков\"\n",
    "class Human:\n",
    "    def __init__(self, name, age):\n",
    "        self._name = name\n",
    "        self._age = age\n",
    "    \n",
    "    def _say(self, text):\n",
    "        print(text)\n",
    "        \n",
    "    def say_name(self):\n",
    "        self._say(f\"Привет, я {self._name}!\")\n",
    "        \n",
    "    def say_how_old(self):\n",
    "        self._say(f\"Мне {self._age} лет.\")\n",
    "        \n",
    "#создадим человека\n",
    "alex = Human(name='Вовка П.', age=70)\n",
    "alex.say_name()\n",
    "alex.say_how_old()\n",
    "\n",
    "# Не рекомендуется!\n",
    "print(alex._name)\n",
    "alex._say('Тыгыдык')"
   ]
  },
  {
   "cell_type": "markdown",
   "metadata": {
    "ExecuteTime": {
     "end_time": "2022-02-22T08:54:50.777213Z",
     "start_time": "2022-02-22T08:54:50.771229Z"
    }
   },
   "source": [
    "## Property\n",
    "\n",
    "Для удобной реализации концепции инкапсуляции используют `property`. Это вычисляемые атрибуты, которые позволяют навесить какой-то полезный функционал на работу с атрибутами.\n",
    "\n",
    "Для начала рассмотрим предыдущий пример с необходимостью менять возраст у людей, но без `property`."
   ]
  },
  {
   "cell_type": "code",
   "execution_count": 7,
   "metadata": {
    "ExecuteTime": {
     "end_time": "2023-04-20T02:53:17.652701Z",
     "start_time": "2023-04-20T02:53:17.635784Z"
    }
   },
   "outputs": [
    {
     "name": "stdout",
     "output_type": "stream",
     "text": [
      "Привет, я Павел!\n",
      "Мне 24 лет.\n",
      "Ошибка! Возраст не может быть: -545\n",
      "Мне 24 лет.\n"
     ]
    }
   ],
   "source": [
    "class Human:\n",
    "    def __init__(self, name, age):\n",
    "        self._name = name\n",
    "        self._age = age\n",
    "    \n",
    "    def set_age(self, age_in):\n",
    "        if 0 > age_in or age_in > 140:\n",
    "            # Невалидные данные, не будем менять ничего\n",
    "            print(f'Ошибка! Возраст не может быть: {age_in}')\n",
    "            return\n",
    "        self._age = age_in\n",
    "        \n",
    "    def say_name(self):\n",
    "        print(f'Привет, я {self._name}!')\n",
    "        \n",
    "    def say_how_old(self):\n",
    "        print(f'Мне {self._age} лет.')\n",
    "        \n",
    "        \n",
    "pavel = Human('Павел', age=24)\n",
    "pavel.say_name()\n",
    "pavel.say_how_old()\n",
    "\n",
    "pavel.set_age(-545)\n",
    "pavel.say_how_old()\n"
   ]
  },
  {
   "cell_type": "markdown",
   "metadata": {
    "ExecuteTime": {
     "end_time": "2022-02-26T02:52:38.254861Z",
     "start_time": "2022-02-26T02:52:38.248906Z"
    }
   },
   "source": [
    "Что может `property`?\n",
    "\n",
    "- Конвертация метода класс в атрибуты только для чтения\n",
    "- Реализовать сеттеры и геттеры в атрибут\n",
    "\n",
    "то есть `@property` позволит вам превратить метод класса в атрибут класса. \n",
    "Это может быть очень полезно, когда нужно сделать какую-нибудь комбинацию значений.\n"
   ]
  },
  {
   "cell_type": "code",
   "execution_count": 8,
   "metadata": {
    "ExecuteTime": {
     "end_time": "2023-04-20T02:59:16.459327Z",
     "start_time": "2023-04-20T02:59:16.445846Z"
    }
   },
   "outputs": [
    {
     "name": "stdout",
     "output_type": "stream",
     "text": [
      "Привет, я Павел!\n",
      "Мне 24 лет.\n",
      "Ошибка! Возраст не может быть: -545\n",
      "Мне 24 лет.\n",
      "Мне 25 лет.\n",
      "Возраст Удален\n"
     ]
    }
   ],
   "source": [
    "class Human:\n",
    "    def __init__(self, name, age):\n",
    "        self._name = name\n",
    "        self._age = age\n",
    "    \n",
    "    @property\n",
    "    def age(self):\n",
    "        return self._age\n",
    "    \n",
    "    @age.setter\n",
    "    def age(self, age_in):\n",
    "        if 0 > age_in or age_in > 140:\n",
    "            print(f'Ошибка! Возраст не может быть: {age_in}')\n",
    "            return\n",
    "        self._age = age_in\n",
    "    \n",
    "    @age.deleter\n",
    "    def age(self):\n",
    "        self._age = None\n",
    "        print(f'Возраст Удален')\n",
    "        \n",
    "    def say_name(self):\n",
    "        print(f\"Привет, я {self._name}!\")\n",
    "        \n",
    "    def say_how_old(self):\n",
    "        print(f\"Мне {self._age} лет.\")\n",
    "        \n",
    "pavel = Human('Павел', age=24)\n",
    "pavel.say_name()\n",
    "pavel.say_how_old()\n",
    "\n",
    "pavel.age = -545\n",
    "pavel.say_how_old()\n",
    "\n",
    "pavel.age = 25\n",
    "pavel.say_how_old()\n",
    "del pavel.age\n",
    "pavel.age"
   ]
  },
  {
   "cell_type": "markdown",
   "metadata": {
    "ExecuteTime": {
     "end_time": "2022-02-26T03:13:38.056305Z",
     "start_time": "2022-02-26T03:13:38.049324Z"
    }
   },
   "source": [
    "ДОБАВИТЬ ПРО SETTER\\GETTER\\DELETER!!!!! и перенести за декораторы"
   ]
  },
  {
   "cell_type": "markdown",
   "metadata": {
    "ExecuteTime": {
     "end_time": "2023-03-17T15:37:21.120092Z",
     "start_time": "2023-03-17T15:37:21.108122Z"
    }
   },
   "source": [
    "## SETTER|GETTER|DELETER"
   ]
  },
  {
   "cell_type": "markdown",
   "metadata": {},
   "source": [
    "Метод `property` позволяет вам превращать атрибуты класса в свойства или управляемые атрибуты. Поскольку это встроенная функция, вы можете использовать ее, ничего не импортируя. Для обеспечения оптимальной производительности `property()` была реализована на языке `C`."
   ]
  },
  {
   "cell_type": "code",
   "execution_count": null,
   "metadata": {
    "ExecuteTime": {
     "end_time": "2023-03-25T03:14:29.435772Z",
     "start_time": "2023-03-25T03:14:29.425799Z"
    }
   },
   "outputs": [],
   "source": [
    "class Person:\n",
    "    def __init__(self, name, age):\n",
    "        self.name = name\n",
    "        self.age = age\n",
    "    def person_name(self):\n",
    "        return self.name\n",
    "    name_property = property(person_name)\n",
    "\n",
    "Petr = Person(\"Петька\", 26)\n",
    "print(\"Имя человека:\", Petr.name_property)"
   ]
  },
  {
   "cell_type": "markdown",
   "metadata": {
    "ExecuteTime": {
     "end_time": "2023-03-17T15:55:12.175824Z",
     "start_time": "2023-03-17T15:55:12.159867Z"
    }
   },
   "source": [
    "тот же пример через декоратор"
   ]
  },
  {
   "cell_type": "code",
   "execution_count": null,
   "metadata": {
    "ExecuteTime": {
     "end_time": "2023-03-25T03:15:42.592744Z",
     "start_time": "2023-03-25T03:15:42.582773Z"
    }
   },
   "outputs": [],
   "source": [
    "class Person:\n",
    "    # Constructor\n",
    "    def __init__(self, name, age):\n",
    "        self.name = name\n",
    "        self.age = age\n",
    "    \n",
    "    # Setting the person_name() function as a property using the @property decorator.\n",
    "    @property\n",
    "    def person_name(self):\n",
    "        return self.name\n",
    "\n",
    "Petr = Person(\"Петька\", 26)\n",
    "print(\"Имя человека:\", Petr.person_name)"
   ]
  },
  {
   "cell_type": "markdown",
   "metadata": {},
   "source": [
    "Чем лучше декоратор???"
   ]
  },
  {
   "cell_type": "markdown",
   "metadata": {},
   "source": [
    "- это более простой, удобочитаемый и лаконичный способ объявления свойств.\n",
    "- это простая возможность повторного использования кода, мы можем повторно использовать одно и то же имя свойства, чтобы избежать создания новых имен для методов getter, setter и deleter.\n",
    "- можем легко получать, устанавливать и удалять значения, избегая прямого доступа или изменения данных, используя только объект."
   ]
  },
  {
   "cell_type": "markdown",
   "metadata": {
    "ExecuteTime": {
     "end_time": "2023-03-17T15:57:15.764817Z",
     "start_time": "2023-03-17T15:57:15.754825Z"
    }
   },
   "source": [
    "### Setter"
   ]
  },
  {
   "cell_type": "markdown",
   "metadata": {},
   "source": [
    "В примере выше мы видели синтаксис и использование декоратора `@property`, но у него есть проблема - мы не можем использовать свойство для изменения атрибутов или значений класса.\n",
    "Декоратор `@property` можно использовать только для доступа к значению, возвращаемому функцией `person_name()`. Мы не можем изменить значение, просто используя декоратор `@property` в Python."
   ]
  },
  {
   "cell_type": "markdown",
   "metadata": {},
   "source": [
    "Для этого существует специальный метод декоратора, называемый `setter method`, который позволяет изменять значение функции\n",
    "\n",
    "Cинтаксис: `@property-name.setter`"
   ]
  },
  {
   "cell_type": "code",
   "execution_count": 10,
   "metadata": {
    "ExecuteTime": {
     "end_time": "2023-04-20T03:08:58.706622Z",
     "start_time": "2023-04-20T03:08:58.698674Z"
    }
   },
   "outputs": [
    {
     "name": "stdout",
     "output_type": "stream",
     "text": [
      "Старое имя: Петька\n",
      "Новое имя: Иван Иваныч\n"
     ]
    }
   ],
   "source": [
    "class Person:\n",
    "    def __init__(self, name, age):\n",
    "        self.name = name\n",
    "        self.age = age\n",
    "\n",
    "    # устанавливаем person_name() как свойство через декоратор\n",
    "    @property\n",
    "    def person_name(self):\n",
    "        return self.name\n",
    "\n",
    "    # устанавливаем person_name() как setter через декоратор\n",
    "    @person_name.setter\n",
    "    def person_name(self, new_name):\n",
    "        self.name = new_name\n",
    "\n",
    "Petr = Person(\"Петька\", 26)\n",
    "print(\"Старое имя:\", Petr.person_name)\n",
    "\n",
    "new_name = \"Иван Иваныч\"\n",
    "# изменяем имя\n",
    "Petr.person_name = new_name\n",
    "\n",
    "print(\"Новое имя:\", Petr.person_name)"
   ]
  },
  {
   "cell_type": "markdown",
   "metadata": {
    "ExecuteTime": {
     "end_time": "2023-03-17T16:05:15.059483Z",
     "start_time": "2023-03-17T16:05:15.054496Z"
    }
   },
   "source": [
    "### Deleter"
   ]
  },
  {
   "cell_type": "markdown",
   "metadata": {},
   "source": [
    "Для удаления свойства класса существет `Deleter`\n",
    "Синтаксис: `@property-name.deleter`\n",
    "\n",
    "!После удаления свойства доступ к нему с использованием того же экземпляра будет невозможен.\n",
    "\n",
    "Когда мы используем ключевое слово `del` с именем класса, вызывается метод удаления, который удалит свойство класса."
   ]
  },
  {
   "cell_type": "code",
   "execution_count": 11,
   "metadata": {
    "ExecuteTime": {
     "end_time": "2023-04-20T03:11:36.825908Z",
     "start_time": "2023-04-20T03:11:36.803967Z"
    }
   },
   "outputs": [
    {
     "name": "stdout",
     "output_type": "stream",
     "text": [
      "Имя: Петька\n",
      "Имя: Vovka\n",
      "Петька is deleted.\n",
      "Возраст: 26\n"
     ]
    },
    {
     "ename": "AttributeError",
     "evalue": "'Person' object has no attribute 'name'",
     "output_type": "error",
     "traceback": [
      "\u001b[1;31m---------------------------------------------------------------------------\u001b[0m",
      "\u001b[1;31mAttributeError\u001b[0m                            Traceback (most recent call last)",
      "\u001b[1;32m<ipython-input-11-34846c5a268a>\u001b[0m in \u001b[0;36m<module>\u001b[1;34m\u001b[0m\n\u001b[0;32m     32\u001b[0m \u001b[1;33m\u001b[0m\u001b[0m\n\u001b[0;32m     33\u001b[0m \u001b[0mprint\u001b[0m\u001b[1;33m(\u001b[0m\u001b[1;34m\"Возраст:\"\u001b[0m\u001b[1;33m,\u001b[0m \u001b[0mPetr\u001b[0m\u001b[1;33m.\u001b[0m\u001b[0mage\u001b[0m\u001b[1;33m)\u001b[0m\u001b[1;33m\u001b[0m\u001b[1;33m\u001b[0m\u001b[0m\n\u001b[1;32m---> 34\u001b[1;33m \u001b[0mprint\u001b[0m\u001b[1;33m(\u001b[0m\u001b[1;34m\"Имя:\"\u001b[0m\u001b[1;33m,\u001b[0m \u001b[0mPetr\u001b[0m\u001b[1;33m.\u001b[0m\u001b[0mperson_name\u001b[0m\u001b[1;33m)\u001b[0m\u001b[1;33m\u001b[0m\u001b[1;33m\u001b[0m\u001b[0m\n\u001b[0m",
      "\u001b[1;32m<ipython-input-11-34846c5a268a>\u001b[0m in \u001b[0;36mperson_name\u001b[1;34m(self)\u001b[0m\n\u001b[0;32m      7\u001b[0m     \u001b[1;33m@\u001b[0m\u001b[0mproperty\u001b[0m\u001b[1;33m\u001b[0m\u001b[1;33m\u001b[0m\u001b[0m\n\u001b[0;32m      8\u001b[0m     \u001b[1;32mdef\u001b[0m \u001b[0mperson_name\u001b[0m\u001b[1;33m(\u001b[0m\u001b[0mself\u001b[0m\u001b[1;33m)\u001b[0m\u001b[1;33m:\u001b[0m\u001b[1;33m\u001b[0m\u001b[1;33m\u001b[0m\u001b[0m\n\u001b[1;32m----> 9\u001b[1;33m         \u001b[1;32mreturn\u001b[0m \u001b[0mself\u001b[0m\u001b[1;33m.\u001b[0m\u001b[0mname\u001b[0m\u001b[1;33m\u001b[0m\u001b[1;33m\u001b[0m\u001b[0m\n\u001b[0m\u001b[0;32m     10\u001b[0m \u001b[1;33m\u001b[0m\u001b[0m\n\u001b[0;32m     11\u001b[0m     \u001b[1;31m# устанавливаем person_name() setter\u001b[0m\u001b[1;33m\u001b[0m\u001b[1;33m\u001b[0m\u001b[1;33m\u001b[0m\u001b[0m\n",
      "\u001b[1;31mAttributeError\u001b[0m: 'Person' object has no attribute 'name'"
     ]
    }
   ],
   "source": [
    "class Person:\n",
    "    def __init__(self, name, age):\n",
    "        self.name = name\n",
    "        self.age = age\n",
    "\n",
    "    # устанавливаем person_name() как свойство через декоратор\n",
    "    @property\n",
    "    def person_name(self):\n",
    "        return self.name\n",
    "\n",
    "    # устанавливаем person_name() setter \n",
    "    @person_name.setter\n",
    "    def person_name(self, new_name):\n",
    "        self.name = new_name\n",
    "\n",
    "    # устанавливаем person_name() deleter \n",
    "    @person_name.deleter\n",
    "    def person_name(self):\n",
    "        print(self.name, \"is deleted.\")\n",
    "        del self.name \n",
    "\n",
    "        \n",
    "        \n",
    "Petr = Person(\"Петька\", 26)\n",
    "print(\"Имя:\", Petr.person_name)\n",
    "\n",
    "Vladimir = Person(\"Vovka\", 28)\n",
    "print(\"Имя:\", Vladimir.person_name)\n",
    "\n",
    "del Petr.person_name\n",
    "\n",
    "\n",
    "print(\"Возраст:\", Petr.age)\n",
    "print(\"Имя:\", Petr.person_name)\n"
   ]
  },
  {
   "cell_type": "markdown",
   "metadata": {},
   "source": [
    "После того, как мы вызвали метод `del`, атрибут `name` был удален, поэтому вышла ошибка `AttributeError`.\n",
    "\n",
    "Метод `del` не устанавливает значение `None`, а удаляет значение из класса."
   ]
  },
  {
   "cell_type": "code",
   "execution_count": 12,
   "metadata": {
    "ExecuteTime": {
     "end_time": "2023-04-20T03:12:18.213203Z",
     "start_time": "2023-04-20T03:12:18.207219Z"
    }
   },
   "outputs": [
    {
     "name": "stdout",
     "output_type": "stream",
     "text": [
      "Имя: Vovka\n",
      "<__main__.Person object at 0x00000238DE2AB548> <__main__.Person object at 0x00000238DE2A40C8>\n"
     ]
    }
   ],
   "source": [
    "print(\"Имя:\", Vladimir.person_name)\n",
    "\n",
    "print(Petr,Vladimir)"
   ]
  },
  {
   "cell_type": "markdown",
   "metadata": {
    "ExecuteTime": {
     "end_time": "2023-03-17T16:14:38.798960Z",
     "start_time": "2023-03-17T16:14:38.780412Z"
    }
   },
   "source": [
    "еще пример "
   ]
  },
  {
   "cell_type": "markdown",
   "metadata": {
    "ExecuteTime": {
     "end_time": "2023-03-18T02:03:32.707299Z",
     "start_time": "2023-03-18T02:03:32.701294Z"
    }
   },
   "source": [
    "без сеттеров и геттеров:"
   ]
  },
  {
   "cell_type": "code",
   "execution_count": null,
   "metadata": {
    "ExecuteTime": {
     "end_time": "2023-03-18T02:28:40.247912Z",
     "start_time": "2023-03-18T02:28:40.229960Z"
    }
   },
   "outputs": [],
   "source": [
    "class Student:\n",
    "    def __init__(self, name=\"\", roll=0):\n",
    "        self.name = name\n",
    "        self.roll_no = roll\n",
    "\n",
    "\n",
    "Tom = Student()\n",
    "Tom.name = \"Tom Hardy\"\n",
    "Tom.roll_no = 5\n",
    "print(f\"Name:{Tom.name}, Roll Number:{Tom.roll_no}\")"
   ]
  },
  {
   "cell_type": "markdown",
   "metadata": {},
   "source": [
    "тоже самое с сеттером и геттером:"
   ]
  },
  {
   "cell_type": "code",
   "execution_count": null,
   "metadata": {
    "ExecuteTime": {
     "end_time": "2023-03-18T02:29:43.882943Z",
     "start_time": "2023-03-18T02:29:43.867987Z"
    }
   },
   "outputs": [],
   "source": [
    "class Student:\n",
    "    def __init__(self, name=\"\"):\n",
    "        self._name = name\n",
    "\n",
    "    # getter method для получения значения класса\n",
    "    def get_name(self):\n",
    "        return self.name\n",
    "\n",
    "    # setter method для установления значения\n",
    "    def set_name(self, new_value):\n",
    "        self.name = new_value\n",
    "Tom = Student()\n",
    "\n",
    "# Setting the name of the student-Tom:\n",
    "Tom.set_name(\"Tom Hardy\")\n",
    "\n",
    "# Getting the name of the student-Tom:\n",
    "print(f\"Name: {Tom.get_name()}\")"
   ]
  },
  {
   "cell_type": "markdown",
   "metadata": {},
   "source": [
    "пример с декораторами"
   ]
  },
  {
   "cell_type": "code",
   "execution_count": null,
   "metadata": {
    "ExecuteTime": {
     "end_time": "2023-03-18T02:32:22.438781Z",
     "start_time": "2023-03-18T02:32:22.418311Z"
    }
   },
   "outputs": [],
   "source": [
    "class Circle:\n",
    "    def __init__(self, radius):\n",
    "        self._radius = radius\n",
    "    @property\n",
    "    def radius(self):\n",
    "        \"\"\"The radius property.\"\"\"\n",
    "        print(\"Get radius\")\n",
    "        return self._radius\n",
    "    @radius.setter\n",
    "    def radius(self, value):\n",
    "        print(\"Set radius\")\n",
    "        self._radius = value\n",
    "    @radius.deleter\n",
    "    def radius(self):\n",
    "        print(\"Delete radius\")\n",
    "        del self._radius"
   ]
  },
  {
   "cell_type": "code",
   "execution_count": null,
   "metadata": {
    "ExecuteTime": {
     "end_time": "2023-03-18T02:32:22.693547Z",
     "start_time": "2023-03-18T02:32:22.641685Z"
    }
   },
   "outputs": [],
   "source": [
    "dir(Circle.radius)"
   ]
  },
  {
   "cell_type": "markdown",
   "metadata": {
    "ExecuteTime": {
     "end_time": "2023-03-17T17:10:13.513562Z",
     "start_time": "2023-03-17T17:10:13.498990Z"
    }
   },
   "source": [
    "Геттер и сеттеры позволяют нам инкапсулировать наши данные в объекте, то есть данные менять используя методы"
   ]
  },
  {
   "cell_type": "markdown",
   "metadata": {},
   "source": [
    "## Декораторы"
   ]
  },
  {
   "cell_type": "markdown",
   "metadata": {},
   "source": [
    "*Декоратор* - функция, которая принимает другую функцию в качестве аргумента. Декоратор модифицирует или улучшает принятую функцию и выдает измененную. Это значит, что когда вы вызываете декорированную функцию, вы получите функцию, которая может иметь небольшие отличия, в виде дополнительных функций, совмещенных с базовым определением"
   ]
  },
  {
   "cell_type": "code",
   "execution_count": 4,
   "metadata": {
    "ExecuteTime": {
     "end_time": "2023-04-20T02:46:41.876065Z",
     "start_time": "2023-04-20T02:46:41.871080Z"
    }
   },
   "outputs": [],
   "source": [
    "def a_function():\n",
    "    \"\"\"Обычная функция\"\"\"\n",
    "    return \"1+1\""
   ]
  },
  {
   "cell_type": "code",
   "execution_count": 5,
   "metadata": {
    "ExecuteTime": {
     "end_time": "2023-04-20T02:46:42.317331Z",
     "start_time": "2023-04-20T02:46:42.309355Z"
    }
   },
   "outputs": [
    {
     "name": "stdout",
     "output_type": "stream",
     "text": [
      "1+1\n",
      "Результат от 1+1 это 2\n"
     ]
    }
   ],
   "source": [
    "def another_function(func):\n",
    "    \"\"\"\n",
    "    Функция которая принимает другую функцию.\n",
    "    \"\"\"\n",
    "    def other_func():\n",
    "        val = \"Результат от %s это %s\" % (func(), eval(func()))\n",
    "        return val\n",
    "    \n",
    "    return other_func\n",
    "\n",
    "value = a_function()\n",
    "print(value)\n",
    "\n",
    "decorator = another_function(a_function)\n",
    "print(decorator())"
   ]
  },
  {
   "cell_type": "markdown",
   "metadata": {},
   "source": [
    "Так и работает декоратор. Мы создали одну функцию и передали её другой второй функции. Вторая функция является функцией декоратора. Декоратор модифицирует или усиливает функцию, которая была передана и возвращает модификацию. Давайте немного изменим код, чтобы превратить `another_function` в декоратор:"
   ]
  },
  {
   "cell_type": "code",
   "execution_count": 6,
   "metadata": {
    "ExecuteTime": {
     "end_time": "2023-04-20T02:50:25.284745Z",
     "start_time": "2023-04-20T02:50:25.271848Z"
    }
   },
   "outputs": [
    {
     "name": "stdout",
     "output_type": "stream",
     "text": [
      "Результат от 1+1 это 2\n"
     ]
    }
   ],
   "source": [
    "def another_function(func):\n",
    "    \"\"\"\n",
    "    Функция которая принимает другую функцию.\n",
    "    \"\"\"\n",
    "    \n",
    "    def other_func():\n",
    "        val = \"Результат от %s это %s\" % (func(),eval(func()))\n",
    "        return val\n",
    "    \n",
    "    return other_func\n",
    " \n",
    "@another_function\n",
    "def a_function():\n",
    "    \"\"\"Обычная функция\"\"\"\n",
    "    return \"1+1\"\n",
    "\n",
    "value = a_function()\n",
    "print(value)"
   ]
  },
  {
   "cell_type": "code",
   "execution_count": null,
   "metadata": {
    "ExecuteTime": {
     "end_time": "2022-02-26T03:03:55.917982Z",
     "start_time": "2022-02-26T03:03:55.913449Z"
    }
   },
   "outputs": [],
   "source": []
  },
  {
   "cell_type": "markdown",
   "metadata": {},
   "source": [
    "Что может `property`?\n",
    "\n",
    "- Конвертация метода класс в атрибуты только для чтения\n",
    "- Реализовать сеттеры и геттеры в атрибут\n",
    "\n",
    "то есть `@property` позволит вам превратить метод класса в атрибут класса. \n",
    "Это может быть очень полезно, когда нужно сделать какую-нибудь комбинацию значений.\n",
    "\n"
   ]
  },
  {
   "cell_type": "markdown",
   "metadata": {
    "ExecuteTime": {
     "end_time": "2022-02-22T08:58:02.530147Z",
     "start_time": "2022-02-22T08:58:02.522656Z"
    }
   },
   "source": [
    "A теперь снова с `property`:"
   ]
  },
  {
   "cell_type": "code",
   "execution_count": null,
   "metadata": {
    "ExecuteTime": {
     "end_time": "2022-02-22T10:59:41.470387Z",
     "start_time": "2022-02-22T10:59:41.429120Z"
    }
   },
   "outputs": [],
   "source": [
    "class Human:\n",
    "    def __init__(self, name, age):\n",
    "        self._name = name\n",
    "        self._age = age\n",
    "    \n",
    "    @property\n",
    "    def age(self):\n",
    "        return self._age\n",
    "    \n",
    "    @age.setter\n",
    "    def age(self, age_in):\n",
    "        if 0 > age_in or age_in > 140:\n",
    "            print(f'Ошибка! Возраст не может быть: {age_in}')\n",
    "            return\n",
    "        self._age = age_in\n",
    "    \n",
    "    @age.deleter\n",
    "    def age(self):\n",
    "        print(f'Ошибка! Возраст нельзя удалить')\n",
    "        \n",
    "    def say_name(self):\n",
    "        print(f\"Привет, я {self._name}!\")\n",
    "        \n",
    "    def say_how_old(self):\n",
    "        print(f\"Мне {self._age} лет.\")\n",
    "        \n",
    "        \n",
    "pavel = Human('Павел', age=24)\n",
    "pavel.say_name()\n",
    "pavel.say_how_old()\n",
    "\n",
    "pavel.age = -545\n",
    "pavel.say_how_old()\n",
    "\n",
    "pavel.age = 25\n",
    "pavel.say_how_old()"
   ]
  },
  {
   "cell_type": "markdown",
   "metadata": {},
   "source": [
    "## Статические методы\n",
    "\n",
    "Бывает нужно сделать функцию, которая не оперирует ни самим классом, ни экземпляром. В таком случае можно сделать функцию просто вне класса, но если по какой-то логике она относится к классу, а в других местах использоваться не будет, то можно создать статический метод, который не принимает аргумент `self`."
   ]
  },
  {
   "cell_type": "code",
   "execution_count": 14,
   "metadata": {
    "ExecuteTime": {
     "end_time": "2023-04-20T03:23:05.603913Z",
     "start_time": "2023-04-20T03:23:05.593911Z"
    }
   },
   "outputs": [
    {
     "name": "stdout",
     "output_type": "stream",
     "text": [
      "False\n",
      "True\n"
     ]
    }
   ],
   "source": [
    "class Human:\n",
    "    def __init__(self, name):\n",
    "        self.name = name\n",
    "        \n",
    "    @staticmethod\n",
    "    def is_age_valid(age):\n",
    "        return 0 <= age < 140\n",
    "\n",
    "# К таким методам можно обращаться от класса\n",
    "print(Human.is_age_valid(1800))\n",
    "\n",
    "# И от объектов\n",
    "pavel = Human('Павел')\n",
    "print(pavel.is_age_valid(14))"
   ]
  },
  {
   "cell_type": "code",
   "execution_count": null,
   "metadata": {},
   "outputs": [],
   "source": []
  },
  {
   "cell_type": "markdown",
   "metadata": {},
   "source": [
    "# Наследование "
   ]
  },
  {
   "cell_type": "markdown",
   "metadata": {},
   "source": [
    "\n",
    "*Наследование* — процесс, при котором один класс принимает атрибуты и методы другого.\n",
    "Вновь созданные классы называются *дочерними* классами, а классы, из которых происходят дочерние классы, называются *родительскими* классами.\n",
    "\n",
    "Важно отметить, что переопределенные дочерние классы или расширяют функциональность (например, атрибуты и поведение) родительских классов. Другими словами, дочерние классы наследуют все атрибуты и поведение родителя, но могут также определять другое поведение, которому нужно следовать."
   ]
  },
  {
   "cell_type": "markdown",
   "metadata": {
    "ExecuteTime": {
     "end_time": "2022-02-22T06:30:06.751589Z",
     "start_time": "2022-02-22T06:30:06.516203Z"
    }
   },
   "source": [
    "![Titanic Art](https://myrusakov.ru/images/articles/inheritans-python.png)"
   ]
  },
  {
   "cell_type": "markdown",
   "metadata": {
    "ExecuteTime": {
     "end_time": "2022-02-22T06:31:08.084981Z",
     "start_time": "2022-02-22T06:31:08.065618Z"
    }
   },
   "source": [
    "\n",
    "Самый базовый тип класса — это `object`, который, как правило, все остальные классы наследуют как родительский.\n",
    "Когда вы определяете новый класс, `Python` неявно использует `object` в качестве родительского класса. Таким образом, следующие два определения эквивалентны:"
   ]
  },
  {
   "cell_type": "code",
   "execution_count": 15,
   "metadata": {
    "ExecuteTime": {
     "end_time": "2023-04-20T03:25:06.741916Z",
     "start_time": "2023-04-20T03:25:06.736365Z"
    }
   },
   "outputs": [],
   "source": [
    "class Dog(object): \n",
    "    pass\n",
    "\n",
    "\n",
    "class Dog:\n",
    "    pass\n",
    "\n",
    "#стоит заметить, что это фишка 3го питона"
   ]
  },
  {
   "cell_type": "code",
   "execution_count": null,
   "metadata": {
    "ExecuteTime": {
     "end_time": "2022-03-12T02:16:41.721488Z",
     "start_time": "2022-03-12T02:16:41.707214Z"
    }
   },
   "outputs": [],
   "source": [
    "class Dog:\n",
    "    def __init__(self, breed):\n",
    "        self.breed = breed"
   ]
  },
  {
   "cell_type": "code",
   "execution_count": null,
   "metadata": {
    "ExecuteTime": {
     "end_time": "2022-03-12T02:18:23.917460Z",
     "start_time": "2022-03-12T02:18:23.907374Z"
    }
   },
   "outputs": [],
   "source": [
    "spencer = Dog(\"German Shepard\")\n",
    "spencer.breed\n",
    "sara = Dog(\"Boston Terrier\")\n",
    "sara.breed"
   ]
  },
  {
   "cell_type": "markdown",
   "metadata": {},
   "source": [
    "У каждой породы собак есть немного отличающиеся поведения. Чтобы принять это во внимание, давайте создадим отдельные классы для каждой породы. Это дочерние классы родительского класса `Dog`."
   ]
  },
  {
   "cell_type": "code",
   "execution_count": 16,
   "metadata": {
    "ExecuteTime": {
     "end_time": "2023-04-20T03:27:48.762436Z",
     "start_time": "2023-04-20T03:27:48.745482Z"
    }
   },
   "outputs": [
    {
     "name": "stdout",
     "output_type": "stream",
     "text": [
      "Jim is 12 years old\n",
      "Jim прыгает средненько\n"
     ]
    }
   ],
   "source": [
    "# Родительский класс\n",
    "class Dog:\n",
    "    # Атрибуты класса\n",
    "    species = 'млекопитающие'\n",
    "    # Атрибуты инициализатора/экземпляра\n",
    "    def __init__(self, name, age):\n",
    "        self.name = name\n",
    "        self.age = age\n",
    "    # Метод класса\n",
    "    def description(self):\n",
    "        return \"{} is {} years old\".format(self.name, self.age)\n",
    "    # Метод класса\n",
    "    def speak(self, sound):\n",
    "        return \"{} says {}\".format(self.name, sound)\n",
    "    \n",
    "# Дочерний класс (наследникз класса Dog)\n",
    "class RussellTerrier(Dog):\n",
    "    def run(self, speed):\n",
    "        return \"{} бегает {}\".format(self.name, speed)\n",
    "    \n",
    "# Дочерний класс (наследникз класса Dog)\n",
    "class Bulldog(Dog):\n",
    "    def run(self, speed):\n",
    "        return \"{} прыгает {}\".format(self.name, speed)\n",
    "    \n",
    "# Дочерние классы наследуют атрибуты и поведения из родительского класса\n",
    "jim = Bulldog(\"Jim\", 12)\n",
    "print(jim.description())\n",
    "\n",
    "# Дочерние классы имеют определенные атрибуты, а также и поведение\n",
    "print(jim.run(\"средненько\"))"
   ]
  },
  {
   "cell_type": "markdown",
   "metadata": {},
   "source": [
    "Функция `isinstance()` используется для определения, является ли экземпляр также экземпляром определенного родительского класса."
   ]
  },
  {
   "cell_type": "code",
   "execution_count": 18,
   "metadata": {
    "ExecuteTime": {
     "end_time": "2023-04-20T03:29:00.287523Z",
     "start_time": "2023-04-20T03:29:00.271532Z"
    }
   },
   "outputs": [
    {
     "name": "stdout",
     "output_type": "stream",
     "text": [
      "True\n",
      "True\n",
      "False\n"
     ]
    },
    {
     "ename": "TypeError",
     "evalue": "isinstance() arg 2 must be a type or tuple of types",
     "output_type": "error",
     "traceback": [
      "\u001b[1;31m---------------------------------------------------------------------------\u001b[0m",
      "\u001b[1;31mTypeError\u001b[0m                                 Traceback (most recent call last)",
      "\u001b[1;32m<ipython-input-18-0573c541b8d6>\u001b[0m in \u001b[0;36m<module>\u001b[1;34m\u001b[0m\n\u001b[0;32m     11\u001b[0m \u001b[1;33m\u001b[0m\u001b[0m\n\u001b[0;32m     12\u001b[0m \u001b[1;31m# Является ли julie and instance of jim?\u001b[0m\u001b[1;33m\u001b[0m\u001b[1;33m\u001b[0m\u001b[1;33m\u001b[0m\u001b[0m\n\u001b[1;32m---> 13\u001b[1;33m \u001b[0mprint\u001b[0m\u001b[1;33m(\u001b[0m\u001b[0misinstance\u001b[0m\u001b[1;33m(\u001b[0m\u001b[0mjulie\u001b[0m\u001b[1;33m,\u001b[0m \u001b[0mjim\u001b[0m\u001b[1;33m)\u001b[0m\u001b[1;33m)\u001b[0m\u001b[1;33m\u001b[0m\u001b[1;33m\u001b[0m\u001b[0m\n\u001b[0m",
      "\u001b[1;31mTypeError\u001b[0m: isinstance() arg 2 must be a type or tuple of types"
     ]
    }
   ],
   "source": [
    "# Является ли jim примером Dog()?\n",
    "print(isinstance(jim, Dog)) \n",
    "\n",
    "# Является ли julie примером Dog()?\n",
    "julie = Dog(\"Julie\", 100)\n",
    "print(isinstance(julie, Dog))\n",
    "\n",
    "# Является ли johnny walker примером Bulldog()\n",
    "johnnywalker = RussellTerrier(\"Johnny Walker\", 4)\n",
    "print(isinstance(johnnywalker, Bulldog))\n",
    "\n",
    "# Является ли julie and instance of jim?\n",
    "print(isinstance(julie, jim))"
   ]
  },
  {
   "cell_type": "markdown",
   "metadata": {},
   "source": [
    "Есть смысл? И `jim` и `julie` являются экземплярами класса `Dog()`, а `johnnywalker` не является экземпляром класса `Bulldog()`. \n",
    "Затем в качестве проверки работоспособности мы проверили, является ли `julie` экземпляром `jim`, что невозможно, поскольку `jim` является экземпляром класса, а не самого класса — отсюда и причина `TypeError`."
   ]
  },
  {
   "cell_type": "markdown",
   "metadata": {
    "ExecuteTime": {
     "end_time": "2022-02-22T11:27:07.165311Z",
     "start_time": "2022-02-22T11:27:07.087097Z"
    }
   },
   "source": [
    "Также, возможно множественное наследование:"
   ]
  },
  {
   "cell_type": "code",
   "execution_count": null,
   "metadata": {
    "ExecuteTime": {
     "end_time": "2022-03-12T02:25:34.257654Z",
     "start_time": "2022-03-12T02:25:34.253308Z"
    }
   },
   "outputs": [],
   "source": [
    "class A:\n",
    "    pass\n",
    "        \n",
    "class B:\n",
    "    pass\n",
    "\n",
    "class C(A, B):\n",
    "    pass"
   ]
  },
  {
   "cell_type": "code",
   "execution_count": 19,
   "metadata": {
    "ExecuteTime": {
     "end_time": "2023-04-20T03:31:03.870667Z",
     "start_time": "2023-04-20T03:31:03.857711Z"
    }
   },
   "outputs": [],
   "source": [
    "class Horse: \n",
    "    maxHeight = 200; \n",
    "    \n",
    "    def __init__(self, name, horsehair):\n",
    "        self.name = name\n",
    "        self.horsehair = horsehair \n",
    "\n",
    "    def run(self):\n",
    "        print (\"Horse run\")   \n",
    "     \n",
    "    def showName(self):\n",
    "        print (\"Name: (Horse's method): \", self.name)   \n",
    "        \n",
    "    def showInfo(self):\n",
    "        print (\"Horse Info\")   \n",
    "\n",
    "class Donkey: \n",
    "    def __init__(self, name, weight):        \n",
    "        self.name = name\n",
    "        self.weight = weight   \n",
    "        \n",
    "    def run(self):\n",
    "        print (\"Donkey run\")     \n",
    "        \n",
    "    def showName(self):        \n",
    "        print (\"Name: (Donkey's method): \", self.name)   \n",
    "\n",
    "    def showInfo(self):\n",
    "        print (\"Donkey Info\")               \n"
   ]
  },
  {
   "cell_type": "code",
   "execution_count": 20,
   "metadata": {
    "ExecuteTime": {
     "end_time": "2023-04-20T03:33:35.149662Z",
     "start_time": "2023-04-20T03:33:35.124587Z"
    }
   },
   "outputs": [
    {
     "name": "stdout",
     "output_type": "stream",
     "text": [
      "Max height  200\n",
      "Mule run\n",
      "Name: (Horse's method):  Mule\n",
      "-- Call Mule.showInfo: --\n",
      "Horse Info\n",
      "Donkey Info\n"
     ]
    }
   ],
   "source": [
    "# Класс Mule унаследован от Horse и Donkey.\n",
    "class Mule(Horse, Donkey): \n",
    "    def __init__(self, name, hair, weight): \n",
    "        Horse.__init__(self, name, hair)  \n",
    "        Donkey.__init__(self, name, weight) \n",
    "    \n",
    "    def run(self):   \n",
    "        print (\"Mule run\")   \n",
    "\n",
    "    def showInfo(self):\n",
    "        print (\"-- Call Mule.showInfo: --\")\n",
    "        Horse.showInfo(self)\n",
    "        Donkey.showInfo(self)\n",
    "        \n",
    "# Переменная 'maxHeight', унаследована от класса Horse.\n",
    "print (\"Max height \", Mule.maxHeight)\n",
    "\n",
    "mule = Mule(\"Mule\", 20, 1000) \n",
    "mule.run()\n",
    "mule.showName()  \n",
    "mule.showInfo()"
   ]
  },
  {
   "cell_type": "markdown",
   "metadata": {},
   "source": [
    "# Полиморфизм"
   ]
  },
  {
   "cell_type": "markdown",
   "metadata": {},
   "source": [
    "Мы можем сложить два числа, и можем сложить две строки. При этом получим разный результат, так как числа и строки являются разными классами"
   ]
  },
  {
   "cell_type": "code",
   "execution_count": 21,
   "metadata": {
    "ExecuteTime": {
     "end_time": "2023-04-20T03:34:27.182089Z",
     "start_time": "2023-04-20T03:34:27.154164Z"
    }
   },
   "outputs": [
    {
     "data": {
      "text/plain": [
       "2"
      ]
     },
     "execution_count": 21,
     "metadata": {},
     "output_type": "execute_result"
    }
   ],
   "source": [
    "1 + 1\n"
   ]
  },
  {
   "cell_type": "code",
   "execution_count": 29,
   "metadata": {
    "ExecuteTime": {
     "end_time": "2023-04-20T03:36:14.293357Z",
     "start_time": "2023-04-20T03:36:14.288375Z"
    }
   },
   "outputs": [
    {
     "data": {
      "text/plain": [
       "11"
      ]
     },
     "execution_count": 29,
     "metadata": {},
     "output_type": "execute_result"
    }
   ],
   "source": [
    "\"1\" + \"1\""
   ]
  },
  {
   "cell_type": "markdown",
   "metadata": {},
   "source": [
    "Например, два разных класса содержат метод total, однако инструкции каждого предусматривают совершенно разные операции. Так в классе T1 – это прибавление 10 к аргументу, в T2 – подсчет длины строки символов. В зависимости от того, к объекту какого класса применяется метод total, выполняются те или иные инструкции."
   ]
  },
  {
   "cell_type": "code",
   "execution_count": 31,
   "metadata": {
    "ExecuteTime": {
     "end_time": "2023-04-20T03:43:02.972738Z",
     "start_time": "2023-04-20T03:43:02.956780Z"
    }
   },
   "outputs": [
    {
     "name": "stdout",
     "output_type": "stream",
     "text": [
      "45\n",
      "4\n"
     ]
    }
   ],
   "source": [
    "class T1:\n",
    "    def __init__(self):\n",
    "        self.n = 10\n",
    " \n",
    "    def total(self, a):\n",
    "        return self.n + int(a)\n",
    " \n",
    " \n",
    "class T2:\n",
    "    def __init__(self):\n",
    "        self.string = 'Hi'\n",
    " \n",
    "    def total(self, a):\n",
    "        return len(self.string + str(a))\n",
    " \n",
    " \n",
    "t1 = T1()\n",
    "t2 = T2()\n",
    " \n",
    "print(t1.total(35))\n",
    "print(t2.total(35))"
   ]
  },
  {
   "cell_type": "code",
   "execution_count": 32,
   "metadata": {
    "ExecuteTime": {
     "end_time": "2023-04-20T03:44:37.299599Z",
     "start_time": "2023-04-20T03:44:37.286629Z"
    }
   },
   "outputs": [
    {
     "name": "stdout",
     "output_type": "stream",
     "text": [
      "Meow\n",
      "I am a cat. My name is Kitty. I am 2.5 years old.\n",
      "Bark\n",
      "I am a dog. My name is Fluffy. I am 4 years old.\n"
     ]
    }
   ],
   "source": [
    "class Cat:\n",
    "    def __init__(self, name, age):\n",
    "        self.name = name\n",
    "        self.age = age\n",
    "\n",
    "    def info(self):\n",
    "        print(f\"I am a cat. My name is {self.name}. I am {self.age} years old.\")\n",
    "\n",
    "    def make_sound(self):\n",
    "        print(\"Meow\")\n",
    "\n",
    "\n",
    "class Dog:\n",
    "    def __init__(self, name, age):\n",
    "        self.name = name\n",
    "        self.age = age\n",
    "\n",
    "    def info(self):\n",
    "        print(f\"I am a dog. My name is {self.name}. I am {self.age} years old.\")\n",
    "\n",
    "    def make_sound(self):\n",
    "        print(\"Bark\")\n",
    "\n",
    "\n",
    "cat1 = Cat(\"Kitty\", 2.5)\n",
    "dog1 = Dog(\"Fluffy\", 4)\n",
    "for animal in (cat1, dog1):\n",
    "    animal.make_sound()\n",
    "    animal.info()"
   ]
  },
  {
   "cell_type": "markdown",
   "metadata": {},
   "source": [
    "Здесь мы создали два класса `Cat` и `Dog`. У них похожая структура и они имеют методы с одними и теми же именами `info()` и `make_sound()`.\n",
    "\n",
    "Однако, заметьте, что мы не создавали общего класса-родителя и не соединяли классы вместе каким-либо другим способом. Даже если мы можем упаковать два разных объекта в кортеж и итерировать по нему, мы будем использовать общую переменную `animal`. Это возможно благодаря полиморфизму."
   ]
  },
  {
   "cell_type": "markdown",
   "metadata": {},
   "source": [
    "Как и в других языках программирования, в `Python` дочерние классы могут наследовать методы и атрибуты родительского класса. Мы можем переопределить некоторые методы и атрибуты специально для того, чтобы они соответствовали дочернему классу, и это поведение нам известно как переопределение метода(*method overriding*).\n",
    "\n",
    "Полиморфизм позволяет нам иметь доступ к этим переопределённым методам и атрибутам, которые имеют то же самое имя, что и в родительском классе.\n",
    "\n",
    "Пример:"
   ]
  },
  {
   "cell_type": "code",
   "execution_count": 33,
   "metadata": {
    "ExecuteTime": {
     "end_time": "2023-04-20T03:48:13.325129Z",
     "start_time": "2023-04-20T03:48:13.299199Z"
    }
   },
   "outputs": [
    {
     "name": "stdout",
     "output_type": "stream",
     "text": [
      "Circle\n",
      "I am a two-dimensional shape.\n",
      "Squares have each angle equal to 90 degrees.\n",
      "153.93804002589985 16\n"
     ]
    }
   ],
   "source": [
    "from math import pi\n",
    "\n",
    "\n",
    "class Shape:\n",
    "    def __init__(self, name):\n",
    "        self.name = name\n",
    "\n",
    "    def area(self):\n",
    "        pass\n",
    "\n",
    "    def fact(self):\n",
    "        return \"I am a two-dimensional shape.\"\n",
    "\n",
    "    def __str__(self):\n",
    "        return self.name\n",
    "\n",
    "\n",
    "class Square(Shape):\n",
    "    def __init__(self, length):\n",
    "        super().__init__(\"КвадратАБСД\")\n",
    "        self.length = length\n",
    "\n",
    "    def area(self):\n",
    "        return self.length**2\n",
    "\n",
    "    def fact(self):\n",
    "        return \"Squares have each angle equal to 90 degrees.\"\n",
    "\n",
    "\n",
    "class Circle(Shape):\n",
    "    def __init__(self, radius):\n",
    "        super().__init__(\"Circle\")\n",
    "        self.radius = radius\n",
    "\n",
    "    def area(self):\n",
    "        return pi*self.radius**2\n",
    "\n",
    "\n",
    "a = Square(4)\n",
    "b = Circle(7)\n",
    "print(b)\n",
    "print(b.fact())\n",
    "print(a.fact())\n",
    "print(b.area(),a.area())\n"
   ]
  },
  {
   "cell_type": "markdown",
   "metadata": {},
   "source": [
    "Тут такие методы как `__str__()`, которые не были переопределены в дочерних классах, используются из родительского класса.\n",
    "\n",
    "Благодаря полиморфизму интерпретатор питона автоматически распознаёт, что метод `fact()` для объекта `a`(класса `Square`) переопределён. И использует тот, который определён в дочернем классе.\n",
    "\n",
    "С другой стороны, так как метод `fact()` для объекта b не переопределён, то используется метод с таким именем из родительского класса(`Shape`)."
   ]
  },
  {
   "cell_type": "markdown",
   "metadata": {
    "ExecuteTime": {
     "end_time": "2022-02-22T11:59:43.928383Z",
     "start_time": "2022-02-22T11:59:43.838739Z"
    }
   },
   "source": [
    "![Titanic Art](https://habrastorage.org/r/w1560/getpro/habr/upload_files/f30/928/1dc/f309281dce21e6fdde2e5fcd7e5d101e.png)"
   ]
  },
  {
   "cell_type": "code",
   "execution_count": null,
   "metadata": {},
   "outputs": [],
   "source": []
  },
  {
   "cell_type": "markdown",
   "metadata": {},
   "source": [
    "# Super()"
   ]
  },
  {
   "cell_type": "markdown",
   "metadata": {},
   "source": [
    "Возвращает прокси-объект, который делегирует вызовы методов классу-родителю (или собрату) текущего класса (или класса на выбор, если он указан, как параметр).\n",
    "\n",
    "Основное ее применение и польза – получения доступа из класса наследника к методам класса-родителя в том случае, если наследник переопределил эти методы\n",
    "\n",
    "Прокси - это заместитель, т.е. это объект, который по смыслу должен вести себя почти так же, как замещенный объект. Как правило он перенаправляет вызовы своих методов к другому объекту."
   ]
  },
  {
   "cell_type": "code",
   "execution_count": null,
   "metadata": {
    "ExecuteTime": {
     "end_time": "2023-03-18T03:10:33.433965Z",
     "start_time": "2023-03-18T03:10:33.419005Z"
    }
   },
   "outputs": [],
   "source": [
    "class Base:\n",
    "    def price(self):\n",
    "        return 10\n",
    "class Discount(Base):\n",
    "    def price(self):\n",
    "        return 8"
   ]
  },
  {
   "cell_type": "markdown",
   "metadata": {},
   "source": [
    "Гораздо лучше было бы получить цену из родительского класса Base и умножить ее на коэффициент 0.8, что даст 20% скидку. Однако, если мы вызовем self.price() в методе price() мы создадим бесконечную рекурсию, так как это и есть один и тот же метод класса Discount! Тут же нужен метод Base.price(). Тогда его и вызовем по имени класса:"
   ]
  },
  {
   "cell_type": "code",
   "execution_count": null,
   "metadata": {
    "ExecuteTime": {
     "end_time": "2023-03-18T03:10:54.670757Z",
     "start_time": "2023-03-18T03:10:54.657793Z"
    }
   },
   "outputs": [],
   "source": [
    "class Discount(Base):\n",
    "    def price(self):\n",
    "        return Base.price(self) * 0.8"
   ]
  },
  {
   "cell_type": "markdown",
   "metadata": {},
   "source": [
    "если иерархия классов начнет разрастаться?"
   ]
  },
  {
   "cell_type": "code",
   "execution_count": null,
   "metadata": {
    "ExecuteTime": {
     "end_time": "2023-03-18T03:11:45.803006Z",
     "start_time": "2023-03-18T03:11:45.781070Z"
    }
   },
   "outputs": [],
   "source": [
    "class Base:\n",
    "    def price(self):\n",
    "        return 10\n",
    "class InterFoo(Base):\n",
    "    def price(self):\n",
    "        return Base.price(self) * 1.1\n",
    "class Discount(InterFoo):\n",
    "    def price(self):\n",
    "        return InterFoo.price(self) * 0.8 "
   ]
  },
  {
   "cell_type": "markdown",
   "metadata": {},
   "source": [
    "Будучи вызванным без параметров внутри какого-либо класса, super() вернет прокси-объект, методы которого будут искаться только в классах, стоящих ранее, чем он"
   ]
  },
  {
   "cell_type": "code",
   "execution_count": 34,
   "metadata": {
    "ExecuteTime": {
     "end_time": "2023-04-20T03:56:04.131541Z",
     "start_time": "2023-04-20T03:56:04.122557Z"
    }
   },
   "outputs": [],
   "source": [
    "class Base:\n",
    "    def price(self):\n",
    "        return 10\n",
    "class InterFoo(Base):\n",
    "    def price(self):\n",
    "        return super().price() * 1.1\n",
    "class Discount(InterFoo):\n",
    "    def price(self):\n",
    "        return super().price() * 0.8"
   ]
  },
  {
   "cell_type": "markdown",
   "metadata": {
    "ExecuteTime": {
     "end_time": "2022-03-26T03:03:37.342906Z",
     "start_time": "2022-03-26T03:03:37.285597Z"
    }
   },
   "source": [
    "![Price](https://tirinox.ru/wp-content/uploads/2020/10/%D0%A1%D0%BD%D0%B8%D0%BC%D0%BE%D0%BA-%D1%8D%D0%BA%D1%80%D0%B0%D0%BD%D0%B0-2020-10-28-%D0%B2-13.54.53-1536x367.png)"
   ]
  },
  {
   "cell_type": "markdown",
   "metadata": {
    "ExecuteTime": {
     "end_time": "2022-03-26T03:04:31.939890Z",
     "start_time": "2022-03-26T03:04:31.933683Z"
    }
   },
   "source": [
    "Функция может принимать 2 параметра. `super([type [, object]])`. Первый аргумент – это тип, к предкам которого мы хотим обратиться. А второй аргумент – это объект, к которому надо привязаться. Оба аргумента необязательные. И нужны когда вы используете функцию вне класса."
   ]
  },
  {
   "cell_type": "code",
   "execution_count": 35,
   "metadata": {
    "ExecuteTime": {
     "end_time": "2023-04-20T03:56:06.557867Z",
     "start_time": "2023-04-20T03:56:06.552872Z"
    }
   },
   "outputs": [
    {
     "name": "stdout",
     "output_type": "stream",
     "text": [
      "11.0\n"
     ]
    }
   ],
   "source": [
    "d = Discount()\n",
    "print(super(Discount, d).price())"
   ]
  },
  {
   "cell_type": "markdown",
   "metadata": {},
   "source": [
    "В случае множественного наследования `super()` необязательно указывает на родителя текущего класса, а может указывать и на собрата. Все зависит от структуры наследования и начальной точки вызова метода"
   ]
  },
  {
   "cell_type": "code",
   "execution_count": 40,
   "metadata": {
    "ExecuteTime": {
     "end_time": "2023-04-20T04:04:29.282941Z",
     "start_time": "2023-04-20T04:04:29.274959Z"
    }
   },
   "outputs": [],
   "source": [
    "class O:\n",
    "    def method(self):\n",
    "        print('I am O')\n",
    "class A(O):\n",
    "    def method(self):\n",
    "        super().method()\n",
    "        print('I am A')\n",
    "class B(O):\n",
    "    def method(self):\n",
    "        super().method()\n",
    "        print('I am B')\n",
    "class C(A, B):\n",
    "    def method(self):\n",
    "        super().method()\n",
    "        print('I am C')"
   ]
  },
  {
   "cell_type": "code",
   "execution_count": null,
   "metadata": {},
   "outputs": [],
   "source": []
  },
  {
   "cell_type": "code",
   "execution_count": 41,
   "metadata": {
    "ExecuteTime": {
     "end_time": "2023-04-20T04:04:31.364779Z",
     "start_time": "2023-04-20T04:04:31.356801Z"
    }
   },
   "outputs": [
    {
     "name": "stdout",
     "output_type": "stream",
     "text": [
      "I am O\n",
      "I am A\n",
      "I am B\n",
      "I am C\n"
     ]
    }
   ],
   "source": [
    "C().method()"
   ]
  },
  {
   "cell_type": "code",
   "execution_count": 37,
   "metadata": {
    "ExecuteTime": {
     "end_time": "2023-04-20T04:02:44.546255Z",
     "start_time": "2023-04-20T04:02:44.525311Z"
    }
   },
   "outputs": [
    {
     "data": {
      "text/plain": [
       "[__main__.C, __main__.A, __main__.B, __main__.O, object]"
      ]
     },
     "execution_count": 37,
     "metadata": {},
     "output_type": "execute_result"
    }
   ],
   "source": [
    "C.mro()\n"
   ]
  },
  {
   "cell_type": "code",
   "execution_count": 42,
   "metadata": {
    "ExecuteTime": {
     "end_time": "2023-04-20T04:06:51.758813Z",
     "start_time": "2023-04-20T04:06:51.742854Z"
    }
   },
   "outputs": [
    {
     "name": "stdout",
     "output_type": "stream",
     "text": [
      "C->B->A->O->object\n"
     ]
    }
   ],
   "source": [
    "print(*[c.__name__ for c in C.mro()], sep='->')"
   ]
  },
  {
   "cell_type": "markdown",
   "metadata": {
    "ExecuteTime": {
     "end_time": "2023-03-18T04:03:19.950075Z",
     "start_time": "2023-03-18T04:03:19.941131Z"
    }
   },
   "source": [
    "Пример когда нельзя линериазовать:"
   ]
  },
  {
   "cell_type": "code",
   "execution_count": 48,
   "metadata": {
    "ExecuteTime": {
     "end_time": "2023-04-20T04:15:02.207117Z",
     "start_time": "2023-04-20T04:15:02.188173Z"
    }
   },
   "outputs": [
    {
     "ename": "TypeError",
     "evalue": "Cannot create a consistent method resolution\norder (MRO) for bases A, B",
     "output_type": "error",
     "traceback": [
      "\u001b[1;31m---------------------------------------------------------------------------\u001b[0m",
      "\u001b[1;31mTypeError\u001b[0m                                 Traceback (most recent call last)",
      "\u001b[1;32m<ipython-input-48-21221566e76c>\u001b[0m in \u001b[0;36m<module>\u001b[1;34m\u001b[0m\n\u001b[0;32m     18\u001b[0m         \u001b[0msuper\u001b[0m\u001b[1;33m(\u001b[0m\u001b[1;33m)\u001b[0m\u001b[1;33m.\u001b[0m\u001b[0mmethod\u001b[0m\u001b[1;33m(\u001b[0m\u001b[1;33m)\u001b[0m\u001b[1;33m\u001b[0m\u001b[1;33m\u001b[0m\u001b[0m\n\u001b[0;32m     19\u001b[0m         \u001b[0mprint\u001b[0m\u001b[1;33m(\u001b[0m\u001b[1;34m'I am C1'\u001b[0m\u001b[1;33m)\u001b[0m\u001b[1;33m\u001b[0m\u001b[1;33m\u001b[0m\u001b[0m\n\u001b[1;32m---> 20\u001b[1;33m \u001b[1;32mclass\u001b[0m \u001b[0mD\u001b[0m\u001b[1;33m(\u001b[0m\u001b[0mC\u001b[0m\u001b[1;33m,\u001b[0m \u001b[0mC1\u001b[0m\u001b[1;33m)\u001b[0m\u001b[1;33m:\u001b[0m\u001b[1;33m\u001b[0m\u001b[1;33m\u001b[0m\u001b[0m\n\u001b[0m\u001b[0;32m     21\u001b[0m     \u001b[1;32mdef\u001b[0m \u001b[0mmethod\u001b[0m\u001b[1;33m(\u001b[0m\u001b[0mself\u001b[0m\u001b[1;33m)\u001b[0m\u001b[1;33m:\u001b[0m\u001b[1;33m\u001b[0m\u001b[1;33m\u001b[0m\u001b[0m\n\u001b[0;32m     22\u001b[0m         \u001b[0msuper\u001b[0m\u001b[1;33m(\u001b[0m\u001b[1;33m)\u001b[0m\u001b[1;33m.\u001b[0m\u001b[0mmethod\u001b[0m\u001b[1;33m(\u001b[0m\u001b[1;33m)\u001b[0m\u001b[1;33m\u001b[0m\u001b[1;33m\u001b[0m\u001b[0m\n",
      "\u001b[1;31mTypeError\u001b[0m: Cannot create a consistent method resolution\norder (MRO) for bases A, B"
     ]
    }
   ],
   "source": [
    "class O:\n",
    "    def method(self):\n",
    "        print('I am O')\n",
    "class A(O):\n",
    "    def method(self):\n",
    "        super().method()\n",
    "        print('I am A')\n",
    "class B(O):\n",
    "    def method(self):\n",
    "        super().method()\n",
    "        print('I am B')\n",
    "class C(A, B):\n",
    "    def method(self):\n",
    "        super().method()\n",
    "        print('I am C')\n",
    "class C1(B, A):\n",
    "    def method(self):\n",
    "        super().method()\n",
    "        print('I am C1')\n",
    "class D(C, C1):\n",
    "    def method(self):\n",
    "        super().method()\n",
    "        print('I am D')      \n",
    "        "
   ]
  },
  {
   "cell_type": "code",
   "execution_count": 50,
   "metadata": {
    "ExecuteTime": {
     "end_time": "2023-04-20T04:15:11.692163Z",
     "start_time": "2023-04-20T04:15:11.683189Z"
    }
   },
   "outputs": [
    {
     "name": "stdout",
     "output_type": "stream",
     "text": [
      "C->A->B->O->object\n"
     ]
    }
   ],
   "source": [
    "print(*[c.__name__ for c in C.mro()], sep='->')"
   ]
  },
  {
   "cell_type": "markdown",
   "metadata": {},
   "source": [
    "Заметим, что каждый метод вызывается ровно один раз. \n",
    "- C вызывает родителя A\n",
    "- A вызывает своего брата B\n",
    "- B вызывает их общего родителя O.\n",
    "\n",
    "Но! Стоит нам вызвать `A().method()`, он уже не будет вызывать `B().method()`, так как класса B нет среди его родителей, он брат, а родитель у класс А только один – это O. А о братьях он и знать не хочет"
   ]
  },
  {
   "cell_type": "code",
   "execution_count": null,
   "metadata": {
    "ExecuteTime": {
     "end_time": "2022-03-26T03:27:49.646078Z",
     "start_time": "2022-03-26T03:27:49.642118Z"
    }
   },
   "outputs": [],
   "source": [
    "A().method()"
   ]
  },
  {
   "cell_type": "markdown",
   "metadata": {},
   "source": [
    "# Задачи"
   ]
  },
  {
   "cell_type": "markdown",
   "metadata": {},
   "source": [
    "1.Создайте класс Soda (для определения типа газированной воды), принимающий 1 аргумент при инициализации (отвечающий за добавку к выбираемому лимонаду). \n",
    "В этом классе реализуйте метод show_my_drink(), выводящий на печать «Газировка и {ДОБАВКА}» в случае наличия добавки, а иначе отобразится следующая фраза: «Обычная газировка»."
   ]
  },
  {
   "cell_type": "code",
   "execution_count": null,
   "metadata": {},
   "outputs": [],
   "source": [
    "class Soda:\n",
    "    def __init__(self, additive=None):\n",
    "        self.additive = additive\n",
    "\n",
    "    def show_my_drink(self):\n",
    "        if self.additive:\n",
    "            print(f\"Газировка с {self.additive}\")\n",
    "        else:\n",
    "            print(\"Обычная газировка\")\n",
    "\n",
    "\n",
    "regular_soda = Soda()\n",
    "regular_soda.show_my_drink() \n",
    "\n",
    "soda_with_additive = Soda(\"pineapple\")\n",
    "soda_with_additive.show_my_drink() "
   ]
  },
  {
   "cell_type": "markdown",
   "metadata": {
    "ExecuteTime": {
     "end_time": "2022-02-22T11:36:14.775432Z",
     "start_time": "2022-02-22T11:36:14.701269Z"
    }
   },
   "source": [
    "2.Требуется проверить, возможно ли из представленных отрезков условной длины сформировать треугольник. Создайте класс TriangleChecker, принимающий только положительные числа. \n",
    "С помощью метода is_triangle() возвращаются следующие значения (в зависимости от ситуации):\n",
    "- Ура, можно построить треугольник!;\n",
    "- С отрицательными числами ничего не выйдет!;\n",
    "- Нужно вводить только числа!;\n",
    "- Жаль, но из этого треугольник не сделать."
   ]
  },
  {
   "cell_type": "code",
   "execution_count": 10,
   "metadata": {},
   "outputs": [],
   "source": [
    "class TriangleChecker:\n",
    "    def __init__(self, a, b, c):\n",
    "        if a <= 0 or b <= 0 or c <= 0:\n",
    "            raise ValueError(\"С отрицательными числами ничего не выйдет!\")\n",
    "        self.a = a\n",
    "        self.b = b\n",
    "        self.c = c\n",
    "    \n",
    "    def is_triangle(self):\n",
    "        try:\n",
    "            a, b, c = self.a, self.b, self.c\n",
    "        except AttributeError:\n",
    "            return \"Нужно вводить только числа!\"\n",
    "        if a <= 0 or b <= 0 or c <= 0:\n",
    "            return \"С отрицательными числами ничего не выйдет!\"\n",
    "        if a + b > c and b + c > a and a + c > b:\n",
    "            return \"Ура, можно построить треугольник!\"\n",
    "        else:\n",
    "            return \"Жаль, но из этого треугольник не сделать\""
   ]
  },
  {
   "cell_type": "markdown",
   "metadata": {},
   "source": [
    "3.Евгения создала класс KgToPounds с параметром kg, куда передается определенное количество килограмм, а с помощью метода to_pounds() они переводятся в фунты. Чтобы закрыть доступ к переменной “kg” она реализовала методы set_kg() - для задания нового значения килограммов, get_kg()  - для вывода текущего значения кг. Из-за этого возникло неудобство: нам нужно теперь использовать эти 2 метода для задания и вывода значений. Помогите ей переделать класс с использованием функции property() и свойств-декораторов. Код приведен ниже.\n",
    "\n",
    "class KgToPounds:\n",
    "\n",
    "    def __init__(self, kg):\n",
    "        self.__kg = kg\n",
    "\n",
    "    def to_pounds(self):\n",
    "        return self.__kg * 2.205\n",
    "\n",
    "    def set_kg(self, new_kg):\n",
    "        if isinstance(new_kg, (int, float)):\n",
    "            self.__kg = new_kg\n",
    "        else:\n",
    "            raise ValueError('Килограммы задаются только числами')\n",
    "    \n",
    "    def get_kg(self):\n",
    "        return self.__kg\n"
   ]
  },
  {
   "cell_type": "code",
   "execution_count": 11,
   "metadata": {},
   "outputs": [],
   "source": [
    "class KgToPounds:\n",
    "    def __init__(self, kg):\n",
    "        self.__kg = kg\n",
    "    \n",
    "    @property\n",
    "    def kg(self):\n",
    "        return self.__kg\n",
    "    \n",
    "    @kg.setter\n",
    "    def kg(self, new_kg):\n",
    "        if isinstance(new_kg, (int, float)):\n",
    "            self.__kg = new_kg\n",
    "        else:\n",
    "            raise ValueError('Килограммы задаются только числами')\n",
    "\n",
    "    def to_pounds(self):\n",
    "        return self.kg * 2.205\n",
    "    \n",
    "test = KgToPounds(100)"
   ]
  },
  {
   "attachments": {},
   "cell_type": "markdown",
   "metadata": {
    "ExecuteTime": {
     "end_time": "2022-02-22T11:40:32.831201Z",
     "start_time": "2022-02-22T11:40:32.809720Z"
    }
   },
   "source": [
    "4.(со звездочкой)\n",
    "Строки в Питоне сравниваются на основании значений символов. Т.е. если мы захотим выяснить, что больше: «Apple» или «Яблоко», – то «Яблоко» окажется бОльшим. А все потому, что английская буква «A» имеет значение 65 (берется из таблицы кодировки), а русская буква «Я» – 1071 (с помощью функции ord() это можно выяснить). Такое положение дел не устроило Анну. Она считает, что строки нужно сравнивать по количеству входящих в них символов. Для этого девушка создала класс RealString и реализовала озвученный инструментарий. Сравнивать между собой можно как объекты класса, так и обычные строки с экземплярами класса RealString. "
   ]
  },
  {
   "cell_type": "code",
   "execution_count": 16,
   "metadata": {},
   "outputs": [
    {
     "name": "stdout",
     "output_type": "stream",
     "text": [
      "False\n",
      "True\n",
      "True\n",
      "True\n"
     ]
    }
   ],
   "source": [
    "class RealString(str):\n",
    "    def __lt__(self, other):\n",
    "        return len(self) < len(other)\n",
    "\n",
    "    def __le__(self, other):\n",
    "        return len(self) <= len(other)\n",
    "\n",
    "    def __eq__(self, other):\n",
    "        return len(self) == len(other)\n",
    "\n",
    "    def __ne__(self, other):\n",
    "        return len(self) != len(other)\n",
    "\n",
    "    def __gt__(self, other):\n",
    "        return len(self) > len(other)\n",
    "\n",
    "    def __ge__(self, other):\n",
    "        return len(self) >= len(other)\n",
    "\n",
    "a = RealString('Apple') # Случайно убил котят забрав у них переменные:(\n",
    "b = RealString('Яблоко')\n",
    "print(a > b)\n",
    "print(b > a)\n",
    "print(a == 'Apple')\n",
    "print('Apple' <= b)"
   ]
  },
  {
   "cell_type": "markdown",
   "metadata": {},
   "source": [
    "6. Создать класс с двумя переменными. Добавить конструктор с входными параметрами. Добавить конструктор, инициализирующий члены класса по умолчанию. Добавить деструктор, выводящий на экран сообщение об удалении объекта."
   ]
  },
  {
   "cell_type": "code",
   "execution_count": 20,
   "metadata": {},
   "outputs": [
    {
     "name": "stdout",
     "output_type": "stream",
     "text": [
      "10 20\n",
      "0 0\n",
      "Object deleted\n"
     ]
    }
   ],
   "source": [
    "class FirstClassic:\n",
    "    def __init__(self, var1=0, var2=0):\n",
    "        self.var1 = var1\n",
    "        self.var2 = var2\n",
    "\n",
    "    def __del__(self):\n",
    "        print(\"Object deleted\")\n",
    "\n",
    "obj = FirstClassic(10, 20)\n",
    "print(obj.var1, obj.var2)  \n",
    "\n",
    "obj2 = FirstClassic()\n",
    "print(obj2.var1, obj2.var2)  \n",
    "\n",
    "del obj  "
   ]
  },
  {
   "cell_type": "markdown",
   "metadata": {},
   "source": [
    "7.Построить три класса (базовый и 3 потомка), описывающих некоторых хищных животных (один из потомков), всеядных(второй потомок) и травоядных (третий потомок). Описать в базовом классе абстрактный метод для расчета количества и типа пищи, необходимого для пропитания животного в зоопарке.\n",
    "- a) Упорядочить всю последовательность животных по убыванию количества пищи. При совпадении значений – упорядочивать данные по алфавиту по имени. Вывести идентификатор животного, имя, тип и количество потребляемой пищи для всех элементов списка.\n",
    "- b) Вывести первые 5 имен животных из полученного в пункте а) списка.\n",
    "- c) Вывести последние 3 идентификатора животных из полученного в пункте а) списка.\n",
    "- d) Организовать запись и чтение коллекции в/из файл.\n",
    "- e) Организовать обработку некорректного формата входного файла."
   ]
  },
  {
   "cell_type": "code",
   "execution_count": 24,
   "metadata": {},
   "outputs": [],
   "source": [
    "from abc import ABC, abstractmethod\n",
    "\n",
    "class Animal(ABC):\n",
    "    def __init__(self, id, name):\n",
    "        self.id = id\n",
    "        self.name = name\n",
    "    \n",
    "    @abstractmethod # ну если говорим что абстрактный, значит и декоратор прикрутим\n",
    "    def food_needed(self):\n",
    "        pass\n",
    "\n",
    "class Carnivore(Animal):\n",
    "    def __init__(self, id, name, prey):\n",
    "        super().__init__(id, name)\n",
    "        self.prey = prey\n",
    "    \n",
    "    def food_needed(self):\n",
    "        return f\"мясо животного {self.prey}\" # как правильно написать уникально? падежи ломаются -_-\n",
    "\n",
    "class Omnivore(Animal):\n",
    "    def __init__(self, id, name):\n",
    "        super().__init__(id, name)\n",
    "    \n",
    "    def food_needed(self):\n",
    "        return \"как растения(траву), так и мясо или их комбинацию\"\n",
    "\n",
    "class Herbivore(Animal):\n",
    "    def __init__(self, id, name, plant):\n",
    "        super().__init__(id, name)\n",
    "        self.plant = plant\n",
    "    \n",
    "    def food_needed(self):\n",
    "        return f\"листья {self.plant}\""
   ]
  },
  {
   "cell_type": "code",
   "execution_count": 26,
   "metadata": {},
   "outputs": [
    {
     "name": "stdout",
     "output_type": "stream",
     "text": [
      "3 - Медведь (Omnivore): как растения(траву), так и мясо или их комбинаци\n",
      "1 - Лев (Carnivore): мясо животного Зебра\n",
      "5 - Тигр (Carnivore): мясо животного Олень\n",
      "2 - Жираф (Herbivore): листья Акация\n",
      "4 - Слон (Herbivore): листья Бамбук\n",
      "\n",
      "Первые 5 животных:\n",
      "Медведь\n",
      "Лев\n",
      "Тигр\n",
      "Жираф\n",
      "Слон\n",
      "\n",
      "Последние 3 животных(айдишники):\n",
      "5\n",
      "2\n",
      "4\n",
      "\n",
      "Новые животные:\n",
      "1 - Лев (Carnivore): мясо животного Олень\n",
      "2 - Жираф (Herbivore): листья бамбук\n",
      "3 - Медведь (Omnivore): как растения(траву), так и мясо или их комбинаци\n",
      "4 - Слон (Herbivore): листья Кактус\n",
      "5 - Тигр (Carnivore): мясо животного Пицца\n"
     ]
    }
   ],
   "source": [
    "animals = [\n",
    "    Carnivore(1, \"Лев\", \"Зебра\"),\n",
    "    Herbivore(2, \"Жираф\", \"Акация\"),\n",
    "    Omnivore(3, \"Медведь\"),\n",
    "    Herbivore(4, \"Слон\", \"Бамбук\"),\n",
    "    Carnivore(5, \"Тигр\", \"Олень\")\n",
    "]\n",
    "\n",
    "sorted_animals = sorted(animals, key=lambda animal: (-len(animal.food_needed()), animal.name))\n",
    "\n",
    "for animal in sorted_animals:\n",
    "    animal_type = type(animal).__name__\n",
    "    print(f\"{animal.id} - {animal.name} ({animal_type}): {animal.food_needed()}\")\n",
    "\n",
    "print(\"\\nПервые 5 животных:\")\n",
    "for animal in sorted_animals[:5]:\n",
    "    print(animal.name)\n",
    "\n",
    "print(\"\\nПоследние 3 животных(айдишники):\")\n",
    "for animal in sorted_animals[-3:]:\n",
    "    print(animal.id)\n",
    "\n",
    "filepath = \"animals.txt\" \n",
    "with open(filepath, \"w\") as file:\n",
    "    for animal in animals:\n",
    "        animal_type = type(animal).__name__\n",
    "        file.write(f\"{animal.id},{animal.name},{animal_type}\\n\")\n",
    "\n",
    "new_animals = []\n",
    "try:\n",
    "    with open(filepath, \"r\") as file:\n",
    "        for line in file:\n",
    "            id, name, animal_type = line.strip().split(\",\")\n",
    "            if animal_type == \"Carnivore\":\n",
    "                prey = input(f\"Что {name} употребляет в пищу? \")\n",
    "                new_animals.append(Carnivore(int(id), name, prey))\n",
    "            elif animal_type == \"Omnivore\":\n",
    "                new_animals.append(Omnivore(int(id), name))\n",
    "            elif animal_type == \"Herbivore\":\n",
    "                plant = input(f\"Какое растение {name} употребляет в пищу? \")\n",
    "                new_animals.append(Herbivore(int(id), name, plant))\n",
    "            else:\n",
    "                print(f\"Некорректный тип животного: {animal_type}\")\n",
    "except FileNotFoundError:\n",
    "    print(\"Файл не найден.\")\n",
    "except ValueError:\n",
    "    print(\"Некорректный формат файла.\")\n",
    "\n",
    "print(\"\\nНовые животные:\")\n",
    "for animal in new_animals:\n",
    "    print(f\"{animal.id} - {animal.name} ({type(animal).__name__}): {animal.food_needed()}\")\n",
    "\n",
    "import os\n",
    "\n",
    "os.remove(filepath)"
   ]
  },
  {
   "cell_type": "markdown",
   "metadata": {
    "ExecuteTime": {
     "end_time": "2022-02-22T12:21:24.429347Z",
     "start_time": "2022-02-22T12:21:24.412356Z"
    }
   },
   "source": [
    "8.Создать класс Figure с методами вычисления площади и периметра, а также методом, выводящим информацию о фигуре на экран. Создать производные классы: Rectangle (прямоугольник), Circle (круг), Triangle (треугольник) со своими методами вычисления площади и периметра.Создать массив n фигур и вывести полную информацию о фигурах на экран"
   ]
  },
  {
   "cell_type": "code",
   "execution_count": 1,
   "metadata": {},
   "outputs": [],
   "source": [
    "import math\n",
    "\n",
    "class Figure: # а тут не написано создать абстрактные методы\n",
    "    def __init__(self, *args):\n",
    "        pass\n",
    "    \n",
    "    def area(self):\n",
    "        pass\n",
    "    \n",
    "    def perimeter(self):\n",
    "        pass\n",
    "    \n",
    "    def display_info(self):\n",
    "        pass\n",
    "\n",
    "class Rectangle(Figure):\n",
    "    def __init__(self, length, width):\n",
    "        self.length = length\n",
    "        self.width = width\n",
    "    \n",
    "    def area(self):\n",
    "        return self.length * self.width\n",
    "    \n",
    "    def perimeter(self):\n",
    "        return 2 * (self.length + self.width)\n",
    "    \n",
    "    def display_info(self):\n",
    "        print(f\"Rectangle: длина = {self.length}, ширина = {self.width}, S = {self.area()}, P = {self.perimeter()}\")\n",
    "\n",
    "class Circle(Figure):\n",
    "    def __init__(self, radius):\n",
    "        self.radius = radius\n",
    "    \n",
    "    def area(self):\n",
    "        return math.pi * self.radius ** 2\n",
    "    \n",
    "    def perimeter(self):\n",
    "        return 2 * math.pi * self.radius\n",
    "    \n",
    "    def display_info(self):\n",
    "        print(f\"Circle: r = {self.radius}, S = {self.area()}, P = {self.perimeter()}\")\n",
    "\n",
    "class Triangle(Figure):\n",
    "    def __init__(self, a, b, c):\n",
    "        self.a = a\n",
    "        self.b = b\n",
    "        self.c = c\n",
    "    \n",
    "    def area(self):\n",
    "        s = (self.a + self.b + self.c) / 2\n",
    "        return math.sqrt(s * (s - self.a) * (s - self.b) * (s - self.c))\n",
    "    \n",
    "    def perimeter(self):\n",
    "        return self.a + self.b + self.c\n",
    "    \n",
    "    def display_info(self):\n",
    "        print(f\"Triangle: стороны=(a:{self.a}, b:{self.b}, c:{self.c}), S={self.area()}, P={self.perimeter()}\")\n",
    "\n",
    "# Ну раз мы уже делаем фигуры, то почему бы нам не зарядить фабрику на генерацию фигур? \n",
    "class ShapeFactory:\n",
    "    @staticmethod\n",
    "    def create_shape(shape_type, *args):\n",
    "        if shape_type == \"rectangle\":\n",
    "            return Rectangle(*args)\n",
    "        elif shape_type == \"circle\":\n",
    "            return Circle(*args)\n",
    "        elif shape_type == \"triangle\":\n",
    "            return Triangle(*args)\n",
    "        else:\n",
    "            print(\"asda\")\n",
    "            raise Exception(\"Некорректная фигура!\")"
   ]
  },
  {
   "cell_type": "code",
   "execution_count": 2,
   "metadata": {},
   "outputs": [
    {
     "name": "stdout",
     "output_type": "stream",
     "text": [
      "asda\n",
      "Что-то введено некорректно:(\n",
      "Возможно вы ввели невеный тип фигуры rectangl\n",
      "Попробуйте ещё раз!\n",
      "Rectangle: длина = 1.0, ширина = 2.0, S = 2.0, P = 6.0\n",
      "Rectangle: длина = 1.0, ширина = 2.0, S = 2.0, P = 6.0\n",
      "Rectangle: длина = 1.0, ширина = 2.0, S = 2.0, P = 6.0\n"
     ]
    }
   ],
   "source": [
    "shapes = []\n",
    "n = 3\n",
    "i=0\n",
    "while(n > 0):\n",
    "    shape_type = \"\"\n",
    "    try:\n",
    "        shape_type = input(f\"Введите {i+1} тип (rectangle, circle, triangle): \")\n",
    "        args = input(f\"Введите необходимые параметры фигуры {i+1} через запятую: \")\n",
    "        args = tuple(map(float, args.split(\",\")))\n",
    "        shape = ShapeFactory.create_shape(shape_type, *args)\n",
    "        shapes.append(shape)\n",
    "        n-=1\n",
    "        i+=1\n",
    "    except Exception:\n",
    "        print(f\"Что-то введено некорректно:(\\nВозможно вы ввели неверный тип фигуры {shape_type}\\nПопробуйте ещё раз!\")\n",
    "        \n",
    "\n",
    "for shape in shapes:\n",
    "    shape.display_info()"
   ]
  }
 ],
 "metadata": {
  "kernelspec": {
   "display_name": "Python 3",
   "language": "python",
   "name": "python3"
  },
  "language_info": {
   "codemirror_mode": {
    "name": "ipython",
    "version": 3
   },
   "file_extension": ".py",
   "mimetype": "text/x-python",
   "name": "python",
   "nbconvert_exporter": "python",
   "pygments_lexer": "ipython3",
   "version": "3.9.13"
  }
 },
 "nbformat": 4,
 "nbformat_minor": 2
}
